{
 "cells": [
  {
   "cell_type": "markdown",
   "metadata": {},
   "source": [
    "Привет еще раз! меня зовут Люман Аблаев. Сегодня я проверю твой проект.\n",
    "<br> Дальнейшее общение будет происходить на \"ты\" если это не вызывает никаких проблем.\n",
    "<br> Желательно реагировать на красные комментарии ('исправил', 'не понятно как исправить ошибку', ...)\n",
    "<br> Пожалуйста, не удаляй комментарии ревьюера, так как они повышают качество повторного ревью.\n",
    "\n",
    "Комментарии будут в <font color='green'>зеленой</font>, <font color='blue'>синей</font> или <font color='red'>красной</font> рамках:\n",
    "\n",
    "\n",
    "<div class=\"alert alert-block alert-success\">\n",
    "<b>Успех:</b> Если все сделано отлично\n",
    "</div>\n",
    "\n",
    "<div class=\"alert alert-block alert-info\">\n",
    "<b>Совет: </b> Если можно немного улучшить\n",
    "</div>\n",
    "\n",
    "<div class=\"alert alert-block alert-danger\">\n",
    "<b>Ошибка:</b> Если требуются исправления. Работа не может быть принята с красными комментариями.\n",
    "</div>\n",
    "\n",
    "-------------------\n",
    "\n",
    "Будет очень хорошо, если ты будешь помечать свои действия следующим образом:\n",
    "<div class=\"alert alert-block alert-warning\">\n",
    "<b>Комментарий студента:</b> ..\n",
    "</div>\n",
    "<div class=\"alert alert-block alert-warning\">\n",
    "<b>Изменения:</b> Были внесены следующие изменения ...\n",
    "</div>\n",
    "\n",
    "<font color='orange' style='font-size:24px; font-weight:bold'>Общее впечатление</font>\n",
    "* Спасибо за очередную качественную работу, было интересно ее проверять.\n",
    "- Я оставил некоторые советы надеюсь они будут полезными или интересными.\n",
    "- Есть некоторые недочеты, которые нужно поправить, но у тебя это не должно занять много времени)\n",
    "- Жду обновленную работу"
   ]
  },
  {
   "cell_type": "markdown",
   "metadata": {},
   "source": [
    "<div class=\"alert alert-block alert-warning\">\n",
    "<b>Комментарий студента:</b>\n",
    "    Люман, привет! Спасибо за отличное ревью!<br>\n",
    "</div>\n"
   ]
  },
  {
   "cell_type": "markdown",
   "metadata": {},
   "source": [
    "<font color='orange' style='font-size:24px; font-weight:bold'>Общее впечатление[2]</font>\n",
    "* Спасибо за усердность!\n",
    "- Было приятно с тобой сотрудничать.\n",
    "- Недочеты исправлены - работа полностью корректна\n",
    "- Не буду больше задерживать, продолжай в том же духе."
   ]
  },
  {
   "cell_type": "markdown",
   "metadata": {
    "toc": true
   },
   "source": [
    "<h1>Содержание<span class=\"tocSkip\"></span></h1>\n",
    "<div class=\"toc\"><ul class=\"toc-item\"><li><span><a href=\"#Подготовка-данных\" data-toc-modified-id=\"Подготовка-данных-1\"><span class=\"toc-item-num\">1&nbsp;&nbsp;</span>Подготовка данных</a></span><ul class=\"toc-item\"><li><span><a href=\"#Импорт-библиотек-и-вспомогательные-константы\" data-toc-modified-id=\"Импорт-библиотек-и-вспомогательные-константы-1.1\"><span class=\"toc-item-num\">1.1&nbsp;&nbsp;</span>Импорт библиотек и вспомогательные константы</a></span></li><li><span><a href=\"#Импорт-данных\" data-toc-modified-id=\"Импорт-данных-1.2\"><span class=\"toc-item-num\">1.2&nbsp;&nbsp;</span>Импорт данных</a></span></li><li><span><a href=\"#Обзор-и-анализ-датафрейма\" data-toc-modified-id=\"Обзор-и-анализ-датафрейма-1.3\"><span class=\"toc-item-num\">1.3&nbsp;&nbsp;</span>Обзор и анализ датафрейма</a></span><ul class=\"toc-item\"><li><span><a href=\"#Вывод-по-общему-обзору-датафрейма\" data-toc-modified-id=\"Вывод-по-общему-обзору-датафрейма-1.3.1\"><span class=\"toc-item-num\">1.3.1&nbsp;&nbsp;</span>Вывод по общему обзору датафрейма</a></span></li></ul></li><li><span><a href=\"#Анализ-полей\" data-toc-modified-id=\"Анализ-полей-1.4\"><span class=\"toc-item-num\">1.4&nbsp;&nbsp;</span>Анализ полей</a></span><ul class=\"toc-item\"><li><span><a href=\"#RowNumber\" data-toc-modified-id=\"RowNumber-1.4.1\"><span class=\"toc-item-num\">1.4.1&nbsp;&nbsp;</span>RowNumber</a></span></li><li><span><a href=\"#CustomerId\" data-toc-modified-id=\"CustomerId-1.4.2\"><span class=\"toc-item-num\">1.4.2&nbsp;&nbsp;</span>CustomerId</a></span></li><li><span><a href=\"#Surname\" data-toc-modified-id=\"Surname-1.4.3\"><span class=\"toc-item-num\">1.4.3&nbsp;&nbsp;</span>Surname</a></span></li><li><span><a href=\"#CreditScore\" data-toc-modified-id=\"CreditScore-1.4.4\"><span class=\"toc-item-num\">1.4.4&nbsp;&nbsp;</span>CreditScore</a></span></li><li><span><a href=\"#Geography\" data-toc-modified-id=\"Geography-1.4.5\"><span class=\"toc-item-num\">1.4.5&nbsp;&nbsp;</span>Geography</a></span></li><li><span><a href=\"#Gender\" data-toc-modified-id=\"Gender-1.4.6\"><span class=\"toc-item-num\">1.4.6&nbsp;&nbsp;</span>Gender</a></span></li><li><span><a href=\"#Age\" data-toc-modified-id=\"Age-1.4.7\"><span class=\"toc-item-num\">1.4.7&nbsp;&nbsp;</span>Age</a></span></li><li><span><a href=\"#Tenure\" data-toc-modified-id=\"Tenure-1.4.8\"><span class=\"toc-item-num\">1.4.8&nbsp;&nbsp;</span>Tenure</a></span></li><li><span><a href=\"#Balance\" data-toc-modified-id=\"Balance-1.4.9\"><span class=\"toc-item-num\">1.4.9&nbsp;&nbsp;</span>Balance</a></span></li><li><span><a href=\"#NumOfProducts\" data-toc-modified-id=\"NumOfProducts-1.4.10\"><span class=\"toc-item-num\">1.4.10&nbsp;&nbsp;</span>NumOfProducts</a></span></li><li><span><a href=\"#HasCrCard,-IsActiveMember\" data-toc-modified-id=\"HasCrCard,-IsActiveMember-1.4.11\"><span class=\"toc-item-num\">1.4.11&nbsp;&nbsp;</span>HasCrCard, IsActiveMember</a></span></li><li><span><a href=\"#EstimatedSalary\" data-toc-modified-id=\"EstimatedSalary-1.4.12\"><span class=\"toc-item-num\">1.4.12&nbsp;&nbsp;</span>EstimatedSalary</a></span></li><li><span><a href=\"#Exited\" data-toc-modified-id=\"Exited-1.4.13\"><span class=\"toc-item-num\">1.4.13&nbsp;&nbsp;</span>Exited</a></span></li></ul></li><li><span><a href=\"#Заполнение-пропусков\" data-toc-modified-id=\"Заполнение-пропусков-1.5\"><span class=\"toc-item-num\">1.5&nbsp;&nbsp;</span>Заполнение пропусков</a></span><ul class=\"toc-item\"><li><span><a href=\"#Tenure\" data-toc-modified-id=\"Tenure-1.5.1\"><span class=\"toc-item-num\">1.5.1&nbsp;&nbsp;</span>Tenure</a></span></li></ul></li><li><span><a href=\"#Подготовка-данных-для-обучения-(подготовка-признаков)\" data-toc-modified-id=\"Подготовка-данных-для-обучения-(подготовка-признаков)-1.6\"><span class=\"toc-item-num\">1.6&nbsp;&nbsp;</span>Подготовка данных для обучения (подготовка признаков)</a></span><ul class=\"toc-item\"><li><span><a href=\"#Поля,-не-учавствующие-в-обучении\" data-toc-modified-id=\"Поля,-не-учавствующие-в-обучении-1.6.1\"><span class=\"toc-item-num\">1.6.1&nbsp;&nbsp;</span>Поля, не учавствующие в обучении</a></span></li><li><span><a href=\"#Прямое-кодирование\" data-toc-modified-id=\"Прямое-кодирование-1.6.2\"><span class=\"toc-item-num\">1.6.2&nbsp;&nbsp;</span>Прямое кодирование</a></span></li><li><span><a href=\"#Подготовим-обучающую,-валидационную-и-тестовую-выборки-и-целевые-признаки\" data-toc-modified-id=\"Подготовим-обучающую,-валидационную-и-тестовую-выборки-и-целевые-признаки-1.6.3\"><span class=\"toc-item-num\">1.6.3&nbsp;&nbsp;</span>Подготовим обучающую, валидационную и тестовую выборки и целевые признаки</a></span></li><li><span><a href=\"#Масштабирование-признаков\" data-toc-modified-id=\"Масштабирование-признаков-1.6.4\"><span class=\"toc-item-num\">1.6.4&nbsp;&nbsp;</span>Масштабирование признаков</a></span></li></ul></li><li><span><a href=\"#Общий-вывод-по-качеству-данных\" data-toc-modified-id=\"Общий-вывод-по-качеству-данных-1.7\"><span class=\"toc-item-num\">1.7&nbsp;&nbsp;</span>Общий вывод по качеству данных</a></span></li></ul></li><li><span><a href=\"#Исследование-задачи\" data-toc-modified-id=\"Исследование-задачи-2\"><span class=\"toc-item-num\">2&nbsp;&nbsp;</span>Исследование задачи</a></span><ul class=\"toc-item\"><li><span><a href=\"#Проверим-баланс-классов\" data-toc-modified-id=\"Проверим-баланс-классов-2.1\"><span class=\"toc-item-num\">2.1&nbsp;&nbsp;</span>Проверим баланс классов</a></span><ul class=\"toc-item\"><li><span><a href=\"#Подготовим-вспомогательные-структуры-данных-для-проверки-баланса-классов\" data-toc-modified-id=\"Подготовим-вспомогательные-структуры-данных-для-проверки-баланса-классов-2.1.1\"><span class=\"toc-item-num\">2.1.1&nbsp;&nbsp;</span>Подготовим вспомогательные структуры данных для проверки баланса классов</a></span></li><li><span><a href=\"#Заготовка-для-проверки-моделей\" data-toc-modified-id=\"Заготовка-для-проверки-моделей-2.1.2\"><span class=\"toc-item-num\">2.1.2&nbsp;&nbsp;</span>Заготовка для проверки моделей</a></span></li><li><span><a href=\"#Значения-балансировки-классов-для-разных-моделей\" data-toc-modified-id=\"Значения-балансировки-классов-для-разных-моделей-2.1.3\"><span class=\"toc-item-num\">2.1.3&nbsp;&nbsp;</span>Значения балансировки классов для разных моделей</a></span></li></ul></li><li><span><a href=\"#Выводы-по-балансу-классов\" data-toc-modified-id=\"Выводы-по-балансу-классов-2.2\"><span class=\"toc-item-num\">2.2&nbsp;&nbsp;</span>Выводы по балансу классов</a></span></li></ul></li><li><span><a href=\"#Борьба-с-дисбалансом\" data-toc-modified-id=\"Борьба-с-дисбалансом-3\"><span class=\"toc-item-num\">3&nbsp;&nbsp;</span>Борьба с дисбалансом</a></span><ul class=\"toc-item\"><li><span><a href=\"#Балансировка-веса-классов\" data-toc-modified-id=\"Балансировка-веса-классов-3.1\"><span class=\"toc-item-num\">3.1&nbsp;&nbsp;</span>Балансировка веса классов</a></span><ul class=\"toc-item\"><li><span><a href=\"#Вывод-для-метода-балансировки-&quot;Балансировка-веса-классов&quot;\" data-toc-modified-id=\"Вывод-для-метода-балансировки-&quot;Балансировка-веса-классов&quot;-3.1.1\"><span class=\"toc-item-num\">3.1.1&nbsp;&nbsp;</span>Вывод для метода балансировки \"Балансировка веса классов\"</a></span></li></ul></li><li><span><a href=\"#Увеличение-выборки\" data-toc-modified-id=\"Увеличение-выборки-3.2\"><span class=\"toc-item-num\">3.2&nbsp;&nbsp;</span>Увеличение выборки</a></span><ul class=\"toc-item\"><li><span><a href=\"#Вывод-для-метода-балансировки-&quot;Увеличение-выборки&quot;\" data-toc-modified-id=\"Вывод-для-метода-балансировки-&quot;Увеличение-выборки&quot;-3.2.1\"><span class=\"toc-item-num\">3.2.1&nbsp;&nbsp;</span>Вывод для метода балансировки \"Увеличение выборки\"</a></span></li></ul></li><li><span><a href=\"#Уменьшение-выборки\" data-toc-modified-id=\"Уменьшение-выборки-3.3\"><span class=\"toc-item-num\">3.3&nbsp;&nbsp;</span>Уменьшение выборки</a></span><ul class=\"toc-item\"><li><span><a href=\"#Вывод-для-метода-балансировки-&quot;Уменьшение-выборки&quot;\" data-toc-modified-id=\"Вывод-для-метода-балансировки-&quot;Уменьшение-выборки&quot;-3.3.1\"><span class=\"toc-item-num\">3.3.1&nbsp;&nbsp;</span>Вывод для метода балансировки \"Уменьшение выборки\"</a></span></li></ul></li><li><span><a href=\"#Изменение-порога\" data-toc-modified-id=\"Изменение-порога-3.4\"><span class=\"toc-item-num\">3.4&nbsp;&nbsp;</span>Изменение порога</a></span><ul class=\"toc-item\"><li><span><a href=\"#Без-увеличения-выборки\" data-toc-modified-id=\"Без-увеличения-выборки-3.4.1\"><span class=\"toc-item-num\">3.4.1&nbsp;&nbsp;</span>Без увеличения выборки</a></span></li><li><span><a href=\"#Вывод-для-метода-балансировки-&quot;Изменение-порога-без-увеличения-выборки&quot;\" data-toc-modified-id=\"Вывод-для-метода-балансировки-&quot;Изменение-порога-без-увеличения-выборки&quot;-3.4.2\"><span class=\"toc-item-num\">3.4.2&nbsp;&nbsp;</span>Вывод для метода балансировки \"Изменение порога без увеличения выборки\"</a></span></li><li><span><a href=\"#С-увеличением-выборки\" data-toc-modified-id=\"С-увеличением-выборки-3.4.3\"><span class=\"toc-item-num\">3.4.3&nbsp;&nbsp;</span>С увеличением выборки</a></span></li><li><span><a href=\"#Вывод-для-метода-балансировки-&quot;Изменение-порога-c-увеличением-выборки&quot;\" data-toc-modified-id=\"Вывод-для-метода-балансировки-&quot;Изменение-порога-c-увеличением-выборки&quot;-3.4.4\"><span class=\"toc-item-num\">3.4.4&nbsp;&nbsp;</span>Вывод для метода балансировки \"Изменение порога c увеличением выборки\"</a></span></li><li><span><a href=\"#С-увеличением-выборки-и-балансировкой-классов\" data-toc-modified-id=\"С-увеличением-выборки-и-балансировкой-классов-3.4.5\"><span class=\"toc-item-num\">3.4.5&nbsp;&nbsp;</span>С увеличением выборки и балансировкой классов</a></span></li><li><span><a href=\"#Вывод-для-метода-балансировки-&quot;Изменение-порога-c-увеличением-выборки&quot;\" data-toc-modified-id=\"Вывод-для-метода-балансировки-&quot;Изменение-порога-c-увеличением-выборки&quot;-3.4.6\"><span class=\"toc-item-num\">3.4.6&nbsp;&nbsp;</span>Вывод для метода балансировки \"Изменение порога c увеличением выборки\"</a></span></li></ul></li><li><span><a href=\"#Общий-вывод-для-улучшения-баланса-классов\" data-toc-modified-id=\"Общий-вывод-для-улучшения-баланса-классов-3.5\"><span class=\"toc-item-num\">3.5&nbsp;&nbsp;</span>Общий вывод для улучшения баланса классов</a></span></li></ul></li><li><span><a href=\"#Тестирование-модели\" data-toc-modified-id=\"Тестирование-модели-4\"><span class=\"toc-item-num\">4&nbsp;&nbsp;</span>Тестирование модели</a></span><ul class=\"toc-item\"><li><ul class=\"toc-item\"><li><span><a href=\"#Вывод-по-тестовой-выборке\" data-toc-modified-id=\"Вывод-по-тестовой-выборке-4.0.1\"><span class=\"toc-item-num\">4.0.1&nbsp;&nbsp;</span>Вывод по тестовой выборке</a></span></li></ul></li><li><span><a href=\"#Общий-вывод\" data-toc-modified-id=\"Общий-вывод-4.1\"><span class=\"toc-item-num\">4.1&nbsp;&nbsp;</span>Общий вывод</a></span></li></ul></li><li><span><a href=\"#Чек-лист-готовности-проекта\" data-toc-modified-id=\"Чек-лист-готовности-проекта-5\"><span class=\"toc-item-num\">5&nbsp;&nbsp;</span>Чек-лист готовности проекта</a></span></li></ul></div>"
   ]
  },
  {
   "cell_type": "markdown",
   "metadata": {},
   "source": [
    "# Отток клиентов"
   ]
  },
  {
   "cell_type": "markdown",
   "metadata": {},
   "source": [
    "Из «Бета-Банка» стали уходить клиенты. Каждый месяц. Немного, но заметно. Банковские маркетологи посчитали: сохранять текущих клиентов дешевле, чем привлекать новых.\n",
    "\n",
    "Нужно спрогнозировать, уйдёт клиент из банка в ближайшее время или нет. Вам предоставлены исторические данные о поведении клиентов и расторжении договоров с банком. \n",
    "\n",
    "Постройте модель с предельно большим значением *F1*-меры. Чтобы сдать проект успешно, нужно довести метрику до 0.59. Проверьте *F1*-меру на тестовой выборке самостоятельно.\n",
    "\n",
    "Дополнительно измеряйте *AUC-ROC*, сравнивайте её значение с *F1*-мерой.\n",
    "\n",
    "Источник данных: [https://www.kaggle.com/barelydedicated/bank-customer-churn-modeling](https://www.kaggle.com/barelydedicated/bank-customer-churn-modeling)"
   ]
  },
  {
   "cell_type": "markdown",
   "metadata": {},
   "source": [
    "__Цели и задачи исследования__\n",
    "\n",
    "Я проведу исследование нескольких моделей для максимизации F1-меры и метрики AUC-ROC\n",
    "\n",
    "Для этого я рассмотрю модели:\n",
    "- LogisticRegression\n",
    "- DecisionTreeClassifier\n",
    "- RandomForestClassifier\n",
    "\n",
    "Подберу для них различные параметры для избавления от дисбаланса классов\n",
    "\n",
    "Среди этих моделей я выберу ту, которая даст максимальные показатели F1-меры и метрики AUC-ROC\n",
    "\n",
    "Также я проведу тестирование лучшей модели на тестовой выборке\n",
    "\n",
    "Для проведения данного исследования мне необходимо будет:\n",
    "- Загрузить и исследовать датасет\n",
    "- Исправить данные, если потребуется\n",
    "- Подготовить данные для обучения моделей\n",
    "- Исследовать баланс классов\n",
    "- Избавиться от дисбаланса классов, применив некоторые из существующих методов\n",
    "- Исследовать метрики F1 и AUC-ROC\n",
    "- Выбрать наилучшую модель\n",
    "- Протестировать эту модель на тестовой выборке"
   ]
  },
  {
   "cell_type": "markdown",
   "metadata": {},
   "source": [
    "## Подготовка данных"
   ]
  },
  {
   "cell_type": "markdown",
   "metadata": {},
   "source": [
    "### Импорт библиотек и вспомогательные константы"
   ]
  },
  {
   "cell_type": "code",
   "execution_count": 42,
   "metadata": {},
   "outputs": [],
   "source": [
    "import pandas as pd\n",
    "from sklearn.model_selection import train_test_split\n",
    "from sklearn.preprocessing import StandardScaler \n",
    "from sklearn.preprocessing import OrdinalEncoder\n",
    "from sklearn.tree import DecisionTreeClassifier\n",
    "from sklearn.linear_model import LogisticRegression\n",
    "from sklearn.ensemble import RandomForestClassifier \n",
    "from sklearn.model_selection import GridSearchCV\n",
    "from sklearn.dummy import DummyClassifier\n",
    "from sklearn.metrics import accuracy_score, confusion_matrix, recall_score, f1_score, precision_score, roc_auc_score\n",
    "from sklearn.utils import shuffle\n",
    "import numpy as np\n",
    "import matplotlib.pyplot as plt\n",
    "\n",
    "pd.options.mode.chained_assignment = None\n",
    "\n",
    "color_bold = '\\033[1m'\n",
    "color_end = '\\033[0m'\n",
    "\n",
    "random_state = 12345"
   ]
  },
  {
   "cell_type": "markdown",
   "metadata": {},
   "source": [
    "\n",
    "<div class=\"alert alert-block alert-success\">\n",
    "<b>Успех:</b> Импорты  на месте\n",
    "</div>"
   ]
  },
  {
   "cell_type": "markdown",
   "metadata": {},
   "source": [
    "### Импорт данных"
   ]
  },
  {
   "cell_type": "code",
   "execution_count": 43,
   "metadata": {},
   "outputs": [],
   "source": [
    "try:\n",
    "    data = pd.read_csv('/datasets/Churn.csv')\n",
    "except Exception as error:\n",
    "    print('Ошибка', error)"
   ]
  },
  {
   "cell_type": "markdown",
   "metadata": {},
   "source": [
    "### Обзор и анализ датафрейма"
   ]
  },
  {
   "cell_type": "code",
   "execution_count": 44,
   "metadata": {},
   "outputs": [
    {
     "name": "stdout",
     "output_type": "stream",
     "text": [
      "<class 'pandas.core.frame.DataFrame'>\n",
      "RangeIndex: 10000 entries, 0 to 9999\n",
      "Data columns (total 14 columns):\n",
      " #   Column           Non-Null Count  Dtype  \n",
      "---  ------           --------------  -----  \n",
      " 0   RowNumber        10000 non-null  int64  \n",
      " 1   CustomerId       10000 non-null  int64  \n",
      " 2   Surname          10000 non-null  object \n",
      " 3   CreditScore      10000 non-null  int64  \n",
      " 4   Geography        10000 non-null  object \n",
      " 5   Gender           10000 non-null  object \n",
      " 6   Age              10000 non-null  int64  \n",
      " 7   Tenure           9091 non-null   float64\n",
      " 8   Balance          10000 non-null  float64\n",
      " 9   NumOfProducts    10000 non-null  int64  \n",
      " 10  HasCrCard        10000 non-null  int64  \n",
      " 11  IsActiveMember   10000 non-null  int64  \n",
      " 12  EstimatedSalary  10000 non-null  float64\n",
      " 13  Exited           10000 non-null  int64  \n",
      "dtypes: float64(3), int64(8), object(3)\n",
      "memory usage: 1.1+ MB\n"
     ]
    }
   ],
   "source": [
    "data.info()"
   ]
  },
  {
   "cell_type": "code",
   "execution_count": 45,
   "metadata": {},
   "outputs": [
    {
     "data": {
      "text/html": [
       "<div>\n",
       "<style scoped>\n",
       "    .dataframe tbody tr th:only-of-type {\n",
       "        vertical-align: middle;\n",
       "    }\n",
       "\n",
       "    .dataframe tbody tr th {\n",
       "        vertical-align: top;\n",
       "    }\n",
       "\n",
       "    .dataframe thead th {\n",
       "        text-align: right;\n",
       "    }\n",
       "</style>\n",
       "<table border=\"1\" class=\"dataframe\">\n",
       "  <thead>\n",
       "    <tr style=\"text-align: right;\">\n",
       "      <th></th>\n",
       "      <th>RowNumber</th>\n",
       "      <th>CustomerId</th>\n",
       "      <th>Surname</th>\n",
       "      <th>CreditScore</th>\n",
       "      <th>Geography</th>\n",
       "      <th>Gender</th>\n",
       "      <th>Age</th>\n",
       "      <th>Tenure</th>\n",
       "      <th>Balance</th>\n",
       "      <th>NumOfProducts</th>\n",
       "      <th>HasCrCard</th>\n",
       "      <th>IsActiveMember</th>\n",
       "      <th>EstimatedSalary</th>\n",
       "      <th>Exited</th>\n",
       "    </tr>\n",
       "  </thead>\n",
       "  <tbody>\n",
       "    <tr>\n",
       "      <th>0</th>\n",
       "      <td>1</td>\n",
       "      <td>15634602</td>\n",
       "      <td>Hargrave</td>\n",
       "      <td>619</td>\n",
       "      <td>France</td>\n",
       "      <td>Female</td>\n",
       "      <td>42</td>\n",
       "      <td>2.0</td>\n",
       "      <td>0.00</td>\n",
       "      <td>1</td>\n",
       "      <td>1</td>\n",
       "      <td>1</td>\n",
       "      <td>101348.88</td>\n",
       "      <td>1</td>\n",
       "    </tr>\n",
       "    <tr>\n",
       "      <th>1</th>\n",
       "      <td>2</td>\n",
       "      <td>15647311</td>\n",
       "      <td>Hill</td>\n",
       "      <td>608</td>\n",
       "      <td>Spain</td>\n",
       "      <td>Female</td>\n",
       "      <td>41</td>\n",
       "      <td>1.0</td>\n",
       "      <td>83807.86</td>\n",
       "      <td>1</td>\n",
       "      <td>0</td>\n",
       "      <td>1</td>\n",
       "      <td>112542.58</td>\n",
       "      <td>0</td>\n",
       "    </tr>\n",
       "    <tr>\n",
       "      <th>2</th>\n",
       "      <td>3</td>\n",
       "      <td>15619304</td>\n",
       "      <td>Onio</td>\n",
       "      <td>502</td>\n",
       "      <td>France</td>\n",
       "      <td>Female</td>\n",
       "      <td>42</td>\n",
       "      <td>8.0</td>\n",
       "      <td>159660.80</td>\n",
       "      <td>3</td>\n",
       "      <td>1</td>\n",
       "      <td>0</td>\n",
       "      <td>113931.57</td>\n",
       "      <td>1</td>\n",
       "    </tr>\n",
       "    <tr>\n",
       "      <th>3</th>\n",
       "      <td>4</td>\n",
       "      <td>15701354</td>\n",
       "      <td>Boni</td>\n",
       "      <td>699</td>\n",
       "      <td>France</td>\n",
       "      <td>Female</td>\n",
       "      <td>39</td>\n",
       "      <td>1.0</td>\n",
       "      <td>0.00</td>\n",
       "      <td>2</td>\n",
       "      <td>0</td>\n",
       "      <td>0</td>\n",
       "      <td>93826.63</td>\n",
       "      <td>0</td>\n",
       "    </tr>\n",
       "    <tr>\n",
       "      <th>4</th>\n",
       "      <td>5</td>\n",
       "      <td>15737888</td>\n",
       "      <td>Mitchell</td>\n",
       "      <td>850</td>\n",
       "      <td>Spain</td>\n",
       "      <td>Female</td>\n",
       "      <td>43</td>\n",
       "      <td>2.0</td>\n",
       "      <td>125510.82</td>\n",
       "      <td>1</td>\n",
       "      <td>1</td>\n",
       "      <td>1</td>\n",
       "      <td>79084.10</td>\n",
       "      <td>0</td>\n",
       "    </tr>\n",
       "  </tbody>\n",
       "</table>\n",
       "</div>"
      ],
      "text/plain": [
       "   RowNumber  CustomerId   Surname  CreditScore Geography  Gender  Age  \\\n",
       "0          1    15634602  Hargrave          619    France  Female   42   \n",
       "1          2    15647311      Hill          608     Spain  Female   41   \n",
       "2          3    15619304      Onio          502    France  Female   42   \n",
       "3          4    15701354      Boni          699    France  Female   39   \n",
       "4          5    15737888  Mitchell          850     Spain  Female   43   \n",
       "\n",
       "   Tenure    Balance  NumOfProducts  HasCrCard  IsActiveMember  \\\n",
       "0     2.0       0.00              1          1               1   \n",
       "1     1.0   83807.86              1          0               1   \n",
       "2     8.0  159660.80              3          1               0   \n",
       "3     1.0       0.00              2          0               0   \n",
       "4     2.0  125510.82              1          1               1   \n",
       "\n",
       "   EstimatedSalary  Exited  \n",
       "0        101348.88       1  \n",
       "1        112542.58       0  \n",
       "2        113931.57       1  \n",
       "3         93826.63       0  \n",
       "4         79084.10       0  "
      ]
     },
     "execution_count": 45,
     "metadata": {},
     "output_type": "execute_result"
    }
   ],
   "source": [
    "data.head()"
   ]
  },
  {
   "cell_type": "markdown",
   "metadata": {},
   "source": [
    "#### Вывод по общему обзору датафрейма\n",
    "В целом – данные в датафрейме имеют хорошее качество: почти все представленны в правильном типе и поля, кроме одного имеют полные данные"
   ]
  },
  {
   "cell_type": "markdown",
   "metadata": {},
   "source": [
    "### Анализ полей"
   ]
  },
  {
   "cell_type": "markdown",
   "metadata": {},
   "source": [
    "#### RowNumber\n",
    "Тип правильный, но я думаю это поле необязательно для анализа (оно не дает никакую характеристику клиенту)\n",
    "Пока оставим\n",
    "Пустых значений нет"
   ]
  },
  {
   "cell_type": "markdown",
   "metadata": {},
   "source": [
    "#### CustomerId\n",
    "Тип правильный, также считаю, что поле не дает никаких дополнительных существенных характеристик клиенту, которые могут влиять на анализ\n",
    "Пустых значений нет"
   ]
  },
  {
   "cell_type": "markdown",
   "metadata": {},
   "source": [
    "#### Surname\n",
    "Тип правильный. Поле необходимо для анализа\n",
    "Пустых значений нет.\n",
    "\n",
    "Позже приведем их к чимловым значениям с помощью порядкового кодирования"
   ]
  },
  {
   "cell_type": "markdown",
   "metadata": {},
   "source": [
    "#### CreditScore\n",
    "Тип правильный\n",
    "Пустых значений нет\n",
    "\n",
    "Проверим на аномалии:"
   ]
  },
  {
   "cell_type": "code",
   "execution_count": 46,
   "metadata": {},
   "outputs": [
    {
     "data": {
      "image/png": "[encoded data removed]",
      "text/plain": [
       "<Figure size 432x288 with 1 Axes>"
      ]
     },
     "metadata": {
      "needs_background": "light"
     },
     "output_type": "display_data"
    }
   ],
   "source": [
    "data['CreditScore'].hist();"
   ]
  },
  {
   "cell_type": "code",
   "execution_count": 47,
   "metadata": {},
   "outputs": [
    {
     "data": {
      "text/plain": [
       "count    10000.000000\n",
       "mean       650.528800\n",
       "std         96.653299\n",
       "min        350.000000\n",
       "25%        584.000000\n",
       "50%        652.000000\n",
       "75%        718.000000\n",
       "max        850.000000\n",
       "Name: CreditScore, dtype: float64"
      ]
     },
     "execution_count": 47,
     "metadata": {},
     "output_type": "execute_result"
    }
   ],
   "source": [
    "data['CreditScore'].describe()"
   ]
  },
  {
   "cell_type": "code",
   "execution_count": 48,
   "metadata": {},
   "outputs": [
    {
     "data": {
      "image/png": "[encoded data removed]",
      "text/plain": [
       "<Figure size 432x288 with 1 Axes>"
      ]
     },
     "metadata": {
      "needs_background": "light"
     },
     "output_type": "display_data"
    }
   ],
   "source": [
    "boxplot_credit_score = data.boxplot(column='CreditScore');"
   ]
  },
  {
   "cell_type": "markdown",
   "metadata": {},
   "source": [
    "Каких-то аномалий и серьезных выбросов нет, только несколько выбросов меньше первого квартиля. В целом приемлемо"
   ]
  },
  {
   "cell_type": "markdown",
   "metadata": {},
   "source": [
    "#### Geography\n",
    "Тип правильный\n",
    "Пустых зачений нет. Проверим какие значения есть"
   ]
  },
  {
   "cell_type": "code",
   "execution_count": 49,
   "metadata": {},
   "outputs": [
    {
     "data": {
      "text/plain": [
       "France     5014\n",
       "Germany    2509\n",
       "Spain      2477\n",
       "Name: Geography, dtype: int64"
      ]
     },
     "execution_count": 49,
     "metadata": {},
     "output_type": "execute_result"
    }
   ],
   "source": [
    "data['Geography'].value_counts()"
   ]
  },
  {
   "cell_type": "markdown",
   "metadata": {},
   "source": [
    "Позже приведем их к числовым значениям с помощью порядкового кодирования"
   ]
  },
  {
   "cell_type": "markdown",
   "metadata": {},
   "source": [
    "#### Gender\n",
    "Тип \"object\", правильный, пустых значений нет. Проверим на адекатность (какие уникальные значения присутствуют)"
   ]
  },
  {
   "cell_type": "code",
   "execution_count": 50,
   "metadata": {},
   "outputs": [
    {
     "data": {
      "text/plain": [
       "Male      5457\n",
       "Female    4543\n",
       "Name: Gender, dtype: int64"
      ]
     },
     "execution_count": 50,
     "metadata": {},
     "output_type": "execute_result"
    }
   ],
   "source": [
    "data['Gender'].value_counts()"
   ]
  },
  {
   "cell_type": "markdown",
   "metadata": {},
   "source": [
    "Небольшой перевес в сторону мужчин. В остальном данные корректные\n",
    "\n",
    "Позже приведем их к числовым значениям с помощью порядкового кодирования"
   ]
  },
  {
   "cell_type": "markdown",
   "metadata": {},
   "source": [
    "#### Age\n",
    "Тип правильный\n",
    "Пустых значений нет. Проверим на адекватность:"
   ]
  },
  {
   "cell_type": "code",
   "execution_count": 51,
   "metadata": {},
   "outputs": [
    {
     "data": {
      "image/png": "[encoded data removed]",
      "text/plain": [
       "<Figure size 432x288 with 1 Axes>"
      ]
     },
     "metadata": {
      "needs_background": "light"
     },
     "output_type": "display_data"
    }
   ],
   "source": [
    "data['Age'].hist();"
   ]
  },
  {
   "cell_type": "code",
   "execution_count": 52,
   "metadata": {},
   "outputs": [
    {
     "data": {
      "text/plain": [
       "count    10000.000000\n",
       "mean        38.921800\n",
       "std         10.487806\n",
       "min         18.000000\n",
       "25%         32.000000\n",
       "50%         37.000000\n",
       "75%         44.000000\n",
       "max         92.000000\n",
       "Name: Age, dtype: float64"
      ]
     },
     "execution_count": 52,
     "metadata": {},
     "output_type": "execute_result"
    }
   ],
   "source": [
    "data['Age'].describe()"
   ]
  },
  {
   "cell_type": "code",
   "execution_count": 53,
   "metadata": {},
   "outputs": [
    {
     "data": {
      "image/png": "[encoded data removed]",
      "text/plain": [
       "<Figure size 432x288 with 1 Axes>"
      ]
     },
     "metadata": {
      "needs_background": "light"
     },
     "output_type": "display_data"
    }
   ],
   "source": [
    "boxplot_age = data.boxplot(column='Age');"
   ]
  },
  {
   "cell_type": "markdown",
   "metadata": {},
   "source": [
    "Среднее и медиана очень близки друг к другу. Распределение по квартилям ровное. Есть выбросы после 60 лет, что не является аномалией, а скорее особенностью – клиенты в почтенном возрасте более редки\n"
   ]
  },
  {
   "cell_type": "markdown",
   "metadata": {},
   "source": [
    "#### Tenure\n",
    "Тип вроде бы правильный (float, хотя формулировка \"сколько лет человек является клиентом банка\" предполагает \"int\"), но есть пустые значения\\\n",
    "Но – мы можем заполнить пустые значения (их всего ~9%) средним или медианой по этой колонке\\\n",
    "Так как и среднее и медиана точно будут float – можем оставить float\\\n",
    "Обработаем позже"
   ]
  },
  {
   "cell_type": "markdown",
   "metadata": {},
   "source": [
    "#### Balance\n",
    "Тип правильный, пустых значений нет."
   ]
  },
  {
   "cell_type": "code",
   "execution_count": 54,
   "metadata": {},
   "outputs": [
    {
     "data": {
      "image/png": "[encoded data removed]",
      "text/plain": [
       "<Figure size 432x288 with 1 Axes>"
      ]
     },
     "metadata": {
      "needs_background": "light"
     },
     "output_type": "display_data"
    }
   ],
   "source": [
    "data['Balance'].hist(bins=30);"
   ]
  },
  {
   "cell_type": "markdown",
   "metadata": {},
   "source": [
    "Больше 1/3 клиентов не имеют денег на счетах. Но в остальном распредеение нормальное. Проверим данные без этих клиентов"
   ]
  },
  {
   "cell_type": "code",
   "execution_count": 55,
   "metadata": {},
   "outputs": [
    {
     "data": {
      "text/plain": [
       "count      6383.000000\n",
       "mean     119827.493793\n",
       "std       30095.056462\n",
       "min        3768.690000\n",
       "25%      100181.975000\n",
       "50%      119839.690000\n",
       "75%      139512.290000\n",
       "max      250898.090000\n",
       "Name: Balance, dtype: float64"
      ]
     },
     "execution_count": 55,
     "metadata": {},
     "output_type": "execute_result"
    }
   ],
   "source": [
    "data[data['Balance'] > 0]['Balance'].describe()"
   ]
  },
  {
   "cell_type": "code",
   "execution_count": 56,
   "metadata": {},
   "outputs": [
    {
     "data": {
      "image/png": "[encoded data removed]",
      "text/plain": [
       "<Figure size 432x288 with 1 Axes>"
      ]
     },
     "metadata": {
      "needs_background": "light"
     },
     "output_type": "display_data"
    }
   ],
   "source": [
    "boxplot_balance = data.query('Balance > 0').boxplot(column='Balance');"
   ]
  },
  {
   "cell_type": "markdown",
   "metadata": {},
   "source": [
    "Без клиентов без денег на считах данные более-менее адекватные, но присутствуют некритичные выбросы."
   ]
  },
  {
   "cell_type": "markdown",
   "metadata": {},
   "source": [
    "#### NumOfProducts\n",
    "Тип правильный, пустых значений нет"
   ]
  },
  {
   "cell_type": "code",
   "execution_count": 57,
   "metadata": {},
   "outputs": [
    {
     "data": {
      "text/plain": [
       "1    5084\n",
       "2    4590\n",
       "3     266\n",
       "4      60\n",
       "Name: NumOfProducts, dtype: int64"
      ]
     },
     "execution_count": 57,
     "metadata": {},
     "output_type": "execute_result"
    }
   ],
   "source": [
    "data['NumOfProducts'].value_counts()"
   ]
  },
  {
   "cell_type": "markdown",
   "metadata": {},
   "source": [
    "#### HasCrCard, IsActiveMember\n",
    "Тип правильный (хотя значения предполагаются bool, но нас устроит 1 и 0)\n",
    "\n",
    "Проверим значения"
   ]
  },
  {
   "cell_type": "code",
   "execution_count": 58,
   "metadata": {},
   "outputs": [
    {
     "data": {
      "text/plain": [
       "1    7055\n",
       "0    2945\n",
       "Name: HasCrCard, dtype: int64"
      ]
     },
     "execution_count": 58,
     "metadata": {},
     "output_type": "execute_result"
    }
   ],
   "source": [
    "data['HasCrCard'].value_counts()"
   ]
  },
  {
   "cell_type": "code",
   "execution_count": 59,
   "metadata": {},
   "outputs": [
    {
     "data": {
      "text/plain": [
       "1    5151\n",
       "0    4849\n",
       "Name: IsActiveMember, dtype: int64"
      ]
     },
     "execution_count": 59,
     "metadata": {},
     "output_type": "execute_result"
    }
   ],
   "source": [
    "data['IsActiveMember'].value_counts()"
   ]
  },
  {
   "cell_type": "markdown",
   "metadata": {},
   "source": [
    "Присутствуют только 0 и 1, поэтому столбцы и данные в них корректны"
   ]
  },
  {
   "cell_type": "markdown",
   "metadata": {},
   "source": [
    "#### EstimatedSalary\n",
    "Тип правильный, пустых значений нет"
   ]
  },
  {
   "cell_type": "code",
   "execution_count": 60,
   "metadata": {},
   "outputs": [
    {
     "data": {
      "image/png": "[encoded data removed]",
      "text/plain": [
       "<Figure size 432x288 with 1 Axes>"
      ]
     },
     "metadata": {
      "needs_background": "light"
     },
     "output_type": "display_data"
    }
   ],
   "source": [
    "data['EstimatedSalary'].hist(bins=30);"
   ]
  },
  {
   "cell_type": "code",
   "execution_count": 61,
   "metadata": {},
   "outputs": [
    {
     "data": {
      "text/plain": [
       "count     10000.000000\n",
       "mean     100090.239881\n",
       "std       57510.492818\n",
       "min          11.580000\n",
       "25%       51002.110000\n",
       "50%      100193.915000\n",
       "75%      149388.247500\n",
       "max      199992.480000\n",
       "Name: EstimatedSalary, dtype: float64"
      ]
     },
     "execution_count": 61,
     "metadata": {},
     "output_type": "execute_result"
    }
   ],
   "source": [
    "data['EstimatedSalary'].describe()"
   ]
  },
  {
   "cell_type": "code",
   "execution_count": 62,
   "metadata": {},
   "outputs": [
    {
     "data": {
      "image/png": "[encoded data removed]",
      "text/plain": [
       "<Figure size 432x288 with 1 Axes>"
      ]
     },
     "metadata": {
      "needs_background": "light"
     },
     "output_type": "display_data"
    }
   ],
   "source": [
    "boxplot_salary = data.boxplot(column='EstimatedSalary');"
   ]
  },
  {
   "cell_type": "markdown",
   "metadata": {},
   "source": [
    "Наверное самое равномерное распределение значений, которое я видел за весь курс\\\n",
    "Сразу видно искуственные данные"
   ]
  },
  {
   "cell_type": "markdown",
   "metadata": {},
   "source": [
    "#### Exited\n",
    "Тип правильный (для применения в модели), проверим значения"
   ]
  },
  {
   "cell_type": "code",
   "execution_count": 63,
   "metadata": {},
   "outputs": [
    {
     "data": {
      "text/plain": [
       "0    7963\n",
       "1    2037\n",
       "Name: Exited, dtype: int64"
      ]
     },
     "execution_count": 63,
     "metadata": {},
     "output_type": "execute_result"
    }
   ],
   "source": [
    "data['Exited'].value_counts()"
   ]
  },
  {
   "cell_type": "markdown",
   "metadata": {},
   "source": [
    "Данные корректны"
   ]
  },
  {
   "cell_type": "markdown",
   "metadata": {},
   "source": [
    "<div class=\"alert alert-block alert-success\">\n",
    "<b>Успех:</b> Проведен хороший осмотр данных, дисбаланс обнаружен\n",
    "</div>\n"
   ]
  },
  {
   "cell_type": "markdown",
   "metadata": {},
   "source": [
    "### Заполнение пропусков"
   ]
  },
  {
   "cell_type": "markdown",
   "metadata": {},
   "source": [
    "#### Tenure"
   ]
  },
  {
   "cell_type": "code",
   "execution_count": 64,
   "metadata": {},
   "outputs": [
    {
     "name": "stdout",
     "output_type": "stream",
     "text": [
      "Пустых значений в поле \"Tenure\": 909\n",
      "Среднее \"Tenure\" до: 4.997690023099769\n",
      "Медиана \"Tenure\" до: 5.0\n"
     ]
    }
   ],
   "source": [
    "isna_sum = len(data[data['Tenure'].isna()]['Tenure'])\n",
    "mean = data['Tenure'].mean()\n",
    "median = data['Tenure'].median()\n",
    "\n",
    "print(f'Пустых значений в поле \"Tenure\": {isna_sum}')\n",
    "print(f'Среднее \"Tenure\" до: {mean}')\n",
    "print(f'Медиана \"Tenure\" до: {median}')"
   ]
  },
  {
   "cell_type": "markdown",
   "metadata": {},
   "source": [
    "Среднее и медиана почти равны, поэтому можно взять среднее и заполнить им пропуски"
   ]
  },
  {
   "cell_type": "code",
   "execution_count": 65,
   "metadata": {},
   "outputs": [
    {
     "name": "stdout",
     "output_type": "stream",
     "text": [
      "Среднее \"Tenure\" после: 4.99769002309977\n",
      "Среднее \"Tenure\" после: 4.997690023099769\n",
      "<class 'pandas.core.frame.DataFrame'>\n",
      "RangeIndex: 10000 entries, 0 to 9999\n",
      "Data columns (total 14 columns):\n",
      " #   Column           Non-Null Count  Dtype  \n",
      "---  ------           --------------  -----  \n",
      " 0   RowNumber        10000 non-null  int64  \n",
      " 1   CustomerId       10000 non-null  int64  \n",
      " 2   Surname          10000 non-null  object \n",
      " 3   CreditScore      10000 non-null  int64  \n",
      " 4   Geography        10000 non-null  object \n",
      " 5   Gender           10000 non-null  object \n",
      " 6   Age              10000 non-null  int64  \n",
      " 7   Tenure           10000 non-null  float64\n",
      " 8   Balance          10000 non-null  float64\n",
      " 9   NumOfProducts    10000 non-null  int64  \n",
      " 10  HasCrCard        10000 non-null  int64  \n",
      " 11  IsActiveMember   10000 non-null  int64  \n",
      " 12  EstimatedSalary  10000 non-null  float64\n",
      " 13  Exited           10000 non-null  int64  \n",
      "dtypes: float64(3), int64(8), object(3)\n",
      "memory usage: 1.1+ MB\n"
     ]
    }
   ],
   "source": [
    "data.loc[data['Tenure'].isna(), 'Tenure'] = mean\n",
    "\n",
    "mean = data['Tenure'].mean()\n",
    "median = data['Tenure'].median()\n",
    "\n",
    "\n",
    "print(f'Среднее \"Tenure\" после: {mean}')\n",
    "print(f'Среднее \"Tenure\" после: {median}')\n",
    "\n",
    "data.info()"
   ]
  },
  {
   "cell_type": "markdown",
   "metadata": {},
   "source": [
    "\n",
    "<div class=\"alert alert-block alert-success\">\n",
    "<b>Успех:</b> Пропуски обработаны неплохим образом\n",
    "</div>"
   ]
  },
  {
   "cell_type": "markdown",
   "metadata": {},
   "source": [
    "Медиана и среднее почти не изменились, поэтому заполнение пропусков в данном случае может считаться корректным"
   ]
  },
  {
   "cell_type": "markdown",
   "metadata": {},
   "source": [
    "### Подготовка данных для обучения (подготовка признаков)"
   ]
  },
  {
   "cell_type": "markdown",
   "metadata": {},
   "source": [
    "#### Поля, не учавствующие в обучении"
   ]
  },
  {
   "cell_type": "markdown",
   "metadata": {},
   "source": [
    "В датасете есть поля, участие которых в обучении не целесообразно:\n",
    "- RowNumber\n",
    "- CustomerId\n",
    "- Surname\n",
    "\n",
    "Поэтому уберем их:"
   ]
  },
  {
   "cell_type": "code",
   "execution_count": 66,
   "metadata": {},
   "outputs": [
    {
     "data": {
      "text/html": [
       "<div>\n",
       "<style scoped>\n",
       "    .dataframe tbody tr th:only-of-type {\n",
       "        vertical-align: middle;\n",
       "    }\n",
       "\n",
       "    .dataframe tbody tr th {\n",
       "        vertical-align: top;\n",
       "    }\n",
       "\n",
       "    .dataframe thead th {\n",
       "        text-align: right;\n",
       "    }\n",
       "</style>\n",
       "<table border=\"1\" class=\"dataframe\">\n",
       "  <thead>\n",
       "    <tr style=\"text-align: right;\">\n",
       "      <th></th>\n",
       "      <th>CreditScore</th>\n",
       "      <th>Geography</th>\n",
       "      <th>Gender</th>\n",
       "      <th>Age</th>\n",
       "      <th>Tenure</th>\n",
       "      <th>Balance</th>\n",
       "      <th>NumOfProducts</th>\n",
       "      <th>HasCrCard</th>\n",
       "      <th>IsActiveMember</th>\n",
       "      <th>EstimatedSalary</th>\n",
       "      <th>Exited</th>\n",
       "    </tr>\n",
       "  </thead>\n",
       "  <tbody>\n",
       "    <tr>\n",
       "      <th>0</th>\n",
       "      <td>619</td>\n",
       "      <td>France</td>\n",
       "      <td>Female</td>\n",
       "      <td>42</td>\n",
       "      <td>2.0</td>\n",
       "      <td>0.00</td>\n",
       "      <td>1</td>\n",
       "      <td>1</td>\n",
       "      <td>1</td>\n",
       "      <td>101348.88</td>\n",
       "      <td>1</td>\n",
       "    </tr>\n",
       "    <tr>\n",
       "      <th>1</th>\n",
       "      <td>608</td>\n",
       "      <td>Spain</td>\n",
       "      <td>Female</td>\n",
       "      <td>41</td>\n",
       "      <td>1.0</td>\n",
       "      <td>83807.86</td>\n",
       "      <td>1</td>\n",
       "      <td>0</td>\n",
       "      <td>1</td>\n",
       "      <td>112542.58</td>\n",
       "      <td>0</td>\n",
       "    </tr>\n",
       "    <tr>\n",
       "      <th>2</th>\n",
       "      <td>502</td>\n",
       "      <td>France</td>\n",
       "      <td>Female</td>\n",
       "      <td>42</td>\n",
       "      <td>8.0</td>\n",
       "      <td>159660.80</td>\n",
       "      <td>3</td>\n",
       "      <td>1</td>\n",
       "      <td>0</td>\n",
       "      <td>113931.57</td>\n",
       "      <td>1</td>\n",
       "    </tr>\n",
       "    <tr>\n",
       "      <th>3</th>\n",
       "      <td>699</td>\n",
       "      <td>France</td>\n",
       "      <td>Female</td>\n",
       "      <td>39</td>\n",
       "      <td>1.0</td>\n",
       "      <td>0.00</td>\n",
       "      <td>2</td>\n",
       "      <td>0</td>\n",
       "      <td>0</td>\n",
       "      <td>93826.63</td>\n",
       "      <td>0</td>\n",
       "    </tr>\n",
       "    <tr>\n",
       "      <th>4</th>\n",
       "      <td>850</td>\n",
       "      <td>Spain</td>\n",
       "      <td>Female</td>\n",
       "      <td>43</td>\n",
       "      <td>2.0</td>\n",
       "      <td>125510.82</td>\n",
       "      <td>1</td>\n",
       "      <td>1</td>\n",
       "      <td>1</td>\n",
       "      <td>79084.10</td>\n",
       "      <td>0</td>\n",
       "    </tr>\n",
       "  </tbody>\n",
       "</table>\n",
       "</div>"
      ],
      "text/plain": [
       "   CreditScore Geography  Gender  Age  Tenure    Balance  NumOfProducts  \\\n",
       "0          619    France  Female   42     2.0       0.00              1   \n",
       "1          608     Spain  Female   41     1.0   83807.86              1   \n",
       "2          502    France  Female   42     8.0  159660.80              3   \n",
       "3          699    France  Female   39     1.0       0.00              2   \n",
       "4          850     Spain  Female   43     2.0  125510.82              1   \n",
       "\n",
       "   HasCrCard  IsActiveMember  EstimatedSalary  Exited  \n",
       "0          1               1        101348.88       1  \n",
       "1          0               1        112542.58       0  \n",
       "2          1               0        113931.57       1  \n",
       "3          0               0         93826.63       0  \n",
       "4          1               1         79084.10       0  "
      ]
     },
     "execution_count": 66,
     "metadata": {},
     "output_type": "execute_result"
    }
   ],
   "source": [
    "data = data.drop(['RowNumber', 'CustomerId', 'Surname'], axis=1)\n",
    "data.head()"
   ]
  },
  {
   "cell_type": "markdown",
   "metadata": {},
   "source": [
    "Необязательные поля убраны"
   ]
  },
  {
   "cell_type": "markdown",
   "metadata": {},
   "source": [
    "<div class=\"alert alert-block alert-warning\">\n",
    "<b>Изменения:</b> Удалил из признаков необязательные поля\n",
    "</div>\n"
   ]
  },
  {
   "cell_type": "markdown",
   "metadata": {},
   "source": [
    "\n",
    "<div class=\"alert alert-block alert-success\">\n",
    "<b>Успех[2]:</b> Точно. Согласен с перечнем неинформативных\n",
    "</div>\n",
    "\n"
   ]
  },
  {
   "cell_type": "markdown",
   "metadata": {},
   "source": [
    "#### Прямое кодирование\n",
    "\n",
    "Так как у нас есть поля, не являющиеся числовыми, а скорее категориальными, то нам необходимо перевести их в числа:\n",
    "\n",
    "- Gender\n",
    "- Geography"
   ]
  },
  {
   "cell_type": "code",
   "execution_count": 67,
   "metadata": {},
   "outputs": [
    {
     "data": {
      "text/html": [
       "<div>\n",
       "<style scoped>\n",
       "    .dataframe tbody tr th:only-of-type {\n",
       "        vertical-align: middle;\n",
       "    }\n",
       "\n",
       "    .dataframe tbody tr th {\n",
       "        vertical-align: top;\n",
       "    }\n",
       "\n",
       "    .dataframe thead th {\n",
       "        text-align: right;\n",
       "    }\n",
       "</style>\n",
       "<table border=\"1\" class=\"dataframe\">\n",
       "  <thead>\n",
       "    <tr style=\"text-align: right;\">\n",
       "      <th></th>\n",
       "      <th>CreditScore</th>\n",
       "      <th>Age</th>\n",
       "      <th>Tenure</th>\n",
       "      <th>Balance</th>\n",
       "      <th>NumOfProducts</th>\n",
       "      <th>HasCrCard</th>\n",
       "      <th>IsActiveMember</th>\n",
       "      <th>EstimatedSalary</th>\n",
       "      <th>Exited</th>\n",
       "      <th>Gender_Male</th>\n",
       "      <th>Geography_Germany</th>\n",
       "      <th>Geography_Spain</th>\n",
       "    </tr>\n",
       "  </thead>\n",
       "  <tbody>\n",
       "    <tr>\n",
       "      <th>0</th>\n",
       "      <td>619</td>\n",
       "      <td>42</td>\n",
       "      <td>2.0</td>\n",
       "      <td>0.00</td>\n",
       "      <td>1</td>\n",
       "      <td>1</td>\n",
       "      <td>1</td>\n",
       "      <td>101348.88</td>\n",
       "      <td>1</td>\n",
       "      <td>0</td>\n",
       "      <td>0</td>\n",
       "      <td>0</td>\n",
       "    </tr>\n",
       "    <tr>\n",
       "      <th>1</th>\n",
       "      <td>608</td>\n",
       "      <td>41</td>\n",
       "      <td>1.0</td>\n",
       "      <td>83807.86</td>\n",
       "      <td>1</td>\n",
       "      <td>0</td>\n",
       "      <td>1</td>\n",
       "      <td>112542.58</td>\n",
       "      <td>0</td>\n",
       "      <td>0</td>\n",
       "      <td>0</td>\n",
       "      <td>1</td>\n",
       "    </tr>\n",
       "    <tr>\n",
       "      <th>2</th>\n",
       "      <td>502</td>\n",
       "      <td>42</td>\n",
       "      <td>8.0</td>\n",
       "      <td>159660.80</td>\n",
       "      <td>3</td>\n",
       "      <td>1</td>\n",
       "      <td>0</td>\n",
       "      <td>113931.57</td>\n",
       "      <td>1</td>\n",
       "      <td>0</td>\n",
       "      <td>0</td>\n",
       "      <td>0</td>\n",
       "    </tr>\n",
       "    <tr>\n",
       "      <th>3</th>\n",
       "      <td>699</td>\n",
       "      <td>39</td>\n",
       "      <td>1.0</td>\n",
       "      <td>0.00</td>\n",
       "      <td>2</td>\n",
       "      <td>0</td>\n",
       "      <td>0</td>\n",
       "      <td>93826.63</td>\n",
       "      <td>0</td>\n",
       "      <td>0</td>\n",
       "      <td>0</td>\n",
       "      <td>0</td>\n",
       "    </tr>\n",
       "    <tr>\n",
       "      <th>4</th>\n",
       "      <td>850</td>\n",
       "      <td>43</td>\n",
       "      <td>2.0</td>\n",
       "      <td>125510.82</td>\n",
       "      <td>1</td>\n",
       "      <td>1</td>\n",
       "      <td>1</td>\n",
       "      <td>79084.10</td>\n",
       "      <td>0</td>\n",
       "      <td>0</td>\n",
       "      <td>0</td>\n",
       "      <td>1</td>\n",
       "    </tr>\n",
       "  </tbody>\n",
       "</table>\n",
       "</div>"
      ],
      "text/plain": [
       "   CreditScore  Age  Tenure    Balance  NumOfProducts  HasCrCard  \\\n",
       "0          619   42     2.0       0.00              1          1   \n",
       "1          608   41     1.0   83807.86              1          0   \n",
       "2          502   42     8.0  159660.80              3          1   \n",
       "3          699   39     1.0       0.00              2          0   \n",
       "4          850   43     2.0  125510.82              1          1   \n",
       "\n",
       "   IsActiveMember  EstimatedSalary  Exited  Gender_Male  Geography_Germany  \\\n",
       "0               1        101348.88       1            0                  0   \n",
       "1               1        112542.58       0            0                  0   \n",
       "2               0        113931.57       1            0                  0   \n",
       "3               0         93826.63       0            0                  0   \n",
       "4               1         79084.10       0            0                  0   \n",
       "\n",
       "   Geography_Spain  \n",
       "0                0  \n",
       "1                1  \n",
       "2                0  \n",
       "3                0  \n",
       "4                1  "
      ]
     },
     "execution_count": 67,
     "metadata": {},
     "output_type": "execute_result"
    }
   ],
   "source": [
    "data_ohe = pd.get_dummies(data, columns=['Gender', 'Geography'], drop_first=True)\n",
    "data_ohe.head()\n"
   ]
  },
  {
   "cell_type": "markdown",
   "metadata": {},
   "source": [
    "\n",
    "<div class=\"alert alert-block alert-danger\">\n",
    "    \n",
    "<b>Ошибка:</b> Важно указывать параметр `drop_first=True`, иначе попадаем в dummy-ловушку.  https://www.codecamp.ru/blog/dummy-variable-trap/\n",
    "\n",
    "</div>"
   ]
  },
  {
   "cell_type": "markdown",
   "metadata": {},
   "source": [
    "<div class=\"alert alert-block alert-warning\">\n",
    "<b>Комментарий студента:</b>\n",
    "    Благодарю, исправил\n",
    "</div>"
   ]
  },
  {
   "cell_type": "markdown",
   "metadata": {},
   "source": [
    "\n",
    "<div class=\"alert alert-block alert-success\">\n",
    "<b>Успех[2]:</b> Есть\n",
    "</div>\n",
    "\n"
   ]
  },
  {
   "cell_type": "markdown",
   "metadata": {},
   "source": [
    "Корректно добавились поля для каждого из категориальных полей"
   ]
  },
  {
   "cell_type": "markdown",
   "metadata": {},
   "source": [
    "<div class=\"alert alert-block alert-danger\">\n",
    "    \n",
    "<b>Ошибка:</b> \n",
    " \n",
    "Нельзя использовать здесь порядковое кодирование, так как используются линейные модели, а они не могут работать корректно с номинальными данными, закодированные порядковым способом\n",
    "</div>"
   ]
  },
  {
   "cell_type": "markdown",
   "metadata": {},
   "source": [
    "<div class=\"alert alert-block alert-warning\">\n",
    "<b>Изменения:</b> Исправил порядковое кодирование на прямое\n",
    "</div>\n"
   ]
  },
  {
   "cell_type": "markdown",
   "metadata": {},
   "source": [
    "\n",
    "<div class=\"alert alert-block alert-success\">\n",
    "<b>Успех[2]:</b> Отлично\n",
    "</div>\n",
    "\n"
   ]
  },
  {
   "cell_type": "markdown",
   "metadata": {},
   "source": [
    "#### Подготовим обучающую, валидационную и тестовую выборки и целевые признаки"
   ]
  },
  {
   "cell_type": "code",
   "execution_count": 68,
   "metadata": {},
   "outputs": [
    {
     "data": {
      "text/html": [
       "<div>\n",
       "<style scoped>\n",
       "    .dataframe tbody tr th:only-of-type {\n",
       "        vertical-align: middle;\n",
       "    }\n",
       "\n",
       "    .dataframe tbody tr th {\n",
       "        vertical-align: top;\n",
       "    }\n",
       "\n",
       "    .dataframe thead th {\n",
       "        text-align: right;\n",
       "    }\n",
       "</style>\n",
       "<table border=\"1\" class=\"dataframe\">\n",
       "  <thead>\n",
       "    <tr style=\"text-align: right;\">\n",
       "      <th></th>\n",
       "      <th>CreditScore</th>\n",
       "      <th>Age</th>\n",
       "      <th>Tenure</th>\n",
       "      <th>Balance</th>\n",
       "      <th>NumOfProducts</th>\n",
       "      <th>HasCrCard</th>\n",
       "      <th>IsActiveMember</th>\n",
       "      <th>EstimatedSalary</th>\n",
       "      <th>Gender_Male</th>\n",
       "      <th>Geography_Germany</th>\n",
       "      <th>Geography_Spain</th>\n",
       "    </tr>\n",
       "  </thead>\n",
       "  <tbody>\n",
       "    <tr>\n",
       "      <th>7479</th>\n",
       "      <td>567</td>\n",
       "      <td>35</td>\n",
       "      <td>8.0</td>\n",
       "      <td>153137.74</td>\n",
       "      <td>1</td>\n",
       "      <td>1</td>\n",
       "      <td>0</td>\n",
       "      <td>88659.07</td>\n",
       "      <td>1</td>\n",
       "      <td>0</td>\n",
       "      <td>1</td>\n",
       "    </tr>\n",
       "    <tr>\n",
       "      <th>3411</th>\n",
       "      <td>711</td>\n",
       "      <td>37</td>\n",
       "      <td>8.0</td>\n",
       "      <td>113899.92</td>\n",
       "      <td>1</td>\n",
       "      <td>0</td>\n",
       "      <td>0</td>\n",
       "      <td>80215.20</td>\n",
       "      <td>0</td>\n",
       "      <td>0</td>\n",
       "      <td>0</td>\n",
       "    </tr>\n",
       "    <tr>\n",
       "      <th>6027</th>\n",
       "      <td>850</td>\n",
       "      <td>44</td>\n",
       "      <td>3.0</td>\n",
       "      <td>140393.65</td>\n",
       "      <td>2</td>\n",
       "      <td>0</td>\n",
       "      <td>1</td>\n",
       "      <td>186285.52</td>\n",
       "      <td>1</td>\n",
       "      <td>1</td>\n",
       "      <td>0</td>\n",
       "    </tr>\n",
       "    <tr>\n",
       "      <th>1247</th>\n",
       "      <td>512</td>\n",
       "      <td>24</td>\n",
       "      <td>6.0</td>\n",
       "      <td>0.00</td>\n",
       "      <td>2</td>\n",
       "      <td>1</td>\n",
       "      <td>0</td>\n",
       "      <td>37654.31</td>\n",
       "      <td>1</td>\n",
       "      <td>0</td>\n",
       "      <td>0</td>\n",
       "    </tr>\n",
       "    <tr>\n",
       "      <th>3716</th>\n",
       "      <td>665</td>\n",
       "      <td>27</td>\n",
       "      <td>2.0</td>\n",
       "      <td>147435.96</td>\n",
       "      <td>1</td>\n",
       "      <td>0</td>\n",
       "      <td>0</td>\n",
       "      <td>187508.06</td>\n",
       "      <td>0</td>\n",
       "      <td>1</td>\n",
       "      <td>0</td>\n",
       "    </tr>\n",
       "  </tbody>\n",
       "</table>\n",
       "</div>"
      ],
      "text/plain": [
       "      CreditScore  Age  Tenure    Balance  NumOfProducts  HasCrCard  \\\n",
       "7479          567   35     8.0  153137.74              1          1   \n",
       "3411          711   37     8.0  113899.92              1          0   \n",
       "6027          850   44     3.0  140393.65              2          0   \n",
       "1247          512   24     6.0       0.00              2          1   \n",
       "3716          665   27     2.0  147435.96              1          0   \n",
       "\n",
       "      IsActiveMember  EstimatedSalary  Gender_Male  Geography_Germany  \\\n",
       "7479               0         88659.07            1                  0   \n",
       "3411               0         80215.20            0                  0   \n",
       "6027               1        186285.52            1                  1   \n",
       "1247               0         37654.31            1                  0   \n",
       "3716               0        187508.06            0                  1   \n",
       "\n",
       "      Geography_Spain  \n",
       "7479                1  \n",
       "3411                0  \n",
       "6027                0  \n",
       "1247                0  \n",
       "3716                0  "
      ]
     },
     "execution_count": 68,
     "metadata": {},
     "output_type": "execute_result"
    }
   ],
   "source": [
    "df_train, df_rest = train_test_split(data_ohe, test_size=0.4, random_state=random_state)\n",
    "df_valid, df_test = train_test_split(df_rest, test_size=0.5, random_state=random_state)\n",
    "\n",
    "\n",
    "target_train = df_train['Exited']\n",
    "target_valid = df_valid['Exited']\n",
    "target_test = df_test['Exited']\n",
    "\n",
    "features_train = df_train.drop('Exited', axis=1)\n",
    "features_valid = df_valid.drop('Exited', axis=1)\n",
    "features_test = df_test.drop('Exited', axis=1)\n",
    "\n",
    "features_train.head()"
   ]
  },
  {
   "cell_type": "markdown",
   "metadata": {},
   "source": [
    "#### Масштабирование признаков"
   ]
  },
  {
   "cell_type": "code",
   "execution_count": 69,
   "metadata": {},
   "outputs": [
    {
     "data": {
      "text/html": [
       "<div>\n",
       "<style scoped>\n",
       "    .dataframe tbody tr th:only-of-type {\n",
       "        vertical-align: middle;\n",
       "    }\n",
       "\n",
       "    .dataframe tbody tr th {\n",
       "        vertical-align: top;\n",
       "    }\n",
       "\n",
       "    .dataframe thead th {\n",
       "        text-align: right;\n",
       "    }\n",
       "</style>\n",
       "<table border=\"1\" class=\"dataframe\">\n",
       "  <thead>\n",
       "    <tr style=\"text-align: right;\">\n",
       "      <th></th>\n",
       "      <th>CreditScore</th>\n",
       "      <th>Age</th>\n",
       "      <th>Tenure</th>\n",
       "      <th>Balance</th>\n",
       "      <th>NumOfProducts</th>\n",
       "      <th>HasCrCard</th>\n",
       "      <th>IsActiveMember</th>\n",
       "      <th>EstimatedSalary</th>\n",
       "      <th>Gender_Male</th>\n",
       "      <th>Geography_Germany</th>\n",
       "      <th>Geography_Spain</th>\n",
       "    </tr>\n",
       "  </thead>\n",
       "  <tbody>\n",
       "    <tr>\n",
       "      <th>7479</th>\n",
       "      <td>-0.886751</td>\n",
       "      <td>-0.373192</td>\n",
       "      <td>1.082354</td>\n",
       "      <td>1.232271</td>\n",
       "      <td>1</td>\n",
       "      <td>1</td>\n",
       "      <td>0</td>\n",
       "      <td>-0.187705</td>\n",
       "      <td>1</td>\n",
       "      <td>0</td>\n",
       "      <td>1</td>\n",
       "    </tr>\n",
       "    <tr>\n",
       "      <th>3411</th>\n",
       "      <td>0.608663</td>\n",
       "      <td>-0.183385</td>\n",
       "      <td>1.082354</td>\n",
       "      <td>0.600563</td>\n",
       "      <td>1</td>\n",
       "      <td>0</td>\n",
       "      <td>0</td>\n",
       "      <td>-0.333945</td>\n",
       "      <td>0</td>\n",
       "      <td>0</td>\n",
       "      <td>0</td>\n",
       "    </tr>\n",
       "    <tr>\n",
       "      <th>6027</th>\n",
       "      <td>2.052152</td>\n",
       "      <td>0.480939</td>\n",
       "      <td>-0.737618</td>\n",
       "      <td>1.027098</td>\n",
       "      <td>2</td>\n",
       "      <td>0</td>\n",
       "      <td>1</td>\n",
       "      <td>1.503095</td>\n",
       "      <td>1</td>\n",
       "      <td>1</td>\n",
       "      <td>0</td>\n",
       "    </tr>\n",
       "    <tr>\n",
       "      <th>1247</th>\n",
       "      <td>-1.457915</td>\n",
       "      <td>-1.417129</td>\n",
       "      <td>0.354365</td>\n",
       "      <td>-1.233163</td>\n",
       "      <td>2</td>\n",
       "      <td>1</td>\n",
       "      <td>0</td>\n",
       "      <td>-1.071061</td>\n",
       "      <td>1</td>\n",
       "      <td>0</td>\n",
       "      <td>0</td>\n",
       "    </tr>\n",
       "    <tr>\n",
       "      <th>3716</th>\n",
       "      <td>0.130961</td>\n",
       "      <td>-1.132419</td>\n",
       "      <td>-1.101612</td>\n",
       "      <td>1.140475</td>\n",
       "      <td>1</td>\n",
       "      <td>0</td>\n",
       "      <td>0</td>\n",
       "      <td>1.524268</td>\n",
       "      <td>0</td>\n",
       "      <td>1</td>\n",
       "      <td>0</td>\n",
       "    </tr>\n",
       "  </tbody>\n",
       "</table>\n",
       "</div>"
      ],
      "text/plain": [
       "      CreditScore       Age    Tenure   Balance  NumOfProducts  HasCrCard  \\\n",
       "7479    -0.886751 -0.373192  1.082354  1.232271              1          1   \n",
       "3411     0.608663 -0.183385  1.082354  0.600563              1          0   \n",
       "6027     2.052152  0.480939 -0.737618  1.027098              2          0   \n",
       "1247    -1.457915 -1.417129  0.354365 -1.233163              2          1   \n",
       "3716     0.130961 -1.132419 -1.101612  1.140475              1          0   \n",
       "\n",
       "      IsActiveMember  EstimatedSalary  Gender_Male  Geography_Germany  \\\n",
       "7479               0        -0.187705            1                  0   \n",
       "3411               0        -0.333945            0                  0   \n",
       "6027               1         1.503095            1                  1   \n",
       "1247               0        -1.071061            1                  0   \n",
       "3716               0         1.524268            0                  1   \n",
       "\n",
       "      Geography_Spain  \n",
       "7479                1  \n",
       "3411                0  \n",
       "6027                0  \n",
       "1247                0  \n",
       "3716                0  "
      ]
     },
     "execution_count": 69,
     "metadata": {},
     "output_type": "execute_result"
    }
   ],
   "source": [
    "numeric = ['CreditScore', 'Age', 'Tenure', 'Balance', 'EstimatedSalary']\n",
    "\n",
    "scaler = StandardScaler()\n",
    "scaler.fit(features_train[numeric]) \n",
    "\n",
    "features_train[numeric] = scaler.transform(features_train[numeric])\n",
    "features_valid[numeric] = scaler.transform(features_valid[numeric])\n",
    "features_test[numeric] = scaler.transform(features_test[numeric])\n",
    "\n",
    "features_train.head()"
   ]
  },
  {
   "cell_type": "code",
   "execution_count": 70,
   "metadata": {},
   "outputs": [
    {
     "data": {
      "text/html": [
       "<div>\n",
       "<style scoped>\n",
       "    .dataframe tbody tr th:only-of-type {\n",
       "        vertical-align: middle;\n",
       "    }\n",
       "\n",
       "    .dataframe tbody tr th {\n",
       "        vertical-align: top;\n",
       "    }\n",
       "\n",
       "    .dataframe thead th {\n",
       "        text-align: right;\n",
       "    }\n",
       "</style>\n",
       "<table border=\"1\" class=\"dataframe\">\n",
       "  <thead>\n",
       "    <tr style=\"text-align: right;\">\n",
       "      <th></th>\n",
       "      <th>CreditScore</th>\n",
       "      <th>Age</th>\n",
       "      <th>Tenure</th>\n",
       "      <th>Balance</th>\n",
       "      <th>NumOfProducts</th>\n",
       "      <th>HasCrCard</th>\n",
       "      <th>IsActiveMember</th>\n",
       "      <th>EstimatedSalary</th>\n",
       "      <th>Gender_Male</th>\n",
       "      <th>Geography_Germany</th>\n",
       "      <th>Geography_Spain</th>\n",
       "    </tr>\n",
       "  </thead>\n",
       "  <tbody>\n",
       "    <tr>\n",
       "      <th>8532</th>\n",
       "      <td>-0.699824</td>\n",
       "      <td>-0.373192</td>\n",
       "      <td>-1.101612</td>\n",
       "      <td>-1.233163</td>\n",
       "      <td>2</td>\n",
       "      <td>1</td>\n",
       "      <td>0</td>\n",
       "      <td>-0.015173</td>\n",
       "      <td>0</td>\n",
       "      <td>0</td>\n",
       "      <td>0</td>\n",
       "    </tr>\n",
       "    <tr>\n",
       "      <th>5799</th>\n",
       "      <td>-0.284431</td>\n",
       "      <td>0.575842</td>\n",
       "      <td>-0.737618</td>\n",
       "      <td>-1.233163</td>\n",
       "      <td>1</td>\n",
       "      <td>1</td>\n",
       "      <td>1</td>\n",
       "      <td>1.471724</td>\n",
       "      <td>0</td>\n",
       "      <td>0</td>\n",
       "      <td>0</td>\n",
       "    </tr>\n",
       "    <tr>\n",
       "      <th>5511</th>\n",
       "      <td>0.151731</td>\n",
       "      <td>-0.657902</td>\n",
       "      <td>-1.829601</td>\n",
       "      <td>0.438711</td>\n",
       "      <td>1</td>\n",
       "      <td>1</td>\n",
       "      <td>0</td>\n",
       "      <td>-1.367107</td>\n",
       "      <td>1</td>\n",
       "      <td>1</td>\n",
       "      <td>0</td>\n",
       "    </tr>\n",
       "    <tr>\n",
       "      <th>7365</th>\n",
       "      <td>-0.876366</td>\n",
       "      <td>-0.278288</td>\n",
       "      <td>1.810342</td>\n",
       "      <td>1.239884</td>\n",
       "      <td>1</td>\n",
       "      <td>1</td>\n",
       "      <td>1</td>\n",
       "      <td>-0.786517</td>\n",
       "      <td>0</td>\n",
       "      <td>0</td>\n",
       "      <td>1</td>\n",
       "    </tr>\n",
       "    <tr>\n",
       "      <th>7367</th>\n",
       "      <td>-0.481743</td>\n",
       "      <td>0.291132</td>\n",
       "      <td>1.810342</td>\n",
       "      <td>-1.233163</td>\n",
       "      <td>2</td>\n",
       "      <td>1</td>\n",
       "      <td>0</td>\n",
       "      <td>1.358533</td>\n",
       "      <td>1</td>\n",
       "      <td>0</td>\n",
       "      <td>1</td>\n",
       "    </tr>\n",
       "  </tbody>\n",
       "</table>\n",
       "</div>"
      ],
      "text/plain": [
       "      CreditScore       Age    Tenure   Balance  NumOfProducts  HasCrCard  \\\n",
       "8532    -0.699824 -0.373192 -1.101612 -1.233163              2          1   \n",
       "5799    -0.284431  0.575842 -0.737618 -1.233163              1          1   \n",
       "5511     0.151731 -0.657902 -1.829601  0.438711              1          1   \n",
       "7365    -0.876366 -0.278288  1.810342  1.239884              1          1   \n",
       "7367    -0.481743  0.291132  1.810342 -1.233163              2          1   \n",
       "\n",
       "      IsActiveMember  EstimatedSalary  Gender_Male  Geography_Germany  \\\n",
       "8532               0        -0.015173            0                  0   \n",
       "5799               1         1.471724            0                  0   \n",
       "5511               0        -1.367107            1                  1   \n",
       "7365               1        -0.786517            0                  0   \n",
       "7367               0         1.358533            1                  0   \n",
       "\n",
       "      Geography_Spain  \n",
       "8532                0  \n",
       "5799                0  \n",
       "5511                0  \n",
       "7365                1  \n",
       "7367                1  "
      ]
     },
     "execution_count": 70,
     "metadata": {},
     "output_type": "execute_result"
    }
   ],
   "source": [
    "features_valid.head()"
   ]
  },
  {
   "cell_type": "code",
   "execution_count": 71,
   "metadata": {},
   "outputs": [
    {
     "data": {
      "text/html": [
       "<div>\n",
       "<style scoped>\n",
       "    .dataframe tbody tr th:only-of-type {\n",
       "        vertical-align: middle;\n",
       "    }\n",
       "\n",
       "    .dataframe tbody tr th {\n",
       "        vertical-align: top;\n",
       "    }\n",
       "\n",
       "    .dataframe thead th {\n",
       "        text-align: right;\n",
       "    }\n",
       "</style>\n",
       "<table border=\"1\" class=\"dataframe\">\n",
       "  <thead>\n",
       "    <tr style=\"text-align: right;\">\n",
       "      <th></th>\n",
       "      <th>CreditScore</th>\n",
       "      <th>Age</th>\n",
       "      <th>Tenure</th>\n",
       "      <th>Balance</th>\n",
       "      <th>NumOfProducts</th>\n",
       "      <th>HasCrCard</th>\n",
       "      <th>IsActiveMember</th>\n",
       "      <th>EstimatedSalary</th>\n",
       "      <th>Gender_Male</th>\n",
       "      <th>Geography_Germany</th>\n",
       "      <th>Geography_Spain</th>\n",
       "    </tr>\n",
       "  </thead>\n",
       "  <tbody>\n",
       "    <tr>\n",
       "      <th>7041</th>\n",
       "      <td>-2.226392</td>\n",
       "      <td>-0.088482</td>\n",
       "      <td>-1.101612</td>\n",
       "      <td>-1.233163</td>\n",
       "      <td>2</td>\n",
       "      <td>1</td>\n",
       "      <td>0</td>\n",
       "      <td>0.647083</td>\n",
       "      <td>1</td>\n",
       "      <td>0</td>\n",
       "      <td>0</td>\n",
       "    </tr>\n",
       "    <tr>\n",
       "      <th>5709</th>\n",
       "      <td>-0.087120</td>\n",
       "      <td>0.006422</td>\n",
       "      <td>1.446348</td>\n",
       "      <td>-1.233163</td>\n",
       "      <td>1</td>\n",
       "      <td>1</td>\n",
       "      <td>0</td>\n",
       "      <td>-1.658410</td>\n",
       "      <td>0</td>\n",
       "      <td>0</td>\n",
       "      <td>0</td>\n",
       "    </tr>\n",
       "    <tr>\n",
       "      <th>7117</th>\n",
       "      <td>-0.917905</td>\n",
       "      <td>-0.752805</td>\n",
       "      <td>-0.009629</td>\n",
       "      <td>0.722307</td>\n",
       "      <td>1</td>\n",
       "      <td>1</td>\n",
       "      <td>1</td>\n",
       "      <td>-1.369334</td>\n",
       "      <td>1</td>\n",
       "      <td>0</td>\n",
       "      <td>1</td>\n",
       "    </tr>\n",
       "    <tr>\n",
       "      <th>7775</th>\n",
       "      <td>-0.253277</td>\n",
       "      <td>0.101325</td>\n",
       "      <td>1.810342</td>\n",
       "      <td>-1.233163</td>\n",
       "      <td>2</td>\n",
       "      <td>1</td>\n",
       "      <td>0</td>\n",
       "      <td>0.075086</td>\n",
       "      <td>1</td>\n",
       "      <td>0</td>\n",
       "      <td>1</td>\n",
       "    </tr>\n",
       "    <tr>\n",
       "      <th>8735</th>\n",
       "      <td>0.785204</td>\n",
       "      <td>-0.847708</td>\n",
       "      <td>1.810342</td>\n",
       "      <td>0.615625</td>\n",
       "      <td>1</td>\n",
       "      <td>0</td>\n",
       "      <td>1</td>\n",
       "      <td>-1.070919</td>\n",
       "      <td>1</td>\n",
       "      <td>0</td>\n",
       "      <td>0</td>\n",
       "    </tr>\n",
       "  </tbody>\n",
       "</table>\n",
       "</div>"
      ],
      "text/plain": [
       "      CreditScore       Age    Tenure   Balance  NumOfProducts  HasCrCard  \\\n",
       "7041    -2.226392 -0.088482 -1.101612 -1.233163              2          1   \n",
       "5709    -0.087120  0.006422  1.446348 -1.233163              1          1   \n",
       "7117    -0.917905 -0.752805 -0.009629  0.722307              1          1   \n",
       "7775    -0.253277  0.101325  1.810342 -1.233163              2          1   \n",
       "8735     0.785204 -0.847708  1.810342  0.615625              1          0   \n",
       "\n",
       "      IsActiveMember  EstimatedSalary  Gender_Male  Geography_Germany  \\\n",
       "7041               0         0.647083            1                  0   \n",
       "5709               0        -1.658410            0                  0   \n",
       "7117               1        -1.369334            1                  0   \n",
       "7775               0         0.075086            1                  0   \n",
       "8735               1        -1.070919            1                  0   \n",
       "\n",
       "      Geography_Spain  \n",
       "7041                0  \n",
       "5709                0  \n",
       "7117                1  \n",
       "7775                1  \n",
       "8735                0  "
      ]
     },
     "execution_count": 71,
     "metadata": {},
     "output_type": "execute_result"
    }
   ],
   "source": [
    "features_test.head()"
   ]
  },
  {
   "cell_type": "markdown",
   "metadata": {},
   "source": [
    "<div class=\"alert alert-block alert-danger\">\n",
    "<b>Ошибка:</b> Упс и здесь допущена  небольшая ошибка. Хоть это не повлияло на результат, но это важно <br>\n",
    " Обучать scaler (fit/fit_transform) нужно только на трейне, инче это может привести к утечке данных (data leak). <br>А для остальных выборок делать просто (transform)\n",
    "    \n",
    "Про Data Leaks можно почитать подробнее по следующим ссылкам:\n",
    "\n",
    "[Ссылка 1](https://towardsdatascience.com/preventing-data-leakage-in-your-machine-learning-model-9ae54b3cd1fb) <br>\n",
    "[Ссылка 2](https://machinelearningmastery.com/data-preparation-without-data-leakage/)\n",
    "\n",
    "\n",
    "</div>"
   ]
  },
  {
   "cell_type": "markdown",
   "metadata": {},
   "source": [
    "<div class=\"alert alert-block alert-warning\">\n",
    "<b>Комментарий студента:</b>\n",
    "    Спасибо за полезные ссылки! Уже изучаю\n",
    "</div>\n",
    "<div class=\"alert alert-block alert-warning\">\n",
    "<b>Изменения:</b> Исправил масштабирование – обучил scaler только на тестовых данных\n",
    "</div>\n",
    "<div class=\"alert alert-block alert-warning\">\n",
    "<b>Изменения:</b> Удалил из признаков необязательные поля\n",
    "</div>"
   ]
  },
  {
   "cell_type": "markdown",
   "metadata": {},
   "source": [
    "\n",
    "<div class=\"alert alert-block alert-success\">\n",
    "<b>Успех[2]:</b> Теперь все корректно\n",
    "</div>\n",
    "\n"
   ]
  },
  {
   "cell_type": "markdown",
   "metadata": {},
   "source": [
    "Масштабирование для числовых полей выполнено корректно"
   ]
  },
  {
   "cell_type": "code",
   "execution_count": 72,
   "metadata": {},
   "outputs": [
    {
     "data": {
      "text/plain": [
       "0    1577\n",
       "1     423\n",
       "Name: Exited, dtype: int64"
      ]
     },
     "execution_count": 72,
     "metadata": {},
     "output_type": "execute_result"
    }
   ],
   "source": [
    "target_test.value_counts()"
   ]
  },
  {
   "cell_type": "markdown",
   "metadata": {},
   "source": [
    "Данные подготовлены, порядок корректен"
   ]
  },
  {
   "cell_type": "markdown",
   "metadata": {},
   "source": [
    "### Общий вывод по качеству данных\n",
    "- В целом данные качественные и адекватные\n",
    "- Пришлось немного подправить типы и заполнить (корректно) пропуски, но теперь можно работать с данными без проблем\n",
    "- Также я сделал минимально-необходимую подготовку признаков: масштабирование, прямое и порядковое кодирование и разделение данных на обучающую и валидационную выборки"
   ]
  },
  {
   "cell_type": "markdown",
   "metadata": {},
   "source": [
    "\n",
    "<div class=\"alert alert-block alert-info\">\n",
    "<b>Совет:</b>  Советую обратить внимание на библиотеки sweetviz и pandas_profiling помогут в проведении более тщательного EDA анализа. Исследовательский анализ можно делать и с помощью ручного вызова функций дефолтных библиотек. Данные библиотеки хороши для максимизации комфорта презентации результатов анализа бизнес-пользователям. \n",
    "    \n",
    "Очень просты в использоовании, на вход кладется датафрейм: pandas_profiling.ProfileReport(df) \n",
    "\n",
    "</div>\n"
   ]
  },
  {
   "cell_type": "markdown",
   "metadata": {},
   "source": [
    "<div class=\"alert alert-block alert-warning\">\n",
    "<b>Комментарий студента:</b>\n",
    "    Люман, благодарю! Уже думал о чем-то таком, что упростило бы анализ. Теперь буду знать!\n",
    "</div>"
   ]
  },
  {
   "cell_type": "markdown",
   "metadata": {},
   "source": [
    "<div class=\"alert alert-block alert-success\">\n",
    "    \n",
    "<b>Успех[2]:</b> Главное во время обучения не злоупотреблять, чтобы руки не забыл как делать EDA анализ)\n",
    "</div>\n"
   ]
  },
  {
   "cell_type": "markdown",
   "metadata": {},
   "source": [
    "## Исследование задачи"
   ]
  },
  {
   "cell_type": "markdown",
   "metadata": {},
   "source": [
    "### Проверим баланс классов"
   ]
  },
  {
   "cell_type": "markdown",
   "metadata": {},
   "source": [
    "#### Подготовим вспомогательные структуры данных для проверки баланса классов"
   ]
  },
  {
   "cell_type": "code",
   "execution_count": 73,
   "metadata": {},
   "outputs": [],
   "source": [
    "# Словарь для хранения данных по моделям и некоторых их параметров\n",
    "models_data = [\n",
    "    {\n",
    "        'name': 'LogisticRegression',\n",
    "        'title': 'Logistic Regression',\n",
    "        'model_func': LogisticRegression,\n",
    "        'args_dict': dict(solver='liblinear'),\n",
    "    },\n",
    "    {\n",
    "        'name': 'DecisionTreeClassifier',\n",
    "        'title': 'Decision Tree Classifier',\n",
    "        'model_func': DecisionTreeClassifier,\n",
    "        'args_dict': dict(),\n",
    "    },\n",
    "    {\n",
    "        'name': 'RandomForestClassifier',\n",
    "        'title': 'Random Forest Classifier',\n",
    "        'model_func': RandomForestClassifier,\n",
    "        'args_dict': dict(n_estimators=100, max_leaf_nodes=8, min_samples_split=2, criterion='gini', max_depth=12),\n",
    "    }\n",
    "]\n",
    "\n",
    "# Словарь для хранения F1-мер для различных моделей по различным методам исправления дисбаланса классов\n",
    "f1_scores = {\n",
    "    'LogisticRegression': {\n",
    "        'before': 0,\n",
    "        'class_weight': 0,\n",
    "        'upsampling': 0,\n",
    "        'downsampling': 0,\n",
    "        'threshold': 0\n",
    "    },\n",
    "    'DecisionTreeClassifier': {\n",
    "        'before': 0,\n",
    "        'class_weight': 0,\n",
    "        'upsampling': 0,\n",
    "        'downsampling': 0,\n",
    "        'threshold': 0\n",
    "    },\n",
    "    'RandomForestClassifier': {\n",
    "        'before': 0,\n",
    "        'class_weight': 0,\n",
    "        'upsampling': 0,\n",
    "        'downsampling': 0,\n",
    "        'threshold': 0\n",
    "    }\n",
    "}\n",
    "\n",
    "# Словарь для хранения метрики AUC-ROC для различных моделей по различным методам исправления дисбаланса классов\n",
    "auc_roc_scores = {\n",
    "    'LogisticRegression': {\n",
    "        'before': 0,\n",
    "        'class_weight': 0,\n",
    "        'upsampling': 0,\n",
    "        'downsampling': 0,\n",
    "        'threshold': 0\n",
    "    },\n",
    "    'DecisionTreeClassifier': {\n",
    "        'before': 0,\n",
    "        'class_weight': 0,\n",
    "        'upsampling': 0,\n",
    "        'downsampling': 0,\n",
    "        'threshold': 0\n",
    "    },\n",
    "    'RandomForestClassifier': {\n",
    "        'before': 0,\n",
    "        'class_weight': 0,\n",
    "        'upsampling': 0,\n",
    "        'downsampling': 0,\n",
    "        'threshold': 0\n",
    "    }\n",
    "}\n",
    "\n",
    "# Обученные модели\n",
    "trained_models = {}"
   ]
  },
  {
   "cell_type": "markdown",
   "metadata": {},
   "source": [
    " #### Заготовка для проверки моделей"
   ]
  },
  {
   "cell_type": "code",
   "execution_count": 74,
   "metadata": {},
   "outputs": [],
   "source": [
    "# Функция для получения строки F1-меры с приростом относительно предыдущего значения\n",
    "def f1_str_handle(f1, name, balancing_method):\n",
    "    f1_scores[name][balancing_method] = f1\n",
    "    f1_diff = f1 - f1_scores[name]['before']\n",
    "    f1_pref = '+' if f1_diff >= 0 else ''\n",
    "\n",
    "    return f'({f1_pref}{f1_diff})'\n",
    "    \n",
    "# Функция для получения строки метрики AUC-ROC с приростом относительно предыдущего значения\n",
    "def auc_roc_str_handle(auc_roc, name, balancing_method):\n",
    "    auc_roc_scores[name][balancing_method] = auc_roc\n",
    "    auc_roc_diff = auc_roc - auc_roc_scores[name]['before']\n",
    "    auc_roc_pref = '+' if auc_roc_diff >= 0 else ''\n",
    "    return f'({auc_roc_pref}{auc_roc_diff})'\n",
    "\n",
    "# Функция проверки различных моделей с различными методами устранения дисбаланса классов и вывода:\n",
    "# - Матрицы ошибок\n",
    "# - Гистограмы распределения классов\n",
    "# - F1-меры\n",
    "# - Метрики AUC-ROC\n",
    "def model_check(balancing_method, features_t, target_t, features_v, target_v, class_weight, aux_func, show_matrix, show_class_hist, trained_model_key):\n",
    "    i = 0\n",
    "    if show_class_hist == True:\n",
    "        fig, axes = plt.subplots(1,3, figsize=(12,3))\n",
    "\n",
    "    for item in models_data:\n",
    "        title = item['title']\n",
    "        name = item['name']\n",
    "        model_func = item['model_func']\n",
    "        args_dict = item['args_dict']\n",
    "    \n",
    "        model = model_func(**args_dict, class_weight=class_weight)\n",
    "        model.fit(features_t, target_t)\n",
    "        \n",
    "        if trained_model_key != None:\n",
    "            trained_models[trained_model_key] = model\n",
    "        \n",
    "        if aux_func != None:\n",
    "            aux_func(model, name, features_v, target_v)\n",
    "            \n",
    "        predicted = model.predict(features_v)\n",
    "\n",
    "        predicted_valid = pd.Series(predicted)\n",
    "\n",
    "        probabilities_valid = model.predict_proba(features_valid)\n",
    "        probabilities_one_valid = probabilities_valid[:, 1]\n",
    "\n",
    "        class_freq = predicted_valid.value_counts(normalize=True)\n",
    "        \n",
    "        f1_diff_str = '';\n",
    "        f1 = f1_score(target_v, predicted_valid)\n",
    "        \n",
    "        auc_roc_diff_str = ''\n",
    "        auc_roc = roc_auc_score(target_valid, probabilities_one_valid)\n",
    "        \n",
    "        if balancing_method == None: \n",
    "            f1_scores[name]['before'] = f1\n",
    "            auc_roc_scores[name]['before'] = auc_roc\n",
    "        else:\n",
    "            f1_diff_str = f1_str_handle(f1, name, balancing_method)\n",
    "            auc_roc_diff_str = auc_roc_str_handle(auc_roc, name, balancing_method)\n",
    "           \n",
    "\n",
    "        print(f'{color_bold}Модель \"{title}\":{color_end}\\n')\n",
    "            \n",
    "        if show_matrix == True:\n",
    "            print('Матрица ошибок:')\n",
    "            print(class_freq, '\\n')\n",
    "        \n",
    "        print(f'F1-мера: {f1} {f1_diff_str}\\n')\n",
    "        print(f'AUC-ROC: {auc_roc} {auc_roc_diff_str}\\n')\n",
    "    \n",
    "        if show_class_hist == True:\n",
    "            class_freq.plot(kind=\"bar\", ax=axes[i], sharey=True);\n",
    "            axes[i].set_title(title)\n",
    "            axes[i].set_xlabel('Значение')\n",
    "            axes[i].set_ylabel('Доля')\n",
    "            \n",
    "        i+=1\n",
    "        \n",
    "    if show_class_hist == True:\n",
    "        print(f'{color_bold}Распределение классов для моделей{color_end}')\n",
    "        fig.tight_layout()\n",
    "        fig.show()"
   ]
  },
  {
   "cell_type": "markdown",
   "metadata": {},
   "source": [
    "<div class=\"alert alert-block alert-success\">\n",
    "<b>Успех:</b> Хорошие помощники\n",
    "</div>\n"
   ]
  },
  {
   "cell_type": "markdown",
   "metadata": {},
   "source": [
    "#### Значения балансировки классов для разных моделей"
   ]
  },
  {
   "cell_type": "code",
   "execution_count": 75,
   "metadata": {},
   "outputs": [
    {
     "name": "stdout",
     "output_type": "stream",
     "text": [
      "\u001b[1mМодель \"Logistic Regression\":\u001b[0m\n",
      "\n",
      "Матрица ошибок:\n",
      "0    0.913\n",
      "1    0.087\n",
      "dtype: float64 \n",
      "\n",
      "F1-мера: 0.33108108108108103 \n",
      "\n",
      "AUC-ROC: 0.7586650657214234 \n",
      "\n",
      "\u001b[1mМодель \"Decision Tree Classifier\":\u001b[0m\n",
      "\n",
      "Матрица ошибок:\n",
      "0    0.8\n",
      "1    0.2\n",
      "dtype: float64 \n",
      "\n",
      "F1-мера: 0.49877750611246946 \n",
      "\n",
      "AUC-ROC: 0.6820722361011137 \n",
      "\n",
      "\u001b[1mМодель \"Random Forest Classifier\":\u001b[0m\n",
      "\n",
      "Матрица ошибок:\n",
      "0    0.942\n",
      "1    0.058\n",
      "dtype: float64 \n",
      "\n",
      "F1-мера: 0.37453183520599254 \n",
      "\n",
      "AUC-ROC: 0.8324383464695528 \n",
      "\n",
      "\u001b[1mРаспределение классов для моделей\u001b[0m\n"
     ]
    },
    {
     "data": {
      "image/png": "[encoded data removed]",
      "text/plain": [
       "<Figure size 864x216 with 3 Axes>"
      ]
     },
     "metadata": {
      "needs_background": "light"
     },
     "output_type": "display_data"
    }
   ],
   "source": [
    "model_check(\n",
    "    balancing_method=None,\n",
    "    features_t=features_train,\n",
    "    target_t=target_train,\n",
    "    features_v=features_valid,\n",
    "    target_v=target_valid,\n",
    "    class_weight=None,\n",
    "    aux_func=None,\n",
    "    show_matrix=True,\n",
    "    show_class_hist=True,\n",
    "    trained_model_key=None\n",
    ")"
   ]
  },
  {
   "cell_type": "markdown",
   "metadata": {},
   "source": [
    "### Выводы по балансу классов\n",
    "Перспективнее всех выглядит модель \"RandomForestClassifier\" – самый больший дисбаланс, который можно уменьшить\n",
    "Такой вывод я делаю на основании подозрения, что остальные можели максимально отработали и не дадут явного уменьшения дисбаланса\n",
    "\n",
    "Модели явно пессимистичны и надо устранить дисбаланс, чем и займусь далее"
   ]
  },
  {
   "cell_type": "markdown",
   "metadata": {},
   "source": [
    "## Борьба с дисбалансом"
   ]
  },
  {
   "cell_type": "markdown",
   "metadata": {},
   "source": [
    "Для балансировки классов применим следующие практики:\n",
    "- Балансировка веса классов (class_weight='balanced')\n",
    "- Увеличение выборки\n",
    "- Уменьшение выборки\n",
    "- Изменение порога классов"
   ]
  },
  {
   "cell_type": "markdown",
   "metadata": {},
   "source": [
    "<div class=\"alert alert-block alert-success\">\n",
    "<b>Успех:</b> Шаг проделан хорошо,  все метрики посчитаны корректно, идем дальше.\n",
    "</div>\n"
   ]
  },
  {
   "cell_type": "markdown",
   "metadata": {},
   "source": [
    "### Балансировка веса классов\n",
    "Обучим модель заново, но уже с параметром \"class_weight='balanced'\"\n",
    "\n",
    "После проверим F1-меру и метрику AUC-ROC"
   ]
  },
  {
   "cell_type": "code",
   "execution_count": 76,
   "metadata": {},
   "outputs": [
    {
     "name": "stdout",
     "output_type": "stream",
     "text": [
      "\u001b[1mМодель \"Logistic Regression\":\u001b[0m\n",
      "\n",
      "F1-мера: 0.4888507718696398 (+0.1577696907885588)\n",
      "\n",
      "AUC-ROC: 0.7637007845438214 (+0.00503571882239795)\n",
      "\n",
      "\u001b[1mМодель \"Decision Tree Classifier\":\u001b[0m\n",
      "\n",
      "F1-мера: 0.4778325123152709 (-0.020944993797198552)\n",
      "\n",
      "AUC-ROC: 0.6688462911099148 (-0.01322594499119889)\n",
      "\n",
      "\u001b[1mМодель \"Random Forest Classifier\":\u001b[0m\n",
      "\n",
      "F1-мера: 0.5959498553519769 (+0.22141802014598433)\n",
      "\n",
      "AUC-ROC: 0.8434534143080952 (+0.011015067838542336)\n",
      "\n"
     ]
    }
   ],
   "source": [
    "model_check(\n",
    "    balancing_method='class_weight',\n",
    "    features_t=features_train,\n",
    "    target_t=target_train,\n",
    "    features_v=features_valid,\n",
    "    target_v=target_valid,\n",
    "    class_weight='balanced',\n",
    "    aux_func=None,\n",
    "    show_matrix=False,\n",
    "    show_class_hist=False,\n",
    "    trained_model_key='class_weight_balanced'\n",
    ")    "
   ]
  },
  {
   "cell_type": "markdown",
   "metadata": {},
   "source": [
    "#### Вывод для метода балансировки \"Балансировка веса классов\"\n",
    "- Максимальное улчшение F1-меры произошло для модели LogisticRegression\n",
    "- Модель DecisionTreeClassifier c балансировкой ухудшила F1-меру\n",
    "- Модель RandomForestClassifier ЗНАЧИТЕЛЬНО улучшила F1-меру и превысила порог (5.9)\n",
    "- Для всех моделей произошло незначительное изменение метрики AUC-ROC, что говорит о том, что балансировка классов значимо не ухудшает и и не улучшает качество моделей в сторону случайной модели"
   ]
  },
  {
   "cell_type": "markdown",
   "metadata": {},
   "source": [
    "### Увеличение выборки"
   ]
  },
  {
   "cell_type": "code",
   "execution_count": 77,
   "metadata": {},
   "outputs": [
    {
     "name": "stdout",
     "output_type": "stream",
     "text": [
      "\u001b[1mМодель \"Logistic Regression\":\u001b[0m\n",
      "\n",
      "F1-мера: 0.4888507718696398 (+0.1577696907885588)\n",
      "\n",
      "AUC-ROC: 0.7636508810239597 (+0.004985815302536278)\n",
      "\n",
      "\u001b[1mМодель \"Decision Tree Classifier\":\u001b[0m\n",
      "\n",
      "F1-мера: 0.4752714113389626 (-0.023506094773506847)\n",
      "\n",
      "AUC-ROC: 0.6680100290952643 (-0.01406220700584937)\n",
      "\n",
      "\u001b[1mМодель \"Random Forest Classifier\":\u001b[0m\n",
      "\n",
      "F1-мера: 0.5967276227141481 (+0.2221957875081556)\n",
      "\n",
      "AUC-ROC: 0.8340397957887478 (+0.0016014493191949253)\n",
      "\n",
      "\u001b[1m\n",
      "Баланс классов после увеличения выборки:\u001b[0m\n",
      "0    4804\n",
      "1    4784\n",
      "Name: Exited, dtype: int64\n"
     ]
    }
   ],
   "source": [
    "def upsample(features, target, repeat):\n",
    "    f_z = features[target == 0]\n",
    "    f_o = features[target == 1]\n",
    "    t_z = target[target == 0]\n",
    "    t_o = target[target == 1]\n",
    "    \n",
    "    f_u = pd.concat([f_z] + [f_o] * repeat)\n",
    "    t_u = pd.concat([t_z] + [t_o] * repeat)\n",
    "    \n",
    "    f_u_s, t_u_s = shuffle(f_u, t_u, random_state=random_state)\n",
    "    \n",
    "    return f_u_s, t_u_s\n",
    "\n",
    "features_upsampled, target_upsampled = upsample(features_train, target_train, 4)\n",
    "\n",
    "model_check(\n",
    "    balancing_method='upsampling',\n",
    "    features_t=features_upsampled,\n",
    "    target_t=target_upsampled,\n",
    "    features_v=features_valid,\n",
    "    target_v=target_valid,\n",
    "    class_weight=None,\n",
    "    aux_func=None,\n",
    "    show_matrix=False,\n",
    "    show_class_hist=False,\n",
    "    trained_model_key='upsampling'\n",
    ")  \n",
    "\n",
    "print(f'{color_bold}\\nБаланс классов после увеличения выборки:{color_end}')\n",
    "print(target_upsampled.value_counts())"
   ]
  },
  {
   "cell_type": "markdown",
   "metadata": {},
   "source": [
    "<div class=\"alert alert-block alert-danger\"> \n",
    "\n",
    "<b>Ошибка:</b> Выбран не самый лучший `repeat` - ведь нам нужно полностью устарнить дисбаланс. Проверить можно через `target_upsampled.value_counts()`\n",
    "</div>\n"
   ]
  },
  {
   "cell_type": "markdown",
   "metadata": {},
   "source": [
    "<div class=\"alert alert-block alert-warning\">\n",
    "<b>Изменения:</b> параметр repeat подобран так, чтобы дисбаланс был минимальный\n",
    "</div>\n"
   ]
  },
  {
   "cell_type": "markdown",
   "metadata": {},
   "source": [
    "<div class=\"alert alert-block alert-success\">\n",
    "    \n",
    "<b>Успех[2]:</b>  Отлично\n",
    "</div>\n"
   ]
  },
  {
   "cell_type": "markdown",
   "metadata": {},
   "source": [
    "#### Вывод для метода балансировки \"Увеличение выборки\"\n",
    "- Максимальное улчшение F1-меры произошло для модели LogisticRegression\n",
    "- Модель DecisionTreeClassifier c балансировкой незначительно улучшила F1-меру\n",
    "- Модель RandomForestClassifier также значительно улучшила F1-меру, и в этом случае F1-мера прошла порог 5.9 (на чем, в принципе можно завершать исследование, но мы проверим еще 2 способа)\n",
    "- Для всех моделей произошло также незначительное изменение метрики AUC-ROC, что говорит о том, что балансировка классов значимо не ухудшает и и не улучшает качество моделей в сторону случайной модели"
   ]
  },
  {
   "cell_type": "markdown",
   "metadata": {},
   "source": [
    "### Уменьшение выборки"
   ]
  },
  {
   "cell_type": "code",
   "execution_count": 78,
   "metadata": {},
   "outputs": [
    {
     "name": "stdout",
     "output_type": "stream",
     "text": [
      "\u001b[1mМодель \"Logistic Regression\":\u001b[0m\n",
      "\n",
      "F1-мера: 0.48406546080964685 (+0.15298437972856582)\n",
      "\n",
      "AUC-ROC: 0.762282314797452 (+0.0036172490760285614)\n",
      "\n",
      "\u001b[1mМодель \"Decision Tree Classifier\":\u001b[0m\n",
      "\n",
      "F1-мера: 0.4834605597964376 (-0.015316946316031865)\n",
      "\n",
      "AUC-ROC: 0.6904666130329847 (+0.008394376931871061)\n",
      "\n",
      "\u001b[1mМодель \"Random Forest Classifier\":\u001b[0m\n",
      "\n",
      "F1-мера: 0.5768880800727935 (+0.20235624486680093)\n",
      "\n",
      "AUC-ROC: 0.8346038567859715 (+0.0021655103164186507)\n",
      "\n",
      "\u001b[1m\n",
      "Баланс классов после уменьшения выборки:\u001b[0m\n",
      "0    1201\n",
      "1    1196\n",
      "Name: Exited, dtype: int64\n"
     ]
    }
   ],
   "source": [
    "def downsample(features, target, fraction):\n",
    "    features_zeros = features[target == 0]\n",
    "    features_ones = features[target == 1]\n",
    "    target_zeros = target[target == 0]\n",
    "    target_ones = target[target == 1]\n",
    "\n",
    "    features_downsampled = pd.concat(\n",
    "        [features_zeros.sample(frac=fraction, random_state=random_state)] + [features_ones])\n",
    "    target_downsampled = pd.concat(\n",
    "        [target_zeros.sample(frac=fraction, random_state=random_state)] + [target_ones])\n",
    "    \n",
    "    features_downsampled, target_downsampled = shuffle(\n",
    "        features_downsampled, target_downsampled, random_state=random_state)\n",
    "    \n",
    "    return features_downsampled, target_downsampled\n",
    "\n",
    "features_downsampled, target_downsampled = downsample(features_train, target_train, 0.25)\n",
    "\n",
    "model_check(\n",
    "    balancing_method='downsampling',\n",
    "    features_t=features_downsampled,\n",
    "    target_t=target_downsampled,\n",
    "    features_v=features_valid,\n",
    "    target_v=target_valid,\n",
    "    class_weight=None,\n",
    "    aux_func=None,\n",
    "    show_matrix=False,\n",
    "    show_class_hist=False,\n",
    "    trained_model_key='downsampling'\n",
    ")  \n",
    "\n",
    "print(f'{color_bold}\\nБаланс классов после уменьшения выборки:{color_end}')\n",
    "print(target_downsampled.value_counts())"
   ]
  },
  {
   "cell_type": "markdown",
   "metadata": {},
   "source": [
    "<div class=\"alert alert-block alert-danger\"> \n",
    "\n",
    "<b>Ошибка:</b> Наша цель избавиться от дисбаланса, то есть использовать такой `fraction`, который устраняет дисбаланс, а не создает новый. Проверить можно через `target_downsampled.value_counts()`\n",
    "</div>\n"
   ]
  },
  {
   "cell_type": "markdown",
   "metadata": {},
   "source": [
    "<div class=\"alert alert-block alert-success\">\n",
    "    \n",
    "<b>Успех[2]:</b> И тут все хорошо\n",
    "</div>\n"
   ]
  },
  {
   "cell_type": "markdown",
   "metadata": {},
   "source": [
    "#### Вывод для метода балансировки \"Уменьшение выборки\"\n",
    "- Максимальное, но незначительное улчшение F1-меры произошло для модели LogisticRegression\n",
    "- Для остальных моделей произошло незначительное ухудшение F1-меры\n",
    "- Качество можелей улучшилось незначительно"
   ]
  },
  {
   "cell_type": "markdown",
   "metadata": {},
   "source": [
    "### Изменение порога"
   ]
  },
  {
   "cell_type": "code",
   "execution_count": 79,
   "metadata": {},
   "outputs": [],
   "source": [
    "# Вспомогательная функция для перебора значений порога\n",
    "def aux_func_for_threshold(model, model_name, features_v, target_v):\n",
    "    probabilities_valid = model.predict_proba(features_v)\n",
    "    probabilities_one_valid = probabilities_valid[:, 1]\n",
    "\n",
    "    for threshold in np.arange(0, 0.3, 0.02):\n",
    "        predicted_valid = probabilities_one_valid > threshold\n",
    "    \n",
    "        f1 = f1_score(target_v, predicted_valid)\n",
    "\n",
    "        if f1 > f1_scores[model_name]['threshold']:\n",
    "            f1_scores[model_name]['threshold'] = f1"
   ]
  },
  {
   "cell_type": "markdown",
   "metadata": {},
   "source": [
    "#### Без увеличения выборки"
   ]
  },
  {
   "cell_type": "code",
   "execution_count": 81,
   "metadata": {},
   "outputs": [
    {
     "name": "stdout",
     "output_type": "stream",
     "text": [
      "\u001b[1mМодель \"Logistic Regression\":\u001b[0m\n",
      "\n",
      "F1-мера: 0.33108108108108103 (+0.0)\n",
      "\n",
      "AUC-ROC: 0.7586650657214234 (+0.0)\n",
      "\n",
      "\u001b[1mМодель \"Decision Tree Classifier\":\u001b[0m\n",
      "\n",
      "F1-мера: 0.49760765550239233 (-0.0011698506100771278)\n",
      "\n",
      "AUC-ROC: 0.6824321463352669 (+0.00035991023415327117)\n",
      "\n",
      "\u001b[1mМодель \"Random Forest Classifier\":\u001b[0m\n",
      "\n",
      "F1-мера: 0.3384615384615385 (-0.036070296744454056)\n",
      "\n",
      "AUC-ROC: 0.8330946533671266 (+0.0006563068975737885)\n",
      "\n"
     ]
    }
   ],
   "source": [
    "model_check(\n",
    "    balancing_method='threshold',\n",
    "    features_t=features_train,\n",
    "    target_t=target_train,\n",
    "    features_v=features_valid,\n",
    "    target_v=target_valid,\n",
    "    class_weight=None,\n",
    "    aux_func=aux_func_for_threshold,\n",
    "    show_matrix=False,\n",
    "    show_class_hist=False,\n",
    "    trained_model_key='threshold_plain'\n",
    ")  \n"
   ]
  },
  {
   "cell_type": "markdown",
   "metadata": {},
   "source": [
    "#### Вывод для метода балансировки \"Изменение порога без увеличения выборки\"\n",
    "- Для всех моделей произошли незначительные изменения F1-меры и качества\n",
    "- Далее попробуем скомбинировать методы, которые дают прирост F1-меры"
   ]
  },
  {
   "cell_type": "markdown",
   "metadata": {},
   "source": [
    "#### С увеличением выборки"
   ]
  },
  {
   "cell_type": "code",
   "execution_count": 82,
   "metadata": {},
   "outputs": [
    {
     "name": "stdout",
     "output_type": "stream",
     "text": [
      "\u001b[1mМодель \"Logistic Regression\":\u001b[0m\n",
      "\n",
      "F1-мера: 0.4888507718696398 (+0.1577696907885588)\n",
      "\n",
      "AUC-ROC: 0.7636508810239597 (+0.004985815302536278)\n",
      "\n",
      "\u001b[1mМодель \"Decision Tree Classifier\":\u001b[0m\n",
      "\n",
      "F1-мера: 0.48484848484848486 (-0.013929021263984598)\n",
      "\n",
      "AUC-ROC: 0.6738109352222068 (-0.008261300878906863)\n",
      "\n",
      "\u001b[1mМодель \"Random Forest Classifier\":\u001b[0m\n",
      "\n",
      "F1-мера: 0.5841209829867675 (+0.20958914778077498)\n",
      "\n",
      "AUC-ROC: 0.8392237129428559 (+0.006785366473303078)\n",
      "\n"
     ]
    }
   ],
   "source": [
    "model_check(\n",
    "    balancing_method='threshold',\n",
    "    features_t=features_upsampled,\n",
    "    target_t=target_upsampled,\n",
    "    features_v=features_valid,\n",
    "    target_v=target_valid,\n",
    "    class_weight=None,\n",
    "    aux_func=aux_func_for_threshold,\n",
    "    show_matrix=False,\n",
    "    show_class_hist=False,\n",
    "    trained_model_key='threshold_with_upsampling'\n",
    ")  \n"
   ]
  },
  {
   "cell_type": "markdown",
   "metadata": {},
   "source": [
    "#### Вывод для метода балансировки \"Изменение порога c увеличением выборки\"\n",
    "- Для моделей \"Logistic Regression\" и \"Random Forest Classifier\" улучшилось значение F1-меры и произошло незначительное изменение AUC-ROC\n",
    "- F1-мера для \"Decision Tree Classifier\" ухудшилась\n",
    "- Попробуем добавить еще и баланс классов"
   ]
  },
  {
   "cell_type": "markdown",
   "metadata": {},
   "source": [
    "#### С увеличением выборки и балансировкой классов"
   ]
  },
  {
   "cell_type": "code",
   "execution_count": 83,
   "metadata": {},
   "outputs": [
    {
     "name": "stdout",
     "output_type": "stream",
     "text": [
      "\u001b[1mМодель \"Logistic Regression\":\u001b[0m\n",
      "\n",
      "F1-мера: 0.4888507718696398 (+0.1577696907885588)\n",
      "\n",
      "AUC-ROC: 0.7636584421633328 (+0.004993376441909336)\n",
      "\n",
      "\u001b[1mМодель \"Decision Tree Classifier\":\u001b[0m\n",
      "\n",
      "F1-мера: 0.4857496902106567 (-0.013027815901812734)\n",
      "\n",
      "AUC-ROC: 0.6734510249880534 (-0.008621211113060245)\n",
      "\n",
      "\u001b[1mМодель \"Random Forest Classifier\":\u001b[0m\n",
      "\n",
      "F1-мера: 0.5950570342205322 (+0.2205251990145397)\n",
      "\n",
      "AUC-ROC: 0.8355308524730974 (+0.003092506003544604)\n",
      "\n"
     ]
    }
   ],
   "source": [
    "model_check(\n",
    "    balancing_method='threshold',\n",
    "    features_t=features_upsampled,\n",
    "    target_t=target_upsampled,\n",
    "    features_v=features_valid,\n",
    "    target_v=target_valid,\n",
    "    class_weight='balanced',\n",
    "    aux_func=aux_func_for_threshold,\n",
    "    show_matrix=False,\n",
    "    show_class_hist=False,\n",
    "    trained_model_key='threshold_with_upsampling_and_balanced'\n",
    ")  \n"
   ]
  },
  {
   "cell_type": "markdown",
   "metadata": {},
   "source": [
    "#### Вывод для метода балансировки \"Изменение порога c увеличением выборки\"\n",
    "- Для модели RandomForestClassifier существеннон улучшение F1-меры и незначимое улучшение качества \n",
    "- Для модели LogisticRegression произошло улучшение F1-меры и качества, но не больше, чем при остальных методах\n",
    "- Модель DecisionTreeClassifier ухудшила все показатели"
   ]
  },
  {
   "cell_type": "markdown",
   "metadata": {},
   "source": [
    "### Общий вывод для улучшения баланса классов"
   ]
  },
  {
   "cell_type": "markdown",
   "metadata": {},
   "source": [
    "- Модель RandomForestClassifier показала наилучшие результаты до балансировки классов\n",
    "- После применения трех методов улучшения баланса (балансировка классов, увеличение выборки и изменение порога) модель показала максимальное значение F1-меры: больше 5.9\n",
    "- Метод \"Уменьшение выборки\" дал самый плохой результат и для двух моделей ухудшил F1-меру\n",
    "\n",
    "Вывод:\n",
    "Применя к RandomForestClassifier сразу три метода улучшения баланса классов, можно добиться максимальных значений F1-меры и метрики AUC-ROC"
   ]
  },
  {
   "cell_type": "markdown",
   "metadata": {},
   "source": [
    "<div class=\"alert alert-block alert-success\">\n",
    "<b>Успех:</b> А так хорошая работа с моделями машинного обучения.  Радует  достаточное количество расмотренных методов для борьбы с дисбалансом.\n",
    "\n",
    "</div>\n"
   ]
  },
  {
   "cell_type": "markdown",
   "metadata": {},
   "source": [
    "## Тестирование модели"
   ]
  },
  {
   "cell_type": "code",
   "execution_count": 86,
   "metadata": {},
   "outputs": [
    {
     "name": "stdout",
     "output_type": "stream",
     "text": [
      "\u001b[1mF1-мера на тестовой выборке:\u001b[0m 0.5914691943127962\n",
      "\u001b[1mAUC_ROC на тестовой выборке:\u001b[0m 0.8386476102243989\n"
     ]
    }
   ],
   "source": [
    "model = RandomForestClassifier(\n",
    "    n_estimators=100,\n",
    "    max_leaf_nodes=8,\n",
    "    min_samples_split=2,\n",
    "    criterion='gini',\n",
    "    max_depth=12,\n",
    "    random_state=random_state\n",
    ")\n",
    "\n",
    "model.fit(features_upsampled, target_upsampled)\n",
    "\n",
    "predicted_test = pd.Series(model.predict(features_test))\n",
    "\n",
    "probabilities_test = model.predict_proba(features_test)\n",
    "probabilities_one_test = probabilities_test[:, 1]\n",
    "\n",
    "f1_test = f1_score(target_test, predicted_test)\n",
    "auc_roc_test = roc_auc_score(target_test, probabilities_one_test)\n",
    "\n",
    "print(f'{color_bold}F1-мера на тестовой выборке:{color_end} {f1_test}')\n",
    "print(f'{color_bold}AUC_ROC на тестовой выборке:{color_end} {auc_roc_test}')"
   ]
  },
  {
   "cell_type": "markdown",
   "metadata": {},
   "source": [
    "<div class=\"alert alert-block alert-danger\"> \n",
    "\n",
    "<b>Ошибка:</b> При обучении модели нужно использовать параметр `random_state` для детерминированности\n",
    "</div>\n"
   ]
  },
  {
   "cell_type": "markdown",
   "metadata": {},
   "source": [
    "<div class=\"alert alert-block alert-warning\">\n",
    "<b>Комментарий студента:</b>\n",
    "    Мне казалось, что если я сохраню обученую модель (что я делал во вспомогательной функции), то заново создавать и обучать ее не придется)\n",
    "</div>\n",
    "<div class=\"alert alert-block alert-warning\">\n",
    "<b>Изменения:</b> Исправил - заново создал и обучил модель с теми же параметрами\n",
    "</div>"
   ]
  },
  {
   "cell_type": "markdown",
   "metadata": {},
   "source": [
    "<div class=\"alert alert-block alert-success\">\n",
    "<b>Успех[2]:</b> Ты правильно думал, но при перезапуске твоего кода тогда результаты могут меняться. А если бы ты устновил везде, где обучаешь модель с заданным random_state - всегда получал одинаковый результат\n",
    "\n",
    "</div>\n"
   ]
  },
  {
   "cell_type": "markdown",
   "metadata": {},
   "source": [
    "#### Вывод по тестовой выборке\n",
    "- На тестовой выборке модель RandomForestClassifier показала чуть худшие результаты F1-меры, но в пределах нормы (>5.9) Это значит, что полнота и точность модели на довольно высоком уровне\n",
    "- Метрика AUC-ROC показала хорошие результаты, а это значит, что модель сильно отличается от случайной модели и дейсвительно предсказывает результаты на основе обучения"
   ]
  },
  {
   "cell_type": "markdown",
   "metadata": {},
   "source": [
    "### Общий вывод"
   ]
  },
  {
   "cell_type": "markdown",
   "metadata": {},
   "source": [
    "В ходе исследования я провел необходимые подготовительные действия:\n",
    "- Загрузил и исследовал датасет\n",
    "- Исправил данные (заполнил пропуски)\n",
    "- Подготовил данные для обучения моделей (прямое и порядковое кодирование, масштабирование признаков)\n",
    "- Исследовал баланс классов\n",
    "- Избавился от дисбаланса классов различными методами (их комбинацией)\n",
    "- Исследовал метрики F1 и AUC-ROC\n",
    "- Выбрал наилучшую модель\n",
    "- Протестировал  модель на тестовой выборке\n",
    "\n",
    "Для поиска лучшей модели:\n",
    "- Я провел исследование различных моделей для поиска той, которая даст максимальные F1-меру (>=5.9) и метрику AUC-ROC\n",
    "- Наилучшей оказалась модель RandomForestClassifier\n",
    "- Комбинация методов (балансировка классов, увеличение выборки и изменение порога) дала наилучшие результаты (F1-мера > 5.9, иногда >6)\n",
    "- Модель была протестирована на тестовых данных и также показала хорошие результаты"
   ]
  },
  {
   "cell_type": "markdown",
   "metadata": {},
   "source": [
    "\n",
    "\n",
    "<div class=\"alert alert-block alert-info\">\n",
    "<b>Совет:</b> Для понимания, а какие в итоге факторы важны при моделировании, можно выводить их важность, использую feature_importances_, ну и график заодно. Это будет смотреться очнь здорово: результативная метрика и график важности факторов)))<br> Очень ВАЖНАЯ для аналитики штука. Ведь нам не просто модель с метрикой нужна, а ещё и причины понять высокой/низкой метрики. Т.е. понять с какой силой сами факторы влияют на целевую.\n",
    "</div>"
   ]
  },
  {
   "cell_type": "markdown",
   "metadata": {},
   "source": [
    "## Чек-лист готовности проекта"
   ]
  },
  {
   "cell_type": "markdown",
   "metadata": {},
   "source": [
    "Поставьте 'x' в выполненных пунктах. Далее нажмите Shift+Enter."
   ]
  },
  {
   "cell_type": "markdown",
   "metadata": {},
   "source": [
    "- [x]  Jupyter Notebook открыт\n",
    "- [x]  Весь код выполняется без ошибок\n",
    "- [x]  Ячейки с кодом расположены в порядке исполнения\n",
    "- [x]  Выполнен шаг 1: данные подготовлены\n",
    "- [x]  Выполнен шаг 2: задача исследована\n",
    "    - [x]  Исследован баланс классов\n",
    "    - [x]  Изучены модели без учёта дисбаланса\n",
    "    - [x]  Написаны выводы по результатам исследования\n",
    "- [x]  Выполнен шаг 3: учтён дисбаланс\n",
    "    - [x]  Применено несколько способов борьбы с дисбалансом\n",
    "    - [x]  Написаны выводы по результатам исследования\n",
    "- [x]  Выполнен шаг 4: проведено тестирование\n",
    "- [x]  Удалось достичь *F1*-меры не менее 0.59\n",
    "- [x]  Исследована метрика *AUC-ROC*"
   ]
  },
  {
   "cell_type": "markdown",
   "metadata": {},
   "source": [
    "# Спасибо за внимание!"
   ]
  },
  {
   "cell_type": "code",
   "execution_count": null,
   "metadata": {},
   "outputs": [],
   "source": []
  }
 ],
 "metadata": {
  "ExecuteTimeLog": [
   {
    "duration": 12659,
    "start_time": "2023-11-13T15:01:28.335Z"
   },
   {
    "duration": 82,
    "start_time": "2023-11-13T15:07:58.692Z"
   },
   {
    "duration": 3,
    "start_time": "2023-11-13T15:11:10.807Z"
   },
   {
    "duration": 43,
    "start_time": "2023-11-13T15:11:12.305Z"
   },
   {
    "duration": 43,
    "start_time": "2023-11-13T15:13:19.422Z"
   },
   {
    "duration": 14,
    "start_time": "2023-11-13T15:13:57.273Z"
   },
   {
    "duration": 11,
    "start_time": "2023-11-13T15:14:41.435Z"
   },
   {
    "duration": 6,
    "start_time": "2023-11-13T15:16:30.060Z"
   },
   {
    "duration": 7,
    "start_time": "2023-11-13T15:24:58.356Z"
   },
   {
    "duration": 379,
    "start_time": "2023-11-13T15:35:10.562Z"
   },
   {
    "duration": 90,
    "start_time": "2023-11-13T15:35:10.943Z"
   },
   {
    "duration": 11,
    "start_time": "2023-11-13T15:35:11.048Z"
   },
   {
    "duration": 11,
    "start_time": "2023-11-13T15:35:11.061Z"
   },
   {
    "duration": 70,
    "start_time": "2023-11-13T15:35:44.763Z"
   },
   {
    "duration": 11,
    "start_time": "2023-11-13T15:35:54.766Z"
   },
   {
    "duration": 12,
    "start_time": "2023-11-13T15:36:11.613Z"
   },
   {
    "duration": 13,
    "start_time": "2023-11-13T15:36:20.987Z"
   },
   {
    "duration": 11,
    "start_time": "2023-11-13T15:36:36.884Z"
   },
   {
    "duration": 18,
    "start_time": "2023-11-13T15:36:38.502Z"
   },
   {
    "duration": 14,
    "start_time": "2023-11-13T15:37:20.143Z"
   },
   {
    "duration": 13,
    "start_time": "2023-11-13T15:37:28.745Z"
   },
   {
    "duration": 376,
    "start_time": "2023-11-13T15:57:09.896Z"
   },
   {
    "duration": 39,
    "start_time": "2023-11-13T15:57:10.274Z"
   },
   {
    "duration": 12,
    "start_time": "2023-11-13T15:57:10.315Z"
   },
   {
    "duration": 19,
    "start_time": "2023-11-13T15:57:10.329Z"
   },
   {
    "duration": 14,
    "start_time": "2023-11-13T15:57:20.341Z"
   },
   {
    "duration": 14,
    "start_time": "2023-11-13T15:57:30.139Z"
   },
   {
    "duration": 63,
    "start_time": "2023-11-13T19:40:24.795Z"
   },
   {
    "duration": 477,
    "start_time": "2023-11-13T19:40:30.503Z"
   },
   {
    "duration": 182,
    "start_time": "2023-11-13T19:40:30.982Z"
   },
   {
    "duration": 19,
    "start_time": "2023-11-13T19:40:31.166Z"
   },
   {
    "duration": 118,
    "start_time": "2023-11-13T19:40:31.188Z"
   },
   {
    "duration": 0,
    "start_time": "2023-11-13T19:40:31.308Z"
   },
   {
    "duration": 4,
    "start_time": "2023-11-13T19:40:40.491Z"
   },
   {
    "duration": 11,
    "start_time": "2023-11-13T19:42:40.172Z"
   },
   {
    "duration": 10,
    "start_time": "2023-11-13T19:42:48.533Z"
   },
   {
    "duration": 5,
    "start_time": "2023-11-13T19:43:09.076Z"
   },
   {
    "duration": 25,
    "start_time": "2023-11-13T19:43:16.498Z"
   },
   {
    "duration": 8,
    "start_time": "2023-11-13T19:43:41.024Z"
   },
   {
    "duration": 10,
    "start_time": "2023-11-13T19:43:45.933Z"
   },
   {
    "duration": 7,
    "start_time": "2023-11-13T19:44:05.270Z"
   },
   {
    "duration": 7,
    "start_time": "2023-11-13T19:44:31.882Z"
   },
   {
    "duration": 10,
    "start_time": "2023-11-13T19:44:44.804Z"
   },
   {
    "duration": 6,
    "start_time": "2023-11-13T19:44:54.841Z"
   },
   {
    "duration": 6,
    "start_time": "2023-11-13T19:45:16.510Z"
   },
   {
    "duration": 94,
    "start_time": "2023-11-13T19:46:25.726Z"
   },
   {
    "duration": 119,
    "start_time": "2023-11-13T19:46:34.330Z"
   },
   {
    "duration": 28,
    "start_time": "2023-11-13T19:46:58.813Z"
   },
   {
    "duration": 14,
    "start_time": "2023-11-13T19:47:46.469Z"
   },
   {
    "duration": 9,
    "start_time": "2023-11-13T19:47:54.947Z"
   },
   {
    "duration": 16,
    "start_time": "2023-11-13T19:50:37.161Z"
   },
   {
    "duration": 18,
    "start_time": "2023-11-13T19:50:49.126Z"
   },
   {
    "duration": 13,
    "start_time": "2023-11-13T19:51:07.071Z"
   },
   {
    "duration": 12,
    "start_time": "2023-11-13T19:51:10.475Z"
   },
   {
    "duration": 12,
    "start_time": "2023-11-13T19:51:30.540Z"
   },
   {
    "duration": 14,
    "start_time": "2023-11-13T19:52:26.711Z"
   },
   {
    "duration": 8,
    "start_time": "2023-11-13T19:52:46.118Z"
   },
   {
    "duration": 419,
    "start_time": "2023-11-13T19:52:52.774Z"
   },
   {
    "duration": 51,
    "start_time": "2023-11-13T19:52:53.195Z"
   },
   {
    "duration": 13,
    "start_time": "2023-11-13T19:52:53.248Z"
   },
   {
    "duration": 3,
    "start_time": "2023-11-13T19:52:53.263Z"
   },
   {
    "duration": 9,
    "start_time": "2023-11-13T19:52:53.268Z"
   },
   {
    "duration": 7,
    "start_time": "2023-11-13T19:52:53.278Z"
   },
   {
    "duration": 7,
    "start_time": "2023-11-13T19:53:20.353Z"
   },
   {
    "duration": 8,
    "start_time": "2023-11-13T19:54:07.635Z"
   },
   {
    "duration": 12,
    "start_time": "2023-11-13T19:54:09.820Z"
   },
   {
    "duration": 15,
    "start_time": "2023-11-13T19:55:04.108Z"
   },
   {
    "duration": 8,
    "start_time": "2023-11-13T19:56:39.229Z"
   },
   {
    "duration": 5,
    "start_time": "2023-11-13T19:57:13.345Z"
   },
   {
    "duration": 6,
    "start_time": "2023-11-13T19:57:41.431Z"
   },
   {
    "duration": 14,
    "start_time": "2023-11-13T19:58:06.332Z"
   },
   {
    "duration": 4,
    "start_time": "2023-11-13T20:00:17.635Z"
   },
   {
    "duration": 4,
    "start_time": "2023-11-13T20:00:32.731Z"
   },
   {
    "duration": 5,
    "start_time": "2023-11-13T20:00:45.075Z"
   },
   {
    "duration": 4,
    "start_time": "2023-11-13T20:10:02.592Z"
   },
   {
    "duration": 13,
    "start_time": "2023-11-13T20:10:10.145Z"
   },
   {
    "duration": 18,
    "start_time": "2023-11-13T20:10:36.724Z"
   },
   {
    "duration": 8,
    "start_time": "2023-11-13T20:11:13.920Z"
   },
   {
    "duration": 24,
    "start_time": "2023-11-13T20:11:20.116Z"
   },
   {
    "duration": 462,
    "start_time": "2023-11-14T08:22:26.110Z"
   },
   {
    "duration": 157,
    "start_time": "2023-11-14T08:22:26.574Z"
   },
   {
    "duration": 13,
    "start_time": "2023-11-14T08:22:26.733Z"
   },
   {
    "duration": 3,
    "start_time": "2023-11-14T08:22:26.748Z"
   },
   {
    "duration": 9,
    "start_time": "2023-11-14T08:22:26.753Z"
   },
   {
    "duration": 22,
    "start_time": "2023-11-14T08:22:26.764Z"
   },
   {
    "duration": 10,
    "start_time": "2023-11-14T08:22:26.788Z"
   },
   {
    "duration": 36,
    "start_time": "2023-11-14T08:22:26.800Z"
   },
   {
    "duration": 3,
    "start_time": "2023-11-14T08:27:40.108Z"
   },
   {
    "duration": 13,
    "start_time": "2023-11-14T08:28:41.351Z"
   },
   {
    "duration": 37277,
    "start_time": "2023-11-14T08:28:52.152Z"
   },
   {
    "duration": 251,
    "start_time": "2023-11-14T08:30:05.397Z"
   },
   {
    "duration": 10,
    "start_time": "2023-11-14T08:30:30.657Z"
   },
   {
    "duration": 104,
    "start_time": "2023-11-14T08:32:25.242Z"
   },
   {
    "duration": 103,
    "start_time": "2023-11-14T08:34:07.085Z"
   },
   {
    "duration": 7,
    "start_time": "2023-11-14T08:35:01.571Z"
   },
   {
    "duration": 5,
    "start_time": "2023-11-14T08:40:57.960Z"
   },
   {
    "duration": 6,
    "start_time": "2023-11-14T08:41:04.356Z"
   },
   {
    "duration": 144,
    "start_time": "2023-11-14T08:42:47.876Z"
   },
   {
    "duration": 135,
    "start_time": "2023-11-14T08:42:55.079Z"
   },
   {
    "duration": 9,
    "start_time": "2023-11-14T08:42:55.506Z"
   },
   {
    "duration": 94,
    "start_time": "2023-11-14T08:42:56.502Z"
   },
   {
    "duration": 6,
    "start_time": "2023-11-14T08:42:58.221Z"
   },
   {
    "duration": 8,
    "start_time": "2023-11-14T08:42:58.948Z"
   },
   {
    "duration": 143,
    "start_time": "2023-11-14T08:43:01.506Z"
   },
   {
    "duration": 8,
    "start_time": "2023-11-14T08:43:16.174Z"
   },
   {
    "duration": 111,
    "start_time": "2023-11-14T08:44:14.521Z"
   },
   {
    "duration": 138,
    "start_time": "2023-11-14T08:51:50.671Z"
   },
   {
    "duration": 135,
    "start_time": "2023-11-14T08:51:54.149Z"
   },
   {
    "duration": 165,
    "start_time": "2023-11-14T08:52:03.500Z"
   },
   {
    "duration": 9,
    "start_time": "2023-11-14T08:52:34.904Z"
   },
   {
    "duration": 113,
    "start_time": "2023-11-14T08:53:17.855Z"
   },
   {
    "duration": 11,
    "start_time": "2023-11-14T08:54:53.085Z"
   },
   {
    "duration": 134,
    "start_time": "2023-11-14T08:55:30.342Z"
   },
   {
    "duration": 99,
    "start_time": "2023-11-14T08:56:52.530Z"
   },
   {
    "duration": 159,
    "start_time": "2023-11-14T09:14:04.913Z"
   },
   {
    "duration": 5,
    "start_time": "2023-11-14T09:14:30.707Z"
   },
   {
    "duration": 173,
    "start_time": "2023-11-14T09:28:04.875Z"
   },
   {
    "duration": 9,
    "start_time": "2023-11-14T09:28:44.327Z"
   },
   {
    "duration": 9,
    "start_time": "2023-11-14T09:29:21.182Z"
   },
   {
    "duration": 136,
    "start_time": "2023-11-14T09:29:35.139Z"
   },
   {
    "duration": 122,
    "start_time": "2023-11-14T09:29:46.284Z"
   },
   {
    "duration": 114,
    "start_time": "2023-11-14T09:30:13.496Z"
   },
   {
    "duration": 101,
    "start_time": "2023-11-14T09:30:52.127Z"
   },
   {
    "duration": 7,
    "start_time": "2023-11-14T09:31:43.578Z"
   },
   {
    "duration": 16,
    "start_time": "2023-11-14T09:31:45.235Z"
   },
   {
    "duration": 5,
    "start_time": "2023-11-14T09:31:47.341Z"
   },
   {
    "duration": 17,
    "start_time": "2023-11-14T09:31:50.279Z"
   },
   {
    "duration": 1192,
    "start_time": "2023-11-14T09:43:35.993Z"
   },
   {
    "duration": 46,
    "start_time": "2023-11-14T09:43:37.187Z"
   },
   {
    "duration": 15,
    "start_time": "2023-11-14T09:43:37.235Z"
   },
   {
    "duration": 445,
    "start_time": "2023-11-14T09:43:37.252Z"
   },
   {
    "duration": 13,
    "start_time": "2023-11-14T09:43:37.700Z"
   },
   {
    "duration": 122,
    "start_time": "2023-11-14T09:43:37.715Z"
   },
   {
    "duration": 7,
    "start_time": "2023-11-14T09:43:37.838Z"
   },
   {
    "duration": 8,
    "start_time": "2023-11-14T09:43:37.847Z"
   },
   {
    "duration": 153,
    "start_time": "2023-11-14T09:43:37.857Z"
   },
   {
    "duration": 9,
    "start_time": "2023-11-14T09:43:38.013Z"
   },
   {
    "duration": 131,
    "start_time": "2023-11-14T09:43:38.036Z"
   },
   {
    "duration": 185,
    "start_time": "2023-11-14T09:43:38.169Z"
   },
   {
    "duration": 10,
    "start_time": "2023-11-14T09:43:38.356Z"
   },
   {
    "duration": 119,
    "start_time": "2023-11-14T09:43:38.368Z"
   },
   {
    "duration": 6,
    "start_time": "2023-11-14T09:43:38.488Z"
   },
   {
    "duration": 193,
    "start_time": "2023-11-14T09:43:38.496Z"
   },
   {
    "duration": 10,
    "start_time": "2023-11-14T09:43:38.691Z"
   },
   {
    "duration": 231,
    "start_time": "2023-11-14T09:43:38.702Z"
   },
   {
    "duration": 9,
    "start_time": "2023-11-14T09:43:38.935Z"
   },
   {
    "duration": 20,
    "start_time": "2023-11-14T09:43:38.946Z"
   },
   {
    "duration": 4,
    "start_time": "2023-11-14T09:43:38.968Z"
   },
   {
    "duration": 21,
    "start_time": "2023-11-14T09:43:38.974Z"
   },
   {
    "duration": 40,
    "start_time": "2023-11-14T09:47:17.151Z"
   },
   {
    "duration": 130,
    "start_time": "2023-11-14T09:49:36.292Z"
   },
   {
    "duration": 29,
    "start_time": "2023-11-14T09:49:55.223Z"
   },
   {
    "duration": 29,
    "start_time": "2023-11-14T09:50:42.162Z"
   },
   {
    "duration": 30,
    "start_time": "2023-11-14T09:51:04.869Z"
   },
   {
    "duration": 90,
    "start_time": "2023-11-14T09:51:22.907Z"
   },
   {
    "duration": 118,
    "start_time": "2023-11-14T09:51:31.896Z"
   },
   {
    "duration": 673,
    "start_time": "2023-11-14T09:51:36.196Z"
   },
   {
    "duration": 36,
    "start_time": "2023-11-14T09:51:57.824Z"
   },
   {
    "duration": 29,
    "start_time": "2023-11-14T09:52:02.485Z"
   },
   {
    "duration": 10,
    "start_time": "2023-11-14T09:53:00.148Z"
   },
   {
    "duration": 3,
    "start_time": "2023-11-14T09:53:09.923Z"
   },
   {
    "duration": 1206,
    "start_time": "2023-11-14T09:53:16.034Z"
   },
   {
    "duration": 46,
    "start_time": "2023-11-14T09:53:17.242Z"
   },
   {
    "duration": 16,
    "start_time": "2023-11-14T09:53:17.291Z"
   },
   {
    "duration": 472,
    "start_time": "2023-11-14T09:53:17.309Z"
   },
   {
    "duration": 10,
    "start_time": "2023-11-14T09:53:17.784Z"
   },
   {
    "duration": 132,
    "start_time": "2023-11-14T09:53:17.796Z"
   },
   {
    "duration": 11,
    "start_time": "2023-11-14T09:53:17.930Z"
   },
   {
    "duration": 7,
    "start_time": "2023-11-14T09:53:17.943Z"
   },
   {
    "duration": 169,
    "start_time": "2023-11-14T09:53:17.952Z"
   },
   {
    "duration": 17,
    "start_time": "2023-11-14T09:53:18.123Z"
   },
   {
    "duration": 127,
    "start_time": "2023-11-14T09:53:18.142Z"
   },
   {
    "duration": 177,
    "start_time": "2023-11-14T09:53:18.271Z"
   },
   {
    "duration": 13,
    "start_time": "2023-11-14T09:53:18.450Z"
   },
   {
    "duration": 140,
    "start_time": "2023-11-14T09:53:18.466Z"
   },
   {
    "duration": 7,
    "start_time": "2023-11-14T09:53:18.608Z"
   },
   {
    "duration": 224,
    "start_time": "2023-11-14T09:53:18.617Z"
   },
   {
    "duration": 11,
    "start_time": "2023-11-14T09:53:18.842Z"
   },
   {
    "duration": 239,
    "start_time": "2023-11-14T09:53:18.855Z"
   },
   {
    "duration": 8,
    "start_time": "2023-11-14T09:53:19.096Z"
   },
   {
    "duration": 31,
    "start_time": "2023-11-14T09:53:19.107Z"
   },
   {
    "duration": 5,
    "start_time": "2023-11-14T09:53:19.141Z"
   },
   {
    "duration": 22,
    "start_time": "2023-11-14T09:53:19.147Z"
   },
   {
    "duration": 29,
    "start_time": "2023-11-14T09:53:19.171Z"
   },
   {
    "duration": 40,
    "start_time": "2023-11-14T09:53:32.642Z"
   },
   {
    "duration": 1189,
    "start_time": "2023-11-14T10:19:59.782Z"
   },
   {
    "duration": 46,
    "start_time": "2023-11-14T10:20:00.973Z"
   },
   {
    "duration": 127,
    "start_time": "2023-11-14T10:20:01.020Z"
   },
   {
    "duration": 953,
    "start_time": "2023-11-14T10:20:01.149Z"
   },
   {
    "duration": 11,
    "start_time": "2023-11-14T10:20:02.104Z"
   },
   {
    "duration": 214,
    "start_time": "2023-11-14T10:20:02.117Z"
   },
   {
    "duration": 14,
    "start_time": "2023-11-14T10:20:02.336Z"
   },
   {
    "duration": 134,
    "start_time": "2023-11-14T10:20:02.352Z"
   },
   {
    "duration": 587,
    "start_time": "2023-11-14T10:20:02.488Z"
   },
   {
    "duration": 11,
    "start_time": "2023-11-14T10:20:03.079Z"
   },
   {
    "duration": 215,
    "start_time": "2023-11-14T10:20:03.092Z"
   },
   {
    "duration": 178,
    "start_time": "2023-11-14T10:20:03.310Z"
   },
   {
    "duration": 192,
    "start_time": "2023-11-14T10:20:03.489Z"
   },
   {
    "duration": 517,
    "start_time": "2023-11-14T10:20:03.682Z"
   },
   {
    "duration": 367,
    "start_time": "2023-11-14T10:20:04.200Z"
   },
   {
    "duration": 288,
    "start_time": "2023-11-14T10:20:04.569Z"
   },
   {
    "duration": 10,
    "start_time": "2023-11-14T10:20:04.858Z"
   },
   {
    "duration": 144,
    "start_time": "2023-11-14T10:20:04.870Z"
   },
   {
    "duration": 22,
    "start_time": "2023-11-14T10:20:05.016Z"
   },
   {
    "duration": 21,
    "start_time": "2023-11-14T10:20:05.040Z"
   },
   {
    "duration": 5,
    "start_time": "2023-11-14T10:20:05.063Z"
   },
   {
    "duration": 17,
    "start_time": "2023-11-14T10:20:05.069Z"
   },
   {
    "duration": 72,
    "start_time": "2023-11-14T10:20:05.088Z"
   },
   {
    "duration": 125,
    "start_time": "2023-11-14T10:23:23.780Z"
   },
   {
    "duration": 40,
    "start_time": "2023-11-14T10:23:40.170Z"
   },
   {
    "duration": 21,
    "start_time": "2023-11-14T10:23:45.405Z"
   },
   {
    "duration": 19,
    "start_time": "2023-11-14T10:24:23.783Z"
   },
   {
    "duration": 9,
    "start_time": "2023-11-14T10:26:32.378Z"
   },
   {
    "duration": 9,
    "start_time": "2023-11-14T10:27:03.476Z"
   },
   {
    "duration": 326,
    "start_time": "2023-11-14T10:27:54.129Z"
   },
   {
    "duration": 20,
    "start_time": "2023-11-14T10:30:58.332Z"
   },
   {
    "duration": 144,
    "start_time": "2023-11-14T10:31:06.754Z"
   },
   {
    "duration": 10,
    "start_time": "2023-11-14T10:31:07.572Z"
   },
   {
    "duration": 109,
    "start_time": "2023-11-14T10:31:07.902Z"
   },
   {
    "duration": 6,
    "start_time": "2023-11-14T10:31:08.423Z"
   },
   {
    "duration": 7,
    "start_time": "2023-11-14T10:31:08.795Z"
   },
   {
    "duration": 147,
    "start_time": "2023-11-14T10:31:09.765Z"
   },
   {
    "duration": 8,
    "start_time": "2023-11-14T10:31:10.109Z"
   },
   {
    "duration": 117,
    "start_time": "2023-11-14T10:31:10.452Z"
   },
   {
    "duration": 169,
    "start_time": "2023-11-14T10:31:11.812Z"
   },
   {
    "duration": 10,
    "start_time": "2023-11-14T10:31:12.348Z"
   },
   {
    "duration": 107,
    "start_time": "2023-11-14T10:31:12.695Z"
   },
   {
    "duration": 6,
    "start_time": "2023-11-14T10:31:13.671Z"
   },
   {
    "duration": 188,
    "start_time": "2023-11-14T10:31:14.556Z"
   },
   {
    "duration": 8,
    "start_time": "2023-11-14T10:31:14.803Z"
   },
   {
    "duration": 129,
    "start_time": "2023-11-14T10:31:14.999Z"
   },
   {
    "duration": 7,
    "start_time": "2023-11-14T10:31:16.748Z"
   },
   {
    "duration": 16,
    "start_time": "2023-11-14T10:31:17.097Z"
   },
   {
    "duration": 4,
    "start_time": "2023-11-14T10:31:18.668Z"
   },
   {
    "duration": 21,
    "start_time": "2023-11-14T10:31:19.628Z"
   },
   {
    "duration": 44,
    "start_time": "2023-11-14T10:31:20.825Z"
   },
   {
    "duration": 20,
    "start_time": "2023-11-14T10:31:23.974Z"
   },
   {
    "duration": 9,
    "start_time": "2023-11-14T10:33:01.485Z"
   },
   {
    "duration": 453,
    "start_time": "2023-11-14T10:33:11.992Z"
   },
   {
    "duration": 356,
    "start_time": "2023-11-14T10:33:25.520Z"
   },
   {
    "duration": 288,
    "start_time": "2023-11-14T10:33:37.562Z"
   },
   {
    "duration": 321,
    "start_time": "2023-11-14T10:33:43.927Z"
   },
   {
    "duration": 1245,
    "start_time": "2023-11-14T10:33:54.388Z"
   },
   {
    "duration": 46,
    "start_time": "2023-11-14T10:33:55.635Z"
   },
   {
    "duration": 16,
    "start_time": "2023-11-14T10:33:55.683Z"
   },
   {
    "duration": 350,
    "start_time": "2023-11-14T10:33:55.700Z"
   },
   {
    "duration": 419,
    "start_time": "2023-11-14T10:33:56.053Z"
   },
   {
    "duration": 436,
    "start_time": "2023-11-14T10:33:56.473Z"
   },
   {
    "duration": 9,
    "start_time": "2023-11-14T10:33:56.911Z"
   },
   {
    "duration": 124,
    "start_time": "2023-11-14T10:33:56.921Z"
   },
   {
    "duration": 10,
    "start_time": "2023-11-14T10:33:57.047Z"
   },
   {
    "duration": 13,
    "start_time": "2023-11-14T10:33:57.059Z"
   },
   {
    "duration": 177,
    "start_time": "2023-11-14T10:33:57.074Z"
   },
   {
    "duration": 11,
    "start_time": "2023-11-14T10:33:57.255Z"
   },
   {
    "duration": 135,
    "start_time": "2023-11-14T10:33:57.268Z"
   },
   {
    "duration": 292,
    "start_time": "2023-11-14T10:33:57.406Z"
   },
   {
    "duration": 12,
    "start_time": "2023-11-14T10:33:57.700Z"
   },
   {
    "duration": 151,
    "start_time": "2023-11-14T10:33:57.714Z"
   },
   {
    "duration": 6,
    "start_time": "2023-11-14T10:33:57.866Z"
   },
   {
    "duration": 208,
    "start_time": "2023-11-14T10:33:57.874Z"
   },
   {
    "duration": 8,
    "start_time": "2023-11-14T10:33:58.084Z"
   },
   {
    "duration": 138,
    "start_time": "2023-11-14T10:33:58.094Z"
   },
   {
    "duration": 16,
    "start_time": "2023-11-14T10:33:58.236Z"
   },
   {
    "duration": 17,
    "start_time": "2023-11-14T10:33:58.254Z"
   },
   {
    "duration": 10,
    "start_time": "2023-11-14T10:33:58.272Z"
   },
   {
    "duration": 22,
    "start_time": "2023-11-14T10:33:58.284Z"
   },
   {
    "duration": 59,
    "start_time": "2023-11-14T10:33:58.308Z"
   },
   {
    "duration": 133,
    "start_time": "2023-11-14T10:33:58.369Z"
   },
   {
    "duration": 6,
    "start_time": "2023-11-14T10:47:35.282Z"
   },
   {
    "duration": 7,
    "start_time": "2023-11-14T10:48:16.708Z"
   },
   {
    "duration": 1225,
    "start_time": "2023-11-14T10:48:25.403Z"
   },
   {
    "duration": 47,
    "start_time": "2023-11-14T10:48:26.630Z"
   },
   {
    "duration": 14,
    "start_time": "2023-11-14T10:48:26.679Z"
   },
   {
    "duration": 486,
    "start_time": "2023-11-14T10:48:26.696Z"
   },
   {
    "duration": 11,
    "start_time": "2023-11-14T10:48:27.184Z"
   },
   {
    "duration": 120,
    "start_time": "2023-11-14T10:48:27.197Z"
   },
   {
    "duration": 6,
    "start_time": "2023-11-14T10:48:27.319Z"
   },
   {
    "duration": 25,
    "start_time": "2023-11-14T10:48:27.327Z"
   },
   {
    "duration": 164,
    "start_time": "2023-11-14T10:48:27.353Z"
   },
   {
    "duration": 8,
    "start_time": "2023-11-14T10:48:27.520Z"
   },
   {
    "duration": 132,
    "start_time": "2023-11-14T10:48:27.530Z"
   },
   {
    "duration": 189,
    "start_time": "2023-11-14T10:48:27.663Z"
   },
   {
    "duration": 13,
    "start_time": "2023-11-14T10:48:27.853Z"
   },
   {
    "duration": 122,
    "start_time": "2023-11-14T10:48:27.868Z"
   },
   {
    "duration": 6,
    "start_time": "2023-11-14T10:48:27.992Z"
   },
   {
    "duration": 16,
    "start_time": "2023-11-14T10:48:27.999Z"
   },
   {
    "duration": 31,
    "start_time": "2023-11-14T10:48:28.017Z"
   },
   {
    "duration": 260,
    "start_time": "2023-11-14T10:48:28.050Z"
   },
   {
    "duration": 8,
    "start_time": "2023-11-14T10:48:28.312Z"
   },
   {
    "duration": 140,
    "start_time": "2023-11-14T10:48:28.321Z"
   },
   {
    "duration": 7,
    "start_time": "2023-11-14T10:48:28.463Z"
   },
   {
    "duration": 27,
    "start_time": "2023-11-14T10:48:28.471Z"
   },
   {
    "duration": 86,
    "start_time": "2023-11-14T10:48:28.499Z"
   },
   {
    "duration": 24,
    "start_time": "2023-11-14T10:48:28.587Z"
   },
   {
    "duration": 42,
    "start_time": "2023-11-14T10:48:28.613Z"
   },
   {
    "duration": 40,
    "start_time": "2023-11-14T10:48:28.657Z"
   },
   {
    "duration": 149,
    "start_time": "2023-11-14T10:48:28.699Z"
   },
   {
    "duration": 1246,
    "start_time": "2023-11-14T10:49:14.244Z"
   },
   {
    "duration": 46,
    "start_time": "2023-11-14T10:49:15.492Z"
   },
   {
    "duration": 16,
    "start_time": "2023-11-14T10:49:15.539Z"
   },
   {
    "duration": 422,
    "start_time": "2023-11-14T10:49:15.557Z"
   },
   {
    "duration": 11,
    "start_time": "2023-11-14T10:49:15.980Z"
   },
   {
    "duration": 118,
    "start_time": "2023-11-14T10:49:15.993Z"
   },
   {
    "duration": 8,
    "start_time": "2023-11-14T10:49:16.113Z"
   },
   {
    "duration": 16,
    "start_time": "2023-11-14T10:49:16.123Z"
   },
   {
    "duration": 165,
    "start_time": "2023-11-14T10:49:16.141Z"
   },
   {
    "duration": 8,
    "start_time": "2023-11-14T10:49:16.309Z"
   },
   {
    "duration": 129,
    "start_time": "2023-11-14T10:49:16.319Z"
   },
   {
    "duration": 172,
    "start_time": "2023-11-14T10:49:16.450Z"
   },
   {
    "duration": 16,
    "start_time": "2023-11-14T10:49:16.624Z"
   },
   {
    "duration": 134,
    "start_time": "2023-11-14T10:49:16.641Z"
   },
   {
    "duration": 6,
    "start_time": "2023-11-14T10:49:16.776Z"
   },
   {
    "duration": 10,
    "start_time": "2023-11-14T10:49:16.784Z"
   },
   {
    "duration": 8,
    "start_time": "2023-11-14T10:49:16.797Z"
   },
   {
    "duration": 306,
    "start_time": "2023-11-14T10:49:16.807Z"
   },
   {
    "duration": 9,
    "start_time": "2023-11-14T10:49:17.115Z"
   },
   {
    "duration": 153,
    "start_time": "2023-11-14T10:49:17.125Z"
   },
   {
    "duration": 8,
    "start_time": "2023-11-14T10:49:17.280Z"
   },
   {
    "duration": 32,
    "start_time": "2023-11-14T10:49:17.290Z"
   },
   {
    "duration": 55,
    "start_time": "2023-11-14T10:49:17.323Z"
   },
   {
    "duration": 47,
    "start_time": "2023-11-14T10:49:17.380Z"
   },
   {
    "duration": 147,
    "start_time": "2023-11-14T10:49:17.429Z"
   },
   {
    "duration": 6,
    "start_time": "2023-11-14T10:50:52.694Z"
   },
   {
    "duration": 39,
    "start_time": "2023-11-14T10:51:51.350Z"
   },
   {
    "duration": 61,
    "start_time": "2023-11-14T10:52:50.463Z"
   },
   {
    "duration": 29,
    "start_time": "2023-11-14T10:54:44.490Z"
   },
   {
    "duration": 55,
    "start_time": "2023-11-14T10:54:52.956Z"
   },
   {
    "duration": 26,
    "start_time": "2023-11-14T10:54:55.436Z"
   },
   {
    "duration": 8,
    "start_time": "2023-11-14T10:56:10.943Z"
   },
   {
    "duration": 10,
    "start_time": "2023-11-14T10:56:25.061Z"
   },
   {
    "duration": 24,
    "start_time": "2023-11-14T10:56:41.745Z"
   },
   {
    "duration": 6,
    "start_time": "2023-11-14T10:56:58.907Z"
   },
   {
    "duration": 97,
    "start_time": "2023-11-14T10:57:48.680Z"
   },
   {
    "duration": 39,
    "start_time": "2023-11-14T10:57:59.906Z"
   },
   {
    "duration": 29,
    "start_time": "2023-11-14T10:58:13.593Z"
   },
   {
    "duration": 38,
    "start_time": "2023-11-14T10:58:55.973Z"
   },
   {
    "duration": 5,
    "start_time": "2023-11-14T11:06:33.641Z"
   },
   {
    "duration": 55,
    "start_time": "2023-11-14T11:06:48.189Z"
   },
   {
    "duration": 11,
    "start_time": "2023-11-14T11:13:03.526Z"
   },
   {
    "duration": 10,
    "start_time": "2023-11-14T11:13:14.161Z"
   },
   {
    "duration": 18,
    "start_time": "2023-11-14T11:14:25.771Z"
   },
   {
    "duration": 10,
    "start_time": "2023-11-14T11:15:50.992Z"
   },
   {
    "duration": 49,
    "start_time": "2023-11-14T11:15:54.757Z"
   },
   {
    "duration": 58,
    "start_time": "2023-11-14T11:16:01.684Z"
   },
   {
    "duration": 23,
    "start_time": "2023-11-14T11:16:27.197Z"
   },
   {
    "duration": 4,
    "start_time": "2023-11-14T11:16:45.262Z"
   },
   {
    "duration": 30,
    "start_time": "2023-11-14T11:16:49.502Z"
   },
   {
    "duration": 74,
    "start_time": "2023-11-14T11:17:27.551Z"
   },
   {
    "duration": 70,
    "start_time": "2023-11-14T11:17:35.233Z"
   },
   {
    "duration": 185,
    "start_time": "2023-11-14T11:17:45.357Z"
   },
   {
    "duration": 182,
    "start_time": "2023-11-14T11:22:36.345Z"
   },
   {
    "duration": 1191,
    "start_time": "2023-11-14T11:23:12.222Z"
   },
   {
    "duration": 47,
    "start_time": "2023-11-14T11:23:13.415Z"
   },
   {
    "duration": 14,
    "start_time": "2023-11-14T11:23:13.464Z"
   },
   {
    "duration": 445,
    "start_time": "2023-11-14T11:23:13.479Z"
   },
   {
    "duration": 15,
    "start_time": "2023-11-14T11:23:13.926Z"
   },
   {
    "duration": 121,
    "start_time": "2023-11-14T11:23:13.942Z"
   },
   {
    "duration": 6,
    "start_time": "2023-11-14T11:23:14.065Z"
   },
   {
    "duration": 23,
    "start_time": "2023-11-14T11:23:14.073Z"
   },
   {
    "duration": 173,
    "start_time": "2023-11-14T11:23:14.098Z"
   },
   {
    "duration": 8,
    "start_time": "2023-11-14T11:23:14.273Z"
   },
   {
    "duration": 125,
    "start_time": "2023-11-14T11:23:14.282Z"
   },
   {
    "duration": 180,
    "start_time": "2023-11-14T11:23:14.409Z"
   },
   {
    "duration": 11,
    "start_time": "2023-11-14T11:23:14.591Z"
   },
   {
    "duration": 122,
    "start_time": "2023-11-14T11:23:14.605Z"
   },
   {
    "duration": 11,
    "start_time": "2023-11-14T11:23:14.728Z"
   },
   {
    "duration": 16,
    "start_time": "2023-11-14T11:23:14.741Z"
   },
   {
    "duration": 27,
    "start_time": "2023-11-14T11:23:14.758Z"
   },
   {
    "duration": 263,
    "start_time": "2023-11-14T11:23:14.786Z"
   },
   {
    "duration": 8,
    "start_time": "2023-11-14T11:23:15.051Z"
   },
   {
    "duration": 158,
    "start_time": "2023-11-14T11:23:15.061Z"
   },
   {
    "duration": 7,
    "start_time": "2023-11-14T11:23:15.220Z"
   },
   {
    "duration": 7,
    "start_time": "2023-11-14T11:23:15.236Z"
   },
   {
    "duration": 23,
    "start_time": "2023-11-14T11:23:15.245Z"
   },
   {
    "duration": 9,
    "start_time": "2023-11-14T11:23:15.270Z"
   },
   {
    "duration": 71,
    "start_time": "2023-11-14T11:23:15.281Z"
   },
   {
    "duration": 25,
    "start_time": "2023-11-14T11:23:15.353Z"
   },
   {
    "duration": 5,
    "start_time": "2023-11-14T11:23:15.380Z"
   },
   {
    "duration": 49,
    "start_time": "2023-11-14T11:23:15.387Z"
   },
   {
    "duration": 187,
    "start_time": "2023-11-14T11:23:15.437Z"
   },
   {
    "duration": 14,
    "start_time": "2023-11-14T11:23:15.626Z"
   },
   {
    "duration": 3,
    "start_time": "2023-11-14T11:26:14.617Z"
   },
   {
    "duration": 1167,
    "start_time": "2023-11-14T11:26:20.464Z"
   },
   {
    "duration": 45,
    "start_time": "2023-11-14T11:26:21.633Z"
   },
   {
    "duration": 15,
    "start_time": "2023-11-14T11:26:21.680Z"
   },
   {
    "duration": 440,
    "start_time": "2023-11-14T11:26:21.697Z"
   },
   {
    "duration": 9,
    "start_time": "2023-11-14T11:26:22.139Z"
   },
   {
    "duration": 142,
    "start_time": "2023-11-14T11:26:22.150Z"
   },
   {
    "duration": 7,
    "start_time": "2023-11-14T11:26:22.293Z"
   },
   {
    "duration": 21,
    "start_time": "2023-11-14T11:26:22.301Z"
   },
   {
    "duration": 157,
    "start_time": "2023-11-14T11:26:22.323Z"
   },
   {
    "duration": 9,
    "start_time": "2023-11-14T11:26:22.481Z"
   },
   {
    "duration": 129,
    "start_time": "2023-11-14T11:26:22.491Z"
   },
   {
    "duration": 178,
    "start_time": "2023-11-14T11:26:22.621Z"
   },
   {
    "duration": 11,
    "start_time": "2023-11-14T11:26:22.801Z"
   },
   {
    "duration": 123,
    "start_time": "2023-11-14T11:26:22.814Z"
   },
   {
    "duration": 6,
    "start_time": "2023-11-14T11:26:22.938Z"
   },
   {
    "duration": 11,
    "start_time": "2023-11-14T11:26:22.945Z"
   },
   {
    "duration": 46,
    "start_time": "2023-11-14T11:26:22.958Z"
   },
   {
    "duration": 287,
    "start_time": "2023-11-14T11:26:23.007Z"
   },
   {
    "duration": 9,
    "start_time": "2023-11-14T11:26:23.295Z"
   },
   {
    "duration": 132,
    "start_time": "2023-11-14T11:26:23.306Z"
   },
   {
    "duration": 5,
    "start_time": "2023-11-14T11:26:23.440Z"
   },
   {
    "duration": 16,
    "start_time": "2023-11-14T11:26:23.447Z"
   },
   {
    "duration": 23,
    "start_time": "2023-11-14T11:26:23.465Z"
   },
   {
    "duration": 14,
    "start_time": "2023-11-14T11:26:23.490Z"
   },
   {
    "duration": 64,
    "start_time": "2023-11-14T11:26:23.505Z"
   },
   {
    "duration": 24,
    "start_time": "2023-11-14T11:26:23.571Z"
   },
   {
    "duration": 12,
    "start_time": "2023-11-14T11:26:23.596Z"
   },
   {
    "duration": 45,
    "start_time": "2023-11-14T11:26:23.609Z"
   },
   {
    "duration": 182,
    "start_time": "2023-11-14T11:26:23.655Z"
   },
   {
    "duration": 6,
    "start_time": "2023-11-14T11:26:23.839Z"
   },
   {
    "duration": 7,
    "start_time": "2023-11-14T11:26:47.592Z"
   },
   {
    "duration": 9,
    "start_time": "2023-11-14T11:28:47.028Z"
   },
   {
    "duration": 1220,
    "start_time": "2023-11-14T15:01:14.500Z"
   },
   {
    "duration": 85,
    "start_time": "2023-11-14T15:01:15.722Z"
   },
   {
    "duration": 15,
    "start_time": "2023-11-14T15:01:15.809Z"
   },
   {
    "duration": 619,
    "start_time": "2023-11-14T15:01:15.825Z"
   },
   {
    "duration": 10,
    "start_time": "2023-11-14T15:01:16.446Z"
   },
   {
    "duration": 123,
    "start_time": "2023-11-14T15:01:16.458Z"
   },
   {
    "duration": 7,
    "start_time": "2023-11-14T15:01:16.583Z"
   },
   {
    "duration": 21,
    "start_time": "2023-11-14T15:01:16.592Z"
   },
   {
    "duration": 158,
    "start_time": "2023-11-14T15:01:16.615Z"
   },
   {
    "duration": 8,
    "start_time": "2023-11-14T15:01:16.775Z"
   },
   {
    "duration": 127,
    "start_time": "2023-11-14T15:01:16.785Z"
   },
   {
    "duration": 168,
    "start_time": "2023-11-14T15:01:16.914Z"
   },
   {
    "duration": 11,
    "start_time": "2023-11-14T15:01:17.083Z"
   },
   {
    "duration": 207,
    "start_time": "2023-11-14T15:01:17.097Z"
   },
   {
    "duration": 8,
    "start_time": "2023-11-14T15:01:17.306Z"
   },
   {
    "duration": 9,
    "start_time": "2023-11-14T15:01:17.316Z"
   },
   {
    "duration": 6,
    "start_time": "2023-11-14T15:01:17.326Z"
   },
   {
    "duration": 203,
    "start_time": "2023-11-14T15:01:17.333Z"
   },
   {
    "duration": 8,
    "start_time": "2023-11-14T15:01:17.538Z"
   },
   {
    "duration": 155,
    "start_time": "2023-11-14T15:01:17.547Z"
   },
   {
    "duration": 11,
    "start_time": "2023-11-14T15:01:17.704Z"
   },
   {
    "duration": 9,
    "start_time": "2023-11-14T15:01:17.717Z"
   },
   {
    "duration": 19,
    "start_time": "2023-11-14T15:01:17.727Z"
   },
   {
    "duration": 11,
    "start_time": "2023-11-14T15:01:17.747Z"
   },
   {
    "duration": 93,
    "start_time": "2023-11-14T15:01:17.760Z"
   },
   {
    "duration": 25,
    "start_time": "2023-11-14T15:01:17.855Z"
   },
   {
    "duration": 6,
    "start_time": "2023-11-14T15:01:17.882Z"
   },
   {
    "duration": 55,
    "start_time": "2023-11-14T15:01:17.890Z"
   },
   {
    "duration": 220,
    "start_time": "2023-11-14T15:01:17.947Z"
   },
   {
    "duration": 6,
    "start_time": "2023-11-14T15:01:18.169Z"
   },
   {
    "duration": 18,
    "start_time": "2023-11-14T15:01:18.177Z"
   },
   {
    "duration": 83,
    "start_time": "2023-11-14T15:01:18.197Z"
   },
   {
    "duration": 0,
    "start_time": "2023-11-14T15:01:18.282Z"
   },
   {
    "duration": 8,
    "start_time": "2023-11-14T15:02:18.208Z"
   },
   {
    "duration": 113,
    "start_time": "2023-11-14T15:02:42.163Z"
   },
   {
    "duration": 72,
    "start_time": "2023-11-14T15:03:43.835Z"
   },
   {
    "duration": 73,
    "start_time": "2023-11-14T15:03:50.921Z"
   },
   {
    "duration": 7,
    "start_time": "2023-11-14T15:04:54.528Z"
   },
   {
    "duration": 79,
    "start_time": "2023-11-14T15:05:01.529Z"
   },
   {
    "duration": 4,
    "start_time": "2023-11-14T15:05:36.748Z"
   },
   {
    "duration": 1213,
    "start_time": "2023-11-14T15:05:41.936Z"
   },
   {
    "duration": 47,
    "start_time": "2023-11-14T15:05:43.152Z"
   },
   {
    "duration": 15,
    "start_time": "2023-11-14T15:05:43.200Z"
   },
   {
    "duration": 477,
    "start_time": "2023-11-14T15:05:43.217Z"
   },
   {
    "duration": 17,
    "start_time": "2023-11-14T15:05:43.696Z"
   },
   {
    "duration": 124,
    "start_time": "2023-11-14T15:05:43.715Z"
   },
   {
    "duration": 7,
    "start_time": "2023-11-14T15:05:43.840Z"
   },
   {
    "duration": 19,
    "start_time": "2023-11-14T15:05:43.848Z"
   },
   {
    "duration": 165,
    "start_time": "2023-11-14T15:05:43.868Z"
   },
   {
    "duration": 9,
    "start_time": "2023-11-14T15:05:44.035Z"
   },
   {
    "duration": 165,
    "start_time": "2023-11-14T15:05:44.047Z"
   },
   {
    "duration": 173,
    "start_time": "2023-11-14T15:05:44.214Z"
   },
   {
    "duration": 22,
    "start_time": "2023-11-14T15:05:44.389Z"
   },
   {
    "duration": 130,
    "start_time": "2023-11-14T15:05:44.414Z"
   },
   {
    "duration": 5,
    "start_time": "2023-11-14T15:05:44.546Z"
   },
   {
    "duration": 5,
    "start_time": "2023-11-14T15:05:44.553Z"
   },
   {
    "duration": 19,
    "start_time": "2023-11-14T15:05:44.560Z"
   },
   {
    "duration": 271,
    "start_time": "2023-11-14T15:05:44.581Z"
   },
   {
    "duration": 9,
    "start_time": "2023-11-14T15:05:44.853Z"
   },
   {
    "duration": 139,
    "start_time": "2023-11-14T15:05:44.864Z"
   },
   {
    "duration": 6,
    "start_time": "2023-11-14T15:05:45.005Z"
   },
   {
    "duration": 41,
    "start_time": "2023-11-14T15:05:45.013Z"
   },
   {
    "duration": 28,
    "start_time": "2023-11-14T15:05:45.056Z"
   },
   {
    "duration": 16,
    "start_time": "2023-11-14T15:05:45.086Z"
   },
   {
    "duration": 57,
    "start_time": "2023-11-14T15:05:45.104Z"
   },
   {
    "duration": 30,
    "start_time": "2023-11-14T15:05:45.162Z"
   },
   {
    "duration": 23,
    "start_time": "2023-11-14T15:05:45.193Z"
   },
   {
    "duration": 34,
    "start_time": "2023-11-14T15:05:45.217Z"
   },
   {
    "duration": 222,
    "start_time": "2023-11-14T15:05:45.253Z"
   },
   {
    "duration": 7,
    "start_time": "2023-11-14T15:05:45.477Z"
   },
   {
    "duration": 6,
    "start_time": "2023-11-14T15:05:45.486Z"
   },
   {
    "duration": 88,
    "start_time": "2023-11-14T15:05:45.494Z"
   },
   {
    "duration": 2,
    "start_time": "2023-11-14T15:05:45.584Z"
   },
   {
    "duration": 143,
    "start_time": "2023-11-14T15:08:13.534Z"
   },
   {
    "duration": 156,
    "start_time": "2023-11-14T15:08:25.624Z"
   },
   {
    "duration": 109,
    "start_time": "2023-11-14T15:08:32.335Z"
   },
   {
    "duration": 206,
    "start_time": "2023-11-14T15:09:30.805Z"
   },
   {
    "duration": 203,
    "start_time": "2023-11-14T15:10:07.097Z"
   },
   {
    "duration": 182,
    "start_time": "2023-11-14T15:10:16.515Z"
   },
   {
    "duration": 201,
    "start_time": "2023-11-14T15:10:36.952Z"
   },
   {
    "duration": 3,
    "start_time": "2023-11-14T15:11:23.627Z"
   },
   {
    "duration": 32,
    "start_time": "2023-11-14T15:13:06.362Z"
   },
   {
    "duration": 205,
    "start_time": "2023-11-14T15:13:25.150Z"
   },
   {
    "duration": 33,
    "start_time": "2023-11-14T15:13:37.929Z"
   },
   {
    "duration": 213,
    "start_time": "2023-11-14T15:13:41.399Z"
   },
   {
    "duration": 34,
    "start_time": "2023-11-14T15:13:42.796Z"
   },
   {
    "duration": 90,
    "start_time": "2023-11-14T15:15:56.417Z"
   },
   {
    "duration": 1139,
    "start_time": "2023-11-14T15:16:41.857Z"
   },
   {
    "duration": 46,
    "start_time": "2023-11-14T15:16:42.998Z"
   },
   {
    "duration": 15,
    "start_time": "2023-11-14T15:16:43.046Z"
   },
   {
    "duration": 429,
    "start_time": "2023-11-14T15:16:43.063Z"
   },
   {
    "duration": 21,
    "start_time": "2023-11-14T15:16:43.494Z"
   },
   {
    "duration": 123,
    "start_time": "2023-11-14T15:16:43.517Z"
   },
   {
    "duration": 8,
    "start_time": "2023-11-14T15:16:43.642Z"
   },
   {
    "duration": 8,
    "start_time": "2023-11-14T15:16:43.653Z"
   },
   {
    "duration": 193,
    "start_time": "2023-11-14T15:16:43.663Z"
   },
   {
    "duration": 12,
    "start_time": "2023-11-14T15:16:43.859Z"
   },
   {
    "duration": 132,
    "start_time": "2023-11-14T15:16:43.872Z"
   },
   {
    "duration": 171,
    "start_time": "2023-11-14T15:16:44.010Z"
   },
   {
    "duration": 14,
    "start_time": "2023-11-14T15:16:44.183Z"
   },
   {
    "duration": 116,
    "start_time": "2023-11-14T15:16:44.211Z"
   },
   {
    "duration": 5,
    "start_time": "2023-11-14T15:16:44.329Z"
   },
   {
    "duration": 5,
    "start_time": "2023-11-14T15:16:44.336Z"
   },
   {
    "duration": 8,
    "start_time": "2023-11-14T15:16:44.342Z"
   },
   {
    "duration": 299,
    "start_time": "2023-11-14T15:16:44.351Z"
   },
   {
    "duration": 12,
    "start_time": "2023-11-14T15:16:44.652Z"
   },
   {
    "duration": 166,
    "start_time": "2023-11-14T15:16:44.666Z"
   },
   {
    "duration": 4,
    "start_time": "2023-11-14T15:16:44.834Z"
   },
   {
    "duration": 50,
    "start_time": "2023-11-14T15:16:44.840Z"
   },
   {
    "duration": 74,
    "start_time": "2023-11-14T15:16:44.892Z"
   },
   {
    "duration": 10,
    "start_time": "2023-11-14T15:16:44.968Z"
   },
   {
    "duration": 68,
    "start_time": "2023-11-14T15:16:44.980Z"
   },
   {
    "duration": 27,
    "start_time": "2023-11-14T15:16:45.051Z"
   },
   {
    "duration": 8,
    "start_time": "2023-11-14T15:16:45.081Z"
   },
   {
    "duration": 59,
    "start_time": "2023-11-14T15:16:45.094Z"
   },
   {
    "duration": 245,
    "start_time": "2023-11-14T15:16:45.155Z"
   },
   {
    "duration": 16,
    "start_time": "2023-11-14T15:16:45.402Z"
   },
   {
    "duration": 7,
    "start_time": "2023-11-14T15:16:45.420Z"
   },
   {
    "duration": 101,
    "start_time": "2023-11-14T15:16:45.429Z"
   },
   {
    "duration": 247,
    "start_time": "2023-11-14T15:16:45.532Z"
   },
   {
    "duration": 44,
    "start_time": "2023-11-14T15:16:45.781Z"
   },
   {
    "duration": 223,
    "start_time": "2023-11-14T15:16:45.827Z"
   },
   {
    "duration": 4,
    "start_time": "2023-11-14T15:18:13.291Z"
   },
   {
    "duration": 1124,
    "start_time": "2023-11-14T15:18:18.037Z"
   },
   {
    "duration": 46,
    "start_time": "2023-11-14T15:18:19.163Z"
   },
   {
    "duration": 15,
    "start_time": "2023-11-14T15:18:19.211Z"
   },
   {
    "duration": 440,
    "start_time": "2023-11-14T15:18:19.228Z"
   },
   {
    "duration": 9,
    "start_time": "2023-11-14T15:18:19.671Z"
   },
   {
    "duration": 122,
    "start_time": "2023-11-14T15:18:19.682Z"
   },
   {
    "duration": 10,
    "start_time": "2023-11-14T15:18:19.806Z"
   },
   {
    "duration": 6,
    "start_time": "2023-11-14T15:18:19.818Z"
   },
   {
    "duration": 165,
    "start_time": "2023-11-14T15:18:19.826Z"
   },
   {
    "duration": 8,
    "start_time": "2023-11-14T15:18:19.994Z"
   },
   {
    "duration": 129,
    "start_time": "2023-11-14T15:18:20.012Z"
   },
   {
    "duration": 182,
    "start_time": "2023-11-14T15:18:20.142Z"
   },
   {
    "duration": 11,
    "start_time": "2023-11-14T15:18:20.325Z"
   },
   {
    "duration": 127,
    "start_time": "2023-11-14T15:18:20.339Z"
   },
   {
    "duration": 5,
    "start_time": "2023-11-14T15:18:20.468Z"
   },
   {
    "duration": 9,
    "start_time": "2023-11-14T15:18:20.475Z"
   },
   {
    "duration": 24,
    "start_time": "2023-11-14T15:18:20.486Z"
   },
   {
    "duration": 265,
    "start_time": "2023-11-14T15:18:20.513Z"
   },
   {
    "duration": 9,
    "start_time": "2023-11-14T15:18:20.780Z"
   },
   {
    "duration": 140,
    "start_time": "2023-11-14T15:18:20.791Z"
   },
   {
    "duration": 5,
    "start_time": "2023-11-14T15:18:20.932Z"
   },
   {
    "duration": 17,
    "start_time": "2023-11-14T15:18:20.939Z"
   },
   {
    "duration": 16,
    "start_time": "2023-11-14T15:18:20.958Z"
   },
   {
    "duration": 9,
    "start_time": "2023-11-14T15:18:20.975Z"
   },
   {
    "duration": 58,
    "start_time": "2023-11-14T15:18:21.012Z"
   },
   {
    "duration": 41,
    "start_time": "2023-11-14T15:18:21.072Z"
   },
   {
    "duration": 6,
    "start_time": "2023-11-14T15:18:21.115Z"
   },
   {
    "duration": 38,
    "start_time": "2023-11-14T15:18:21.123Z"
   },
   {
    "duration": 206,
    "start_time": "2023-11-14T15:18:21.163Z"
   },
   {
    "duration": 8,
    "start_time": "2023-11-14T15:18:21.371Z"
   },
   {
    "duration": 6,
    "start_time": "2023-11-14T15:18:21.381Z"
   },
   {
    "duration": 74,
    "start_time": "2023-11-14T15:18:21.410Z"
   },
   {
    "duration": 232,
    "start_time": "2023-11-14T15:18:21.486Z"
   },
   {
    "duration": 35,
    "start_time": "2023-11-14T15:18:21.720Z"
   },
   {
    "duration": 173,
    "start_time": "2023-11-14T15:18:21.756Z"
   },
   {
    "duration": 185,
    "start_time": "2023-11-14T15:19:55.460Z"
   },
   {
    "duration": 101,
    "start_time": "2023-11-14T15:21:07.770Z"
   },
   {
    "duration": 140,
    "start_time": "2023-11-14T15:21:14.086Z"
   },
   {
    "duration": 139,
    "start_time": "2023-11-14T15:23:35.461Z"
   },
   {
    "duration": 4,
    "start_time": "2023-11-14T15:24:21.258Z"
   },
   {
    "duration": 1271,
    "start_time": "2023-11-14T15:24:30.473Z"
   },
   {
    "duration": 47,
    "start_time": "2023-11-14T15:24:31.749Z"
   },
   {
    "duration": 14,
    "start_time": "2023-11-14T15:24:31.798Z"
   },
   {
    "duration": 472,
    "start_time": "2023-11-14T15:24:31.814Z"
   },
   {
    "duration": 10,
    "start_time": "2023-11-14T15:24:32.289Z"
   },
   {
    "duration": 123,
    "start_time": "2023-11-14T15:24:32.311Z"
   },
   {
    "duration": 8,
    "start_time": "2023-11-14T15:24:32.435Z"
   },
   {
    "duration": 10,
    "start_time": "2023-11-14T15:24:32.445Z"
   },
   {
    "duration": 168,
    "start_time": "2023-11-14T15:24:32.457Z"
   },
   {
    "duration": 11,
    "start_time": "2023-11-14T15:24:32.627Z"
   },
   {
    "duration": 132,
    "start_time": "2023-11-14T15:24:32.640Z"
   },
   {
    "duration": 190,
    "start_time": "2023-11-14T15:24:32.774Z"
   },
   {
    "duration": 12,
    "start_time": "2023-11-14T15:24:32.965Z"
   },
   {
    "duration": 131,
    "start_time": "2023-11-14T15:24:32.981Z"
   },
   {
    "duration": 6,
    "start_time": "2023-11-14T15:24:33.114Z"
   },
   {
    "duration": 10,
    "start_time": "2023-11-14T15:24:33.122Z"
   },
   {
    "duration": 13,
    "start_time": "2023-11-14T15:24:33.134Z"
   },
   {
    "duration": 285,
    "start_time": "2023-11-14T15:24:33.149Z"
   },
   {
    "duration": 10,
    "start_time": "2023-11-14T15:24:33.436Z"
   },
   {
    "duration": 151,
    "start_time": "2023-11-14T15:24:33.448Z"
   },
   {
    "duration": 14,
    "start_time": "2023-11-14T15:24:33.602Z"
   },
   {
    "duration": 11,
    "start_time": "2023-11-14T15:24:33.618Z"
   },
   {
    "duration": 20,
    "start_time": "2023-11-14T15:24:33.631Z"
   },
   {
    "duration": 12,
    "start_time": "2023-11-14T15:24:33.652Z"
   },
   {
    "duration": 105,
    "start_time": "2023-11-14T15:24:33.666Z"
   },
   {
    "duration": 26,
    "start_time": "2023-11-14T15:24:33.773Z"
   },
   {
    "duration": 5,
    "start_time": "2023-11-14T15:24:33.812Z"
   },
   {
    "duration": 37,
    "start_time": "2023-11-14T15:24:33.819Z"
   },
   {
    "duration": 223,
    "start_time": "2023-11-14T15:24:33.858Z"
   },
   {
    "duration": 7,
    "start_time": "2023-11-14T15:24:34.083Z"
   },
   {
    "duration": 24,
    "start_time": "2023-11-14T15:24:34.092Z"
   },
   {
    "duration": 105,
    "start_time": "2023-11-14T15:24:34.118Z"
   },
   {
    "duration": 153,
    "start_time": "2023-11-14T15:24:34.225Z"
   },
   {
    "duration": 41,
    "start_time": "2023-11-14T15:24:34.379Z"
   },
   {
    "duration": 178,
    "start_time": "2023-11-14T15:24:34.422Z"
   },
   {
    "duration": 87,
    "start_time": "2023-11-14T15:25:00.023Z"
   },
   {
    "duration": 278,
    "start_time": "2023-11-14T15:25:58.133Z"
   },
   {
    "duration": 1180,
    "start_time": "2023-11-14T15:26:19.520Z"
   },
   {
    "duration": 55,
    "start_time": "2023-11-14T15:26:20.702Z"
   },
   {
    "duration": 19,
    "start_time": "2023-11-14T15:26:20.759Z"
   },
   {
    "duration": 488,
    "start_time": "2023-11-14T15:26:20.780Z"
   },
   {
    "duration": 9,
    "start_time": "2023-11-14T15:26:21.271Z"
   },
   {
    "duration": 132,
    "start_time": "2023-11-14T15:26:21.282Z"
   },
   {
    "duration": 20,
    "start_time": "2023-11-14T15:26:21.417Z"
   },
   {
    "duration": 9,
    "start_time": "2023-11-14T15:26:21.439Z"
   },
   {
    "duration": 186,
    "start_time": "2023-11-14T15:26:21.450Z"
   },
   {
    "duration": 9,
    "start_time": "2023-11-14T15:26:21.638Z"
   },
   {
    "duration": 151,
    "start_time": "2023-11-14T15:26:21.648Z"
   },
   {
    "duration": 201,
    "start_time": "2023-11-14T15:26:21.801Z"
   },
   {
    "duration": 18,
    "start_time": "2023-11-14T15:26:22.004Z"
   },
   {
    "duration": 135,
    "start_time": "2023-11-14T15:26:22.025Z"
   },
   {
    "duration": 7,
    "start_time": "2023-11-14T15:26:22.162Z"
   },
   {
    "duration": 6,
    "start_time": "2023-11-14T15:26:22.171Z"
   },
   {
    "duration": 7,
    "start_time": "2023-11-14T15:26:22.178Z"
   },
   {
    "duration": 315,
    "start_time": "2023-11-14T15:26:22.213Z"
   },
   {
    "duration": 12,
    "start_time": "2023-11-14T15:26:22.532Z"
   },
   {
    "duration": 145,
    "start_time": "2023-11-14T15:26:22.545Z"
   },
   {
    "duration": 6,
    "start_time": "2023-11-14T15:26:22.692Z"
   },
   {
    "duration": 17,
    "start_time": "2023-11-14T15:26:22.700Z"
   },
   {
    "duration": 22,
    "start_time": "2023-11-14T15:26:22.719Z"
   },
   {
    "duration": 10,
    "start_time": "2023-11-14T15:26:22.742Z"
   },
   {
    "duration": 91,
    "start_time": "2023-11-14T15:26:22.753Z"
   },
   {
    "duration": 24,
    "start_time": "2023-11-14T15:26:22.845Z"
   },
   {
    "duration": 5,
    "start_time": "2023-11-14T15:26:22.870Z"
   },
   {
    "duration": 49,
    "start_time": "2023-11-14T15:26:22.877Z"
   },
   {
    "duration": 285,
    "start_time": "2023-11-14T15:26:22.928Z"
   },
   {
    "duration": 12,
    "start_time": "2023-11-14T15:26:23.216Z"
   },
   {
    "duration": 7,
    "start_time": "2023-11-14T15:26:23.230Z"
   },
   {
    "duration": 74,
    "start_time": "2023-11-14T15:26:23.239Z"
   },
   {
    "duration": 244,
    "start_time": "2023-11-14T15:26:23.319Z"
   },
   {
    "duration": 33,
    "start_time": "2023-11-14T15:26:23.565Z"
   },
   {
    "duration": 224,
    "start_time": "2023-11-14T15:26:23.599Z"
   },
   {
    "duration": 209,
    "start_time": "2023-11-14T15:27:07.352Z"
   },
   {
    "duration": 1234,
    "start_time": "2023-11-14T15:27:24.762Z"
   },
   {
    "duration": 49,
    "start_time": "2023-11-14T15:27:25.998Z"
   },
   {
    "duration": 16,
    "start_time": "2023-11-14T15:27:26.049Z"
   },
   {
    "duration": 472,
    "start_time": "2023-11-14T15:27:26.067Z"
   },
   {
    "duration": 9,
    "start_time": "2023-11-14T15:27:26.541Z"
   },
   {
    "duration": 138,
    "start_time": "2023-11-14T15:27:26.552Z"
   },
   {
    "duration": 7,
    "start_time": "2023-11-14T15:27:26.692Z"
   },
   {
    "duration": 12,
    "start_time": "2023-11-14T15:27:26.713Z"
   },
   {
    "duration": 177,
    "start_time": "2023-11-14T15:27:26.728Z"
   },
   {
    "duration": 14,
    "start_time": "2023-11-14T15:27:26.908Z"
   },
   {
    "duration": 147,
    "start_time": "2023-11-14T15:27:26.926Z"
   },
   {
    "duration": 205,
    "start_time": "2023-11-14T15:27:27.075Z"
   },
   {
    "duration": 12,
    "start_time": "2023-11-14T15:27:27.282Z"
   },
   {
    "duration": 139,
    "start_time": "2023-11-14T15:27:27.295Z"
   },
   {
    "duration": 6,
    "start_time": "2023-11-14T15:27:27.436Z"
   },
   {
    "duration": 6,
    "start_time": "2023-11-14T15:27:27.444Z"
   },
   {
    "duration": 8,
    "start_time": "2023-11-14T15:27:27.451Z"
   },
   {
    "duration": 310,
    "start_time": "2023-11-14T15:27:27.461Z"
   },
   {
    "duration": 12,
    "start_time": "2023-11-14T15:27:27.773Z"
   },
   {
    "duration": 153,
    "start_time": "2023-11-14T15:27:27.788Z"
   },
   {
    "duration": 6,
    "start_time": "2023-11-14T15:27:27.943Z"
   },
   {
    "duration": 8,
    "start_time": "2023-11-14T15:27:27.951Z"
   },
   {
    "duration": 17,
    "start_time": "2023-11-14T15:27:27.960Z"
   },
   {
    "duration": 36,
    "start_time": "2023-11-14T15:27:27.979Z"
   },
   {
    "duration": 64,
    "start_time": "2023-11-14T15:27:28.017Z"
   },
   {
    "duration": 47,
    "start_time": "2023-11-14T15:27:28.083Z"
   },
   {
    "duration": 6,
    "start_time": "2023-11-14T15:27:28.132Z"
   },
   {
    "duration": 45,
    "start_time": "2023-11-14T15:27:28.141Z"
   },
   {
    "duration": 229,
    "start_time": "2023-11-14T15:27:28.188Z"
   },
   {
    "duration": 9,
    "start_time": "2023-11-14T15:27:28.419Z"
   },
   {
    "duration": 8,
    "start_time": "2023-11-14T15:27:28.430Z"
   },
   {
    "duration": 77,
    "start_time": "2023-11-14T15:27:28.439Z"
   },
   {
    "duration": 261,
    "start_time": "2023-11-14T15:27:28.518Z"
   },
   {
    "duration": 47,
    "start_time": "2023-11-14T15:27:28.781Z"
   },
   {
    "duration": 202,
    "start_time": "2023-11-14T15:27:28.830Z"
   },
   {
    "duration": 18,
    "start_time": "2023-11-14T15:28:56.106Z"
   },
   {
    "duration": 6,
    "start_time": "2023-11-14T15:28:59.185Z"
   },
   {
    "duration": 247,
    "start_time": "2023-11-14T15:29:21.654Z"
   },
   {
    "duration": 7,
    "start_time": "2023-11-14T15:30:02.901Z"
   },
   {
    "duration": 6,
    "start_time": "2023-11-14T15:30:10.295Z"
   },
   {
    "duration": 61,
    "start_time": "2023-11-14T15:30:25.458Z"
   },
   {
    "duration": 158,
    "start_time": "2023-11-14T15:30:39.554Z"
   },
   {
    "duration": 233,
    "start_time": "2023-11-14T15:30:48.385Z"
   },
   {
    "duration": 34,
    "start_time": "2023-11-14T15:30:55.940Z"
   },
   {
    "duration": 180,
    "start_time": "2023-11-14T15:30:59.895Z"
   },
   {
    "duration": 181,
    "start_time": "2023-11-14T15:32:18.331Z"
   },
   {
    "duration": 32,
    "start_time": "2023-11-14T15:32:31.705Z"
   },
   {
    "duration": 83,
    "start_time": "2023-11-14T15:32:38.536Z"
   },
   {
    "duration": 52,
    "start_time": "2023-11-14T15:32:44.693Z"
   },
   {
    "duration": 44,
    "start_time": "2023-11-14T15:32:50.421Z"
   },
   {
    "duration": 61,
    "start_time": "2023-11-14T15:32:55.155Z"
   },
   {
    "duration": 57,
    "start_time": "2023-11-14T15:32:59.284Z"
   },
   {
    "duration": 95,
    "start_time": "2023-11-14T15:33:07.217Z"
   },
   {
    "duration": 154,
    "start_time": "2023-11-14T15:33:35.463Z"
   },
   {
    "duration": 143,
    "start_time": "2023-11-14T15:33:43.273Z"
   },
   {
    "duration": 121,
    "start_time": "2023-11-14T15:33:54.003Z"
   },
   {
    "duration": 27,
    "start_time": "2023-11-14T15:34:08.845Z"
   },
   {
    "duration": 29,
    "start_time": "2023-11-14T15:34:22.882Z"
   },
   {
    "duration": 350,
    "start_time": "2023-11-14T15:34:55.572Z"
   },
   {
    "duration": 249,
    "start_time": "2023-11-14T15:35:12.562Z"
   },
   {
    "duration": 349,
    "start_time": "2023-11-14T15:35:28.037Z"
   },
   {
    "duration": 123,
    "start_time": "2023-11-14T15:49:17.531Z"
   },
   {
    "duration": 10,
    "start_time": "2023-11-14T15:49:26.774Z"
   },
   {
    "duration": 4,
    "start_time": "2023-11-14T15:49:42.614Z"
   },
   {
    "duration": 10,
    "start_time": "2023-11-14T15:56:22.154Z"
   },
   {
    "duration": 1264,
    "start_time": "2023-11-14T15:56:30.413Z"
   },
   {
    "duration": 56,
    "start_time": "2023-11-14T15:56:31.680Z"
   },
   {
    "duration": 15,
    "start_time": "2023-11-14T15:56:31.737Z"
   },
   {
    "duration": 457,
    "start_time": "2023-11-14T15:56:31.754Z"
   },
   {
    "duration": 10,
    "start_time": "2023-11-14T15:56:32.213Z"
   },
   {
    "duration": 144,
    "start_time": "2023-11-14T15:56:32.225Z"
   },
   {
    "duration": 8,
    "start_time": "2023-11-14T15:56:32.371Z"
   },
   {
    "duration": 8,
    "start_time": "2023-11-14T15:56:32.381Z"
   },
   {
    "duration": 197,
    "start_time": "2023-11-14T15:56:32.410Z"
   },
   {
    "duration": 10,
    "start_time": "2023-11-14T15:56:32.610Z"
   },
   {
    "duration": 130,
    "start_time": "2023-11-14T15:56:32.621Z"
   },
   {
    "duration": 180,
    "start_time": "2023-11-14T15:56:32.753Z"
   },
   {
    "duration": 12,
    "start_time": "2023-11-14T15:56:32.935Z"
   },
   {
    "duration": 196,
    "start_time": "2023-11-14T15:56:32.951Z"
   },
   {
    "duration": 6,
    "start_time": "2023-11-14T15:56:33.149Z"
   },
   {
    "duration": 10,
    "start_time": "2023-11-14T15:56:33.156Z"
   },
   {
    "duration": 16,
    "start_time": "2023-11-14T15:56:33.168Z"
   },
   {
    "duration": 192,
    "start_time": "2023-11-14T15:56:33.186Z"
   },
   {
    "duration": 9,
    "start_time": "2023-11-14T15:56:33.380Z"
   },
   {
    "duration": 142,
    "start_time": "2023-11-14T15:56:33.391Z"
   },
   {
    "duration": 6,
    "start_time": "2023-11-14T15:56:33.535Z"
   },
   {
    "duration": 20,
    "start_time": "2023-11-14T15:56:33.544Z"
   },
   {
    "duration": 21,
    "start_time": "2023-11-14T15:56:33.566Z"
   },
   {
    "duration": 11,
    "start_time": "2023-11-14T15:56:33.611Z"
   },
   {
    "duration": 63,
    "start_time": "2023-11-14T15:56:33.624Z"
   },
   {
    "duration": 42,
    "start_time": "2023-11-14T15:56:33.689Z"
   },
   {
    "duration": 6,
    "start_time": "2023-11-14T15:56:33.733Z"
   },
   {
    "duration": 75,
    "start_time": "2023-11-14T15:56:33.741Z"
   },
   {
    "duration": 3,
    "start_time": "2023-11-14T15:56:33.818Z"
   },
   {
    "duration": 265,
    "start_time": "2023-11-14T15:56:33.823Z"
   },
   {
    "duration": 23,
    "start_time": "2023-11-14T15:56:34.090Z"
   },
   {
    "duration": 7,
    "start_time": "2023-11-14T15:56:34.115Z"
   },
   {
    "duration": 94,
    "start_time": "2023-11-14T15:56:34.124Z"
   },
   {
    "duration": 205,
    "start_time": "2023-11-14T15:56:34.220Z"
   },
   {
    "duration": 190,
    "start_time": "2023-11-14T15:56:34.428Z"
   },
   {
    "duration": 564,
    "start_time": "2023-11-14T15:56:34.621Z"
   },
   {
    "duration": 2,
    "start_time": "2023-11-14T16:00:00.801Z"
   },
   {
    "duration": 120,
    "start_time": "2023-11-14T16:04:18.985Z"
   },
   {
    "duration": 3,
    "start_time": "2023-11-14T16:04:27.534Z"
   },
   {
    "duration": 9,
    "start_time": "2023-11-14T16:06:27.036Z"
   },
   {
    "duration": 4,
    "start_time": "2023-11-14T16:06:44.172Z"
   },
   {
    "duration": 10,
    "start_time": "2023-11-14T16:06:46.723Z"
   },
   {
    "duration": 10,
    "start_time": "2023-11-14T16:07:31.469Z"
   },
   {
    "duration": 3,
    "start_time": "2023-11-14T16:07:45.507Z"
   },
   {
    "duration": 3,
    "start_time": "2023-11-14T16:07:46.407Z"
   },
   {
    "duration": 9,
    "start_time": "2023-11-14T16:08:10.771Z"
   },
   {
    "duration": 5,
    "start_time": "2023-11-14T16:08:41.937Z"
   },
   {
    "duration": 3,
    "start_time": "2023-11-14T16:08:45.812Z"
   },
   {
    "duration": 445,
    "start_time": "2023-11-14T16:09:37.586Z"
   },
   {
    "duration": 407,
    "start_time": "2023-11-14T16:10:40.959Z"
   },
   {
    "duration": 414,
    "start_time": "2023-11-14T16:10:58.217Z"
   },
   {
    "duration": 374,
    "start_time": "2023-11-14T16:11:04.363Z"
   },
   {
    "duration": 520,
    "start_time": "2023-11-14T16:11:23.250Z"
   },
   {
    "duration": 11,
    "start_time": "2023-11-14T16:13:20.756Z"
   },
   {
    "duration": 5,
    "start_time": "2023-11-14T16:13:41.852Z"
   },
   {
    "duration": 1601,
    "start_time": "2023-11-14T16:13:47.921Z"
   },
   {
    "duration": 45,
    "start_time": "2023-11-14T16:13:49.530Z"
   },
   {
    "duration": 18,
    "start_time": "2023-11-14T16:13:49.577Z"
   },
   {
    "duration": 172,
    "start_time": "2023-11-14T16:13:49.597Z"
   },
   {
    "duration": 10,
    "start_time": "2023-11-14T16:13:49.772Z"
   },
   {
    "duration": 161,
    "start_time": "2023-11-14T16:13:49.784Z"
   },
   {
    "duration": 6,
    "start_time": "2023-11-14T16:13:49.947Z"
   },
   {
    "duration": 12,
    "start_time": "2023-11-14T16:13:49.955Z"
   },
   {
    "duration": 177,
    "start_time": "2023-11-14T16:13:49.969Z"
   },
   {
    "duration": 9,
    "start_time": "2023-11-14T16:13:50.148Z"
   },
   {
    "duration": 148,
    "start_time": "2023-11-14T16:13:50.158Z"
   },
   {
    "duration": 189,
    "start_time": "2023-11-14T16:13:50.317Z"
   },
   {
    "duration": 12,
    "start_time": "2023-11-14T16:13:50.511Z"
   },
   {
    "duration": 200,
    "start_time": "2023-11-14T16:13:50.528Z"
   },
   {
    "duration": 7,
    "start_time": "2023-11-14T16:13:50.733Z"
   },
   {
    "duration": 7,
    "start_time": "2023-11-14T16:13:50.742Z"
   },
   {
    "duration": 7,
    "start_time": "2023-11-14T16:13:50.750Z"
   },
   {
    "duration": 218,
    "start_time": "2023-11-14T16:13:50.758Z"
   },
   {
    "duration": 24,
    "start_time": "2023-11-14T16:13:50.978Z"
   },
   {
    "duration": 155,
    "start_time": "2023-11-14T16:13:51.004Z"
   },
   {
    "duration": 5,
    "start_time": "2023-11-14T16:13:51.161Z"
   },
   {
    "duration": 8,
    "start_time": "2023-11-14T16:13:51.168Z"
   },
   {
    "duration": 40,
    "start_time": "2023-11-14T16:13:51.179Z"
   },
   {
    "duration": 16,
    "start_time": "2023-11-14T16:13:51.221Z"
   },
   {
    "duration": 54,
    "start_time": "2023-11-14T16:13:51.239Z"
   },
   {
    "duration": 48,
    "start_time": "2023-11-14T16:13:51.294Z"
   },
   {
    "duration": 6,
    "start_time": "2023-11-14T16:13:51.344Z"
   },
   {
    "duration": 75,
    "start_time": "2023-11-14T16:13:51.352Z"
   },
   {
    "duration": 4,
    "start_time": "2023-11-14T16:13:51.428Z"
   },
   {
    "duration": 816,
    "start_time": "2023-11-14T16:13:51.433Z"
   },
   {
    "duration": 247,
    "start_time": "2023-11-14T16:13:52.250Z"
   },
   {
    "duration": 21,
    "start_time": "2023-11-14T16:13:52.499Z"
   },
   {
    "duration": 9,
    "start_time": "2023-11-14T16:13:52.524Z"
   },
   {
    "duration": 83,
    "start_time": "2023-11-14T16:13:52.536Z"
   },
   {
    "duration": 196,
    "start_time": "2023-11-14T16:13:52.626Z"
   },
   {
    "duration": 191,
    "start_time": "2023-11-14T16:13:52.824Z"
   },
   {
    "duration": 481,
    "start_time": "2023-11-14T16:13:53.017Z"
   },
   {
    "duration": 627,
    "start_time": "2023-11-14T16:15:22.576Z"
   },
   {
    "duration": 833,
    "start_time": "2023-11-14T16:17:10.433Z"
   },
   {
    "duration": 8,
    "start_time": "2023-11-14T16:17:29.095Z"
   },
   {
    "duration": 910,
    "start_time": "2023-11-14T16:17:37.647Z"
   },
   {
    "duration": 1023,
    "start_time": "2023-11-14T16:18:00.667Z"
   },
   {
    "duration": 898,
    "start_time": "2023-11-14T16:19:33.337Z"
   },
   {
    "duration": 849,
    "start_time": "2023-11-14T16:20:32.989Z"
   },
   {
    "duration": 812,
    "start_time": "2023-11-14T16:21:16.492Z"
   },
   {
    "duration": 849,
    "start_time": "2023-11-14T16:21:41.586Z"
   },
   {
    "duration": 845,
    "start_time": "2023-11-14T16:21:56.385Z"
   },
   {
    "duration": 1015,
    "start_time": "2023-11-14T16:22:25.526Z"
   },
   {
    "duration": 63,
    "start_time": "2023-11-14T19:01:08.511Z"
   },
   {
    "duration": 1743,
    "start_time": "2023-11-14T19:01:15.740Z"
   },
   {
    "duration": 84,
    "start_time": "2023-11-14T19:01:17.486Z"
   },
   {
    "duration": 15,
    "start_time": "2023-11-14T19:01:17.571Z"
   },
   {
    "duration": 173,
    "start_time": "2023-11-14T19:01:17.588Z"
   },
   {
    "duration": 9,
    "start_time": "2023-11-14T19:01:17.763Z"
   },
   {
    "duration": 119,
    "start_time": "2023-11-14T19:01:17.773Z"
   },
   {
    "duration": 7,
    "start_time": "2023-11-14T19:01:17.894Z"
   },
   {
    "duration": 20,
    "start_time": "2023-11-14T19:01:17.903Z"
   },
   {
    "duration": 159,
    "start_time": "2023-11-14T19:01:17.925Z"
   },
   {
    "duration": 10,
    "start_time": "2023-11-14T19:01:18.086Z"
   },
   {
    "duration": 139,
    "start_time": "2023-11-14T19:01:18.099Z"
   },
   {
    "duration": 259,
    "start_time": "2023-11-14T19:01:18.240Z"
   },
   {
    "duration": 29,
    "start_time": "2023-11-14T19:01:18.501Z"
   },
   {
    "duration": 143,
    "start_time": "2023-11-14T19:01:18.534Z"
   },
   {
    "duration": 6,
    "start_time": "2023-11-14T19:01:18.678Z"
   },
   {
    "duration": 8,
    "start_time": "2023-11-14T19:01:18.685Z"
   },
   {
    "duration": 25,
    "start_time": "2023-11-14T19:01:18.695Z"
   },
   {
    "duration": 186,
    "start_time": "2023-11-14T19:01:18.721Z"
   },
   {
    "duration": 11,
    "start_time": "2023-11-14T19:01:18.918Z"
   },
   {
    "duration": 137,
    "start_time": "2023-11-14T19:01:18.931Z"
   },
   {
    "duration": 5,
    "start_time": "2023-11-14T19:01:19.070Z"
   },
   {
    "duration": 7,
    "start_time": "2023-11-14T19:01:19.077Z"
   },
   {
    "duration": 41,
    "start_time": "2023-11-14T19:01:19.086Z"
   },
   {
    "duration": 10,
    "start_time": "2023-11-14T19:01:19.129Z"
   },
   {
    "duration": 55,
    "start_time": "2023-11-14T19:01:19.140Z"
   },
   {
    "duration": 44,
    "start_time": "2023-11-14T19:01:19.197Z"
   },
   {
    "duration": 5,
    "start_time": "2023-11-14T19:01:19.242Z"
   },
   {
    "duration": 30,
    "start_time": "2023-11-14T19:01:19.248Z"
   },
   {
    "duration": 3,
    "start_time": "2023-11-14T19:01:19.280Z"
   },
   {
    "duration": 952,
    "start_time": "2023-11-14T19:01:19.285Z"
   },
   {
    "duration": 6,
    "start_time": "2023-11-14T19:01:20.239Z"
   },
   {
    "duration": 77,
    "start_time": "2023-11-14T19:01:20.247Z"
   },
   {
    "duration": 211,
    "start_time": "2023-11-14T19:01:20.326Z"
   },
   {
    "duration": 194,
    "start_time": "2023-11-14T19:01:20.540Z"
   },
   {
    "duration": 571,
    "start_time": "2023-11-14T19:01:20.736Z"
   },
   {
    "duration": 391,
    "start_time": "2023-11-14T19:06:06.421Z"
   },
   {
    "duration": 4,
    "start_time": "2023-11-14T19:06:17.028Z"
   },
   {
    "duration": 812,
    "start_time": "2023-11-14T19:06:18.218Z"
   },
   {
    "duration": 4,
    "start_time": "2023-11-14T19:10:12.991Z"
   },
   {
    "duration": 413,
    "start_time": "2023-11-14T19:10:14.915Z"
   },
   {
    "duration": 917,
    "start_time": "2023-11-14T19:10:35.041Z"
   },
   {
    "duration": 98,
    "start_time": "2023-11-14T19:11:30.022Z"
   },
   {
    "duration": 867,
    "start_time": "2023-11-14T19:11:50.373Z"
   },
   {
    "duration": 78,
    "start_time": "2023-11-14T19:11:56.849Z"
   },
   {
    "duration": 807,
    "start_time": "2023-11-14T19:12:38.533Z"
   },
   {
    "duration": 199,
    "start_time": "2023-11-14T19:12:41.318Z"
   },
   {
    "duration": 851,
    "start_time": "2023-11-14T19:12:47.996Z"
   },
   {
    "duration": 829,
    "start_time": "2023-11-14T19:14:25.709Z"
   },
   {
    "duration": 6,
    "start_time": "2023-11-14T19:16:22.157Z"
   },
   {
    "duration": 846,
    "start_time": "2023-11-14T19:16:32.990Z"
   },
   {
    "duration": 518,
    "start_time": "2023-11-14T19:19:24.490Z"
   },
   {
    "duration": 419,
    "start_time": "2023-11-14T19:19:43.525Z"
   },
   {
    "duration": 806,
    "start_time": "2023-11-14T19:19:56.023Z"
   },
   {
    "duration": 860,
    "start_time": "2023-11-14T19:20:30.981Z"
   },
   {
    "duration": 749,
    "start_time": "2023-11-14T19:20:51.825Z"
   },
   {
    "duration": 847,
    "start_time": "2023-11-14T19:21:29.892Z"
   },
   {
    "duration": 955,
    "start_time": "2023-11-14T19:21:45.189Z"
   },
   {
    "duration": 853,
    "start_time": "2023-11-14T19:22:36.588Z"
   },
   {
    "duration": 833,
    "start_time": "2023-11-14T19:23:14.549Z"
   },
   {
    "duration": 1327,
    "start_time": "2023-11-14T19:25:07.524Z"
   },
   {
    "duration": 1282,
    "start_time": "2023-11-14T19:25:29.540Z"
   },
   {
    "duration": 1318,
    "start_time": "2023-11-14T19:26:02.313Z"
   },
   {
    "duration": 1170,
    "start_time": "2023-11-14T19:26:19.030Z"
   },
   {
    "duration": 1065,
    "start_time": "2023-11-14T19:26:58.175Z"
   },
   {
    "duration": 415,
    "start_time": "2023-11-14T19:28:01.080Z"
   },
   {
    "duration": 698,
    "start_time": "2023-11-14T19:28:27.061Z"
   },
   {
    "duration": 361,
    "start_time": "2023-11-14T19:29:58.381Z"
   },
   {
    "duration": 708,
    "start_time": "2023-11-14T19:31:47.045Z"
   },
   {
    "duration": 305,
    "start_time": "2023-11-14T19:32:06.038Z"
   },
   {
    "duration": 320,
    "start_time": "2023-11-14T19:32:14.284Z"
   },
   {
    "duration": 304,
    "start_time": "2023-11-14T19:32:38.357Z"
   },
   {
    "duration": 280,
    "start_time": "2023-11-14T19:32:45.860Z"
   },
   {
    "duration": 674,
    "start_time": "2023-11-14T19:32:57.601Z"
   },
   {
    "duration": 652,
    "start_time": "2023-11-14T19:33:01.510Z"
   },
   {
    "duration": 345,
    "start_time": "2023-11-14T19:33:06.407Z"
   },
   {
    "duration": 262,
    "start_time": "2023-11-14T19:33:12.729Z"
   },
   {
    "duration": 383,
    "start_time": "2023-11-14T19:33:19.294Z"
   },
   {
    "duration": 321,
    "start_time": "2023-11-14T19:33:24.004Z"
   },
   {
    "duration": 274,
    "start_time": "2023-11-14T19:33:27.865Z"
   },
   {
    "duration": 279,
    "start_time": "2023-11-14T19:40:14.957Z"
   },
   {
    "duration": 418,
    "start_time": "2023-11-14T19:40:31.827Z"
   },
   {
    "duration": 646,
    "start_time": "2023-11-14T19:41:04.520Z"
   },
   {
    "duration": 336,
    "start_time": "2023-11-14T19:41:13.305Z"
   },
   {
    "duration": 61,
    "start_time": "2023-11-14T19:46:31.869Z"
   },
   {
    "duration": 12,
    "start_time": "2023-11-14T19:47:24.015Z"
   },
   {
    "duration": 864,
    "start_time": "2023-11-14T19:47:25.483Z"
   },
   {
    "duration": 448,
    "start_time": "2023-11-14T19:47:29.429Z"
   },
   {
    "duration": 741,
    "start_time": "2023-11-14T19:47:31.139Z"
   },
   {
    "duration": 288,
    "start_time": "2023-11-14T19:47:32.784Z"
   },
   {
    "duration": 652,
    "start_time": "2023-11-14T19:47:38.628Z"
   },
   {
    "duration": 915,
    "start_time": "2023-11-14T19:48:45.968Z"
   },
   {
    "duration": 621,
    "start_time": "2023-11-14T19:50:10.029Z"
   },
   {
    "duration": 206,
    "start_time": "2023-11-14T19:50:47.727Z"
   },
   {
    "duration": 174,
    "start_time": "2023-11-14T19:51:57.764Z"
   },
   {
    "duration": 207,
    "start_time": "2023-11-14T19:54:41.906Z"
   },
   {
    "duration": 35,
    "start_time": "2023-11-14T20:02:25.056Z"
   },
   {
    "duration": 38,
    "start_time": "2023-11-14T20:02:35.636Z"
   },
   {
    "duration": 37,
    "start_time": "2023-11-14T20:02:43.523Z"
   },
   {
    "duration": 31,
    "start_time": "2023-11-14T20:02:55.542Z"
   },
   {
    "duration": 5,
    "start_time": "2023-11-14T20:02:56.381Z"
   },
   {
    "duration": 1636,
    "start_time": "2023-11-14T20:04:29.832Z"
   },
   {
    "duration": 59,
    "start_time": "2023-11-14T20:04:31.470Z"
   },
   {
    "duration": 14,
    "start_time": "2023-11-14T20:04:31.536Z"
   },
   {
    "duration": 219,
    "start_time": "2023-11-14T20:04:31.552Z"
   },
   {
    "duration": 9,
    "start_time": "2023-11-14T20:04:31.773Z"
   },
   {
    "duration": 122,
    "start_time": "2023-11-14T20:04:31.784Z"
   },
   {
    "duration": 13,
    "start_time": "2023-11-14T20:04:31.907Z"
   },
   {
    "duration": 26,
    "start_time": "2023-11-14T20:04:31.923Z"
   },
   {
    "duration": 222,
    "start_time": "2023-11-14T20:04:31.951Z"
   },
   {
    "duration": 8,
    "start_time": "2023-11-14T20:04:32.175Z"
   },
   {
    "duration": 159,
    "start_time": "2023-11-14T20:04:32.185Z"
   },
   {
    "duration": 197,
    "start_time": "2023-11-14T20:04:32.346Z"
   },
   {
    "duration": 11,
    "start_time": "2023-11-14T20:04:32.544Z"
   },
   {
    "duration": 199,
    "start_time": "2023-11-14T20:04:32.559Z"
   },
   {
    "duration": 5,
    "start_time": "2023-11-14T20:04:32.760Z"
   },
   {
    "duration": 8,
    "start_time": "2023-11-14T20:04:32.767Z"
   },
   {
    "duration": 8,
    "start_time": "2023-11-14T20:04:32.776Z"
   },
   {
    "duration": 220,
    "start_time": "2023-11-14T20:04:32.786Z"
   },
   {
    "duration": 27,
    "start_time": "2023-11-14T20:04:33.008Z"
   },
   {
    "duration": 148,
    "start_time": "2023-11-14T20:04:33.041Z"
   },
   {
    "duration": 6,
    "start_time": "2023-11-14T20:04:33.191Z"
   },
   {
    "duration": 16,
    "start_time": "2023-11-14T20:04:33.198Z"
   },
   {
    "duration": 32,
    "start_time": "2023-11-14T20:04:33.217Z"
   },
   {
    "duration": 10,
    "start_time": "2023-11-14T20:04:33.250Z"
   },
   {
    "duration": 85,
    "start_time": "2023-11-14T20:04:33.262Z"
   },
   {
    "duration": 147,
    "start_time": "2023-11-14T20:04:33.348Z"
   },
   {
    "duration": 0,
    "start_time": "2023-11-14T20:04:33.497Z"
   },
   {
    "duration": 0,
    "start_time": "2023-11-14T20:04:33.498Z"
   },
   {
    "duration": 0,
    "start_time": "2023-11-14T20:04:33.499Z"
   },
   {
    "duration": 0,
    "start_time": "2023-11-14T20:04:33.500Z"
   },
   {
    "duration": 0,
    "start_time": "2023-11-14T20:04:33.501Z"
   },
   {
    "duration": 0,
    "start_time": "2023-11-14T20:04:33.502Z"
   },
   {
    "duration": 0,
    "start_time": "2023-11-14T20:04:33.503Z"
   },
   {
    "duration": 0,
    "start_time": "2023-11-14T20:04:33.504Z"
   },
   {
    "duration": 104,
    "start_time": "2023-11-14T20:05:11.548Z"
   },
   {
    "duration": 1539,
    "start_time": "2023-11-14T20:05:20.030Z"
   },
   {
    "duration": 56,
    "start_time": "2023-11-14T20:05:21.571Z"
   },
   {
    "duration": 17,
    "start_time": "2023-11-14T20:05:21.628Z"
   },
   {
    "duration": 200,
    "start_time": "2023-11-14T20:05:21.648Z"
   },
   {
    "duration": 10,
    "start_time": "2023-11-14T20:05:21.850Z"
   },
   {
    "duration": 125,
    "start_time": "2023-11-14T20:05:21.862Z"
   },
   {
    "duration": 7,
    "start_time": "2023-11-14T20:05:21.990Z"
   },
   {
    "duration": 17,
    "start_time": "2023-11-14T20:05:22.000Z"
   },
   {
    "duration": 186,
    "start_time": "2023-11-14T20:05:22.020Z"
   },
   {
    "duration": 21,
    "start_time": "2023-11-14T20:05:22.209Z"
   },
   {
    "duration": 138,
    "start_time": "2023-11-14T20:05:22.232Z"
   },
   {
    "duration": 192,
    "start_time": "2023-11-14T20:05:22.371Z"
   },
   {
    "duration": 10,
    "start_time": "2023-11-14T20:05:22.565Z"
   },
   {
    "duration": 219,
    "start_time": "2023-11-14T20:05:22.577Z"
   },
   {
    "duration": 6,
    "start_time": "2023-11-14T20:05:22.798Z"
   },
   {
    "duration": 23,
    "start_time": "2023-11-14T20:05:22.805Z"
   },
   {
    "duration": 6,
    "start_time": "2023-11-14T20:05:22.829Z"
   },
   {
    "duration": 209,
    "start_time": "2023-11-14T20:05:22.838Z"
   },
   {
    "duration": 9,
    "start_time": "2023-11-14T20:05:23.049Z"
   },
   {
    "duration": 149,
    "start_time": "2023-11-14T20:05:23.059Z"
   },
   {
    "duration": 13,
    "start_time": "2023-11-14T20:05:23.213Z"
   },
   {
    "duration": 8,
    "start_time": "2023-11-14T20:05:23.228Z"
   },
   {
    "duration": 16,
    "start_time": "2023-11-14T20:05:23.237Z"
   },
   {
    "duration": 9,
    "start_time": "2023-11-14T20:05:23.255Z"
   },
   {
    "duration": 92,
    "start_time": "2023-11-14T20:05:23.265Z"
   },
   {
    "duration": 149,
    "start_time": "2023-11-14T20:05:23.359Z"
   },
   {
    "duration": 0,
    "start_time": "2023-11-14T20:05:23.510Z"
   },
   {
    "duration": 0,
    "start_time": "2023-11-14T20:05:23.511Z"
   },
   {
    "duration": 0,
    "start_time": "2023-11-14T20:05:23.513Z"
   },
   {
    "duration": 0,
    "start_time": "2023-11-14T20:05:23.514Z"
   },
   {
    "duration": 0,
    "start_time": "2023-11-14T20:05:23.515Z"
   },
   {
    "duration": 0,
    "start_time": "2023-11-14T20:05:23.516Z"
   },
   {
    "duration": 1,
    "start_time": "2023-11-14T20:05:23.518Z"
   },
   {
    "duration": 0,
    "start_time": "2023-11-14T20:05:23.520Z"
   },
   {
    "duration": 15,
    "start_time": "2023-11-14T20:05:30.225Z"
   },
   {
    "duration": 26,
    "start_time": "2023-11-14T20:06:04.174Z"
   },
   {
    "duration": 1483,
    "start_time": "2023-11-14T20:06:11.861Z"
   },
   {
    "duration": 44,
    "start_time": "2023-11-14T20:06:13.345Z"
   },
   {
    "duration": 14,
    "start_time": "2023-11-14T20:06:13.391Z"
   },
   {
    "duration": 184,
    "start_time": "2023-11-14T20:06:13.408Z"
   },
   {
    "duration": 12,
    "start_time": "2023-11-14T20:06:13.594Z"
   },
   {
    "duration": 127,
    "start_time": "2023-11-14T20:06:13.609Z"
   },
   {
    "duration": 6,
    "start_time": "2023-11-14T20:06:13.738Z"
   },
   {
    "duration": 11,
    "start_time": "2023-11-14T20:06:13.746Z"
   },
   {
    "duration": 178,
    "start_time": "2023-11-14T20:06:13.759Z"
   },
   {
    "duration": 9,
    "start_time": "2023-11-14T20:06:13.940Z"
   },
   {
    "duration": 137,
    "start_time": "2023-11-14T20:06:13.951Z"
   },
   {
    "duration": 181,
    "start_time": "2023-11-14T20:06:14.090Z"
   },
   {
    "duration": 12,
    "start_time": "2023-11-14T20:06:14.273Z"
   },
   {
    "duration": 195,
    "start_time": "2023-11-14T20:06:14.287Z"
   },
   {
    "duration": 5,
    "start_time": "2023-11-14T20:06:14.484Z"
   },
   {
    "duration": 6,
    "start_time": "2023-11-14T20:06:14.491Z"
   },
   {
    "duration": 27,
    "start_time": "2023-11-14T20:06:14.499Z"
   },
   {
    "duration": 208,
    "start_time": "2023-11-14T20:06:14.528Z"
   },
   {
    "duration": 11,
    "start_time": "2023-11-14T20:06:14.738Z"
   },
   {
    "duration": 142,
    "start_time": "2023-11-14T20:06:14.750Z"
   },
   {
    "duration": 6,
    "start_time": "2023-11-14T20:06:14.893Z"
   },
   {
    "duration": 24,
    "start_time": "2023-11-14T20:06:14.901Z"
   },
   {
    "duration": 15,
    "start_time": "2023-11-14T20:06:14.927Z"
   },
   {
    "duration": 9,
    "start_time": "2023-11-14T20:06:14.944Z"
   },
   {
    "duration": 79,
    "start_time": "2023-11-14T20:06:14.955Z"
   },
   {
    "duration": 29,
    "start_time": "2023-11-14T20:06:15.036Z"
   },
   {
    "duration": 6,
    "start_time": "2023-11-14T20:06:15.067Z"
   },
   {
    "duration": 75,
    "start_time": "2023-11-14T20:06:15.076Z"
   },
   {
    "duration": 6,
    "start_time": "2023-11-14T20:06:15.153Z"
   },
   {
    "duration": 792,
    "start_time": "2023-11-14T20:06:15.161Z"
   },
   {
    "duration": 336,
    "start_time": "2023-11-14T20:06:15.955Z"
   },
   {
    "duration": 597,
    "start_time": "2023-11-14T20:06:16.293Z"
   },
   {
    "duration": 501,
    "start_time": "2023-11-14T20:06:16.892Z"
   },
   {
    "duration": 335,
    "start_time": "2023-11-14T20:06:17.396Z"
   },
   {
    "duration": 640,
    "start_time": "2023-11-14T20:06:56.701Z"
   },
   {
    "duration": 1603,
    "start_time": "2023-11-14T20:08:17.123Z"
   },
   {
    "duration": 96,
    "start_time": "2023-11-14T20:08:18.728Z"
   },
   {
    "duration": 17,
    "start_time": "2023-11-14T20:08:18.825Z"
   },
   {
    "duration": 160,
    "start_time": "2023-11-14T20:08:18.843Z"
   },
   {
    "duration": 20,
    "start_time": "2023-11-14T20:08:19.006Z"
   },
   {
    "duration": 117,
    "start_time": "2023-11-14T20:08:19.028Z"
   },
   {
    "duration": 6,
    "start_time": "2023-11-14T20:08:19.147Z"
   },
   {
    "duration": 8,
    "start_time": "2023-11-14T20:08:19.155Z"
   },
   {
    "duration": 178,
    "start_time": "2023-11-14T20:08:19.164Z"
   },
   {
    "duration": 9,
    "start_time": "2023-11-14T20:08:19.343Z"
   },
   {
    "duration": 147,
    "start_time": "2023-11-14T20:08:19.353Z"
   },
   {
    "duration": 192,
    "start_time": "2023-11-14T20:08:19.502Z"
   },
   {
    "duration": 11,
    "start_time": "2023-11-14T20:08:19.696Z"
   },
   {
    "duration": 211,
    "start_time": "2023-11-14T20:08:19.710Z"
   },
   {
    "duration": 7,
    "start_time": "2023-11-14T20:08:19.924Z"
   },
   {
    "duration": 7,
    "start_time": "2023-11-14T20:08:19.932Z"
   },
   {
    "duration": 10,
    "start_time": "2023-11-14T20:08:19.940Z"
   },
   {
    "duration": 215,
    "start_time": "2023-11-14T20:08:19.952Z"
   },
   {
    "duration": 9,
    "start_time": "2023-11-14T20:08:20.169Z"
   },
   {
    "duration": 136,
    "start_time": "2023-11-14T20:08:20.180Z"
   },
   {
    "duration": 7,
    "start_time": "2023-11-14T20:08:20.325Z"
   },
   {
    "duration": 14,
    "start_time": "2023-11-14T20:08:20.334Z"
   },
   {
    "duration": 16,
    "start_time": "2023-11-14T20:08:20.350Z"
   },
   {
    "duration": 9,
    "start_time": "2023-11-14T20:08:20.367Z"
   },
   {
    "duration": 87,
    "start_time": "2023-11-14T20:08:20.378Z"
   },
   {
    "duration": 28,
    "start_time": "2023-11-14T20:08:20.466Z"
   },
   {
    "duration": 5,
    "start_time": "2023-11-14T20:08:20.496Z"
   },
   {
    "duration": 53,
    "start_time": "2023-11-14T20:08:20.512Z"
   },
   {
    "duration": 6,
    "start_time": "2023-11-14T20:08:20.567Z"
   },
   {
    "duration": 776,
    "start_time": "2023-11-14T20:08:20.575Z"
   },
   {
    "duration": 348,
    "start_time": "2023-11-14T20:08:21.352Z"
   },
   {
    "duration": 571,
    "start_time": "2023-11-14T20:08:21.702Z"
   },
   {
    "duration": 483,
    "start_time": "2023-11-14T20:08:22.274Z"
   },
   {
    "duration": 15470,
    "start_time": "2023-11-14T20:08:22.759Z"
   },
   {
    "duration": 17467,
    "start_time": "2023-11-14T20:08:54.033Z"
   },
   {
    "duration": 21489,
    "start_time": "2023-11-14T20:09:29.427Z"
   },
   {
    "duration": 20932,
    "start_time": "2023-11-14T20:10:37.842Z"
   },
   {
    "duration": 20980,
    "start_time": "2023-11-14T20:11:48.779Z"
   },
   {
    "duration": 20258,
    "start_time": "2023-11-14T20:12:14.849Z"
   },
   {
    "duration": 20467,
    "start_time": "2023-11-14T20:12:54.853Z"
   },
   {
    "duration": 19975,
    "start_time": "2023-11-14T20:13:18.563Z"
   },
   {
    "duration": 5,
    "start_time": "2023-11-14T20:13:43.772Z"
   },
   {
    "duration": 13473,
    "start_time": "2023-11-14T20:13:44.794Z"
   },
   {
    "duration": 15309,
    "start_time": "2023-11-14T20:13:58.269Z"
   },
   {
    "duration": 69,
    "start_time": "2023-11-14T20:14:29.574Z"
   },
   {
    "duration": 1665,
    "start_time": "2023-11-14T20:15:03.489Z"
   },
   {
    "duration": 90,
    "start_time": "2023-11-14T20:15:05.156Z"
   },
   {
    "duration": 15,
    "start_time": "2023-11-14T20:15:05.248Z"
   },
   {
    "duration": 170,
    "start_time": "2023-11-14T20:15:05.265Z"
   },
   {
    "duration": 9,
    "start_time": "2023-11-14T20:15:05.437Z"
   },
   {
    "duration": 124,
    "start_time": "2023-11-14T20:15:05.448Z"
   },
   {
    "duration": 7,
    "start_time": "2023-11-14T20:15:05.574Z"
   },
   {
    "duration": 8,
    "start_time": "2023-11-14T20:15:05.583Z"
   },
   {
    "duration": 193,
    "start_time": "2023-11-14T20:15:05.593Z"
   },
   {
    "duration": 8,
    "start_time": "2023-11-14T20:15:05.788Z"
   },
   {
    "duration": 145,
    "start_time": "2023-11-14T20:15:05.798Z"
   },
   {
    "duration": 181,
    "start_time": "2023-11-14T20:15:05.945Z"
   },
   {
    "duration": 11,
    "start_time": "2023-11-14T20:15:06.128Z"
   },
   {
    "duration": 249,
    "start_time": "2023-11-14T20:15:06.141Z"
   },
   {
    "duration": 6,
    "start_time": "2023-11-14T20:15:06.392Z"
   },
   {
    "duration": 34,
    "start_time": "2023-11-14T20:15:06.399Z"
   },
   {
    "duration": 12,
    "start_time": "2023-11-14T20:15:06.435Z"
   },
   {
    "duration": 196,
    "start_time": "2023-11-14T20:15:06.449Z"
   },
   {
    "duration": 10,
    "start_time": "2023-11-14T20:15:06.646Z"
   },
   {
    "duration": 162,
    "start_time": "2023-11-14T20:15:06.658Z"
   },
   {
    "duration": 7,
    "start_time": "2023-11-14T20:15:06.822Z"
   },
   {
    "duration": 41,
    "start_time": "2023-11-14T20:15:06.831Z"
   },
   {
    "duration": 22,
    "start_time": "2023-11-14T20:15:06.873Z"
   },
   {
    "duration": 9,
    "start_time": "2023-11-14T20:15:06.897Z"
   },
   {
    "duration": 57,
    "start_time": "2023-11-14T20:15:06.908Z"
   },
   {
    "duration": 28,
    "start_time": "2023-11-14T20:15:06.967Z"
   },
   {
    "duration": 6,
    "start_time": "2023-11-14T20:15:07.011Z"
   },
   {
    "duration": 35,
    "start_time": "2023-11-14T20:15:07.018Z"
   },
   {
    "duration": 9,
    "start_time": "2023-11-14T20:15:07.055Z"
   },
   {
    "duration": 858,
    "start_time": "2023-11-14T20:15:07.066Z"
   },
   {
    "duration": 370,
    "start_time": "2023-11-14T20:15:07.927Z"
   },
   {
    "duration": 569,
    "start_time": "2023-11-14T20:15:08.299Z"
   },
   {
    "duration": 514,
    "start_time": "2023-11-14T20:15:08.870Z"
   },
   {
    "duration": 609,
    "start_time": "2023-11-14T20:15:09.385Z"
   },
   {
    "duration": 602,
    "start_time": "2023-11-14T20:31:15.874Z"
   },
   {
    "duration": 462,
    "start_time": "2023-11-14T20:31:38.523Z"
   },
   {
    "duration": 445,
    "start_time": "2023-11-14T20:31:54.489Z"
   },
   {
    "duration": 466,
    "start_time": "2023-11-14T20:32:00.892Z"
   },
   {
    "duration": 470,
    "start_time": "2023-11-14T20:32:09.290Z"
   },
   {
    "duration": 280,
    "start_time": "2023-11-14T20:32:34.185Z"
   },
   {
    "duration": 284,
    "start_time": "2023-11-14T20:32:46.792Z"
   },
   {
    "duration": 260,
    "start_time": "2023-11-14T20:32:52.725Z"
   },
   {
    "duration": 463,
    "start_time": "2023-11-14T20:33:26.787Z"
   },
   {
    "duration": 460,
    "start_time": "2023-11-14T20:34:02.931Z"
   },
   {
    "duration": 6,
    "start_time": "2023-11-14T20:36:08.892Z"
   },
   {
    "duration": 1567,
    "start_time": "2023-11-14T20:36:12.550Z"
   },
   {
    "duration": 1088,
    "start_time": "2023-11-14T20:36:16.467Z"
   },
   {
    "duration": 1991,
    "start_time": "2023-11-14T20:36:18.212Z"
   },
   {
    "duration": 600,
    "start_time": "2023-11-14T20:36:20.563Z"
   },
   {
    "duration": 778,
    "start_time": "2023-11-14T20:36:31.340Z"
   },
   {
    "duration": 870,
    "start_time": "2023-11-14T20:36:40.684Z"
   },
   {
    "duration": 750,
    "start_time": "2023-11-14T20:36:47.180Z"
   },
   {
    "duration": 1104,
    "start_time": "2023-11-14T20:37:07.822Z"
   },
   {
    "duration": 5,
    "start_time": "2023-11-14T20:37:39.032Z"
   },
   {
    "duration": 1550,
    "start_time": "2023-11-14T20:37:40.693Z"
   },
   {
    "duration": 1085,
    "start_time": "2023-11-14T20:37:42.245Z"
   },
   {
    "duration": 1930,
    "start_time": "2023-11-14T20:37:43.332Z"
   },
   {
    "duration": 8,
    "start_time": "2023-11-14T20:58:56.285Z"
   },
   {
    "duration": 534,
    "start_time": "2023-11-14T21:02:23.791Z"
   },
   {
    "duration": 106,
    "start_time": "2023-11-14T21:02:42.525Z"
   },
   {
    "duration": 429,
    "start_time": "2023-11-14T21:02:47.532Z"
   },
   {
    "duration": 8,
    "start_time": "2023-11-14T21:03:36.757Z"
   },
   {
    "duration": 1508,
    "start_time": "2023-11-14T21:03:39.923Z"
   },
   {
    "duration": 7,
    "start_time": "2023-11-14T21:05:52.605Z"
   },
   {
    "duration": 1519,
    "start_time": "2023-11-14T21:05:54.758Z"
   },
   {
    "duration": 460,
    "start_time": "2023-11-14T21:06:02.240Z"
   },
   {
    "duration": 9,
    "start_time": "2023-11-14T21:06:20.462Z"
   },
   {
    "duration": 1497,
    "start_time": "2023-11-14T21:06:21.555Z"
   },
   {
    "duration": 1469,
    "start_time": "2023-11-14T21:06:26.660Z"
   },
   {
    "duration": 103,
    "start_time": "2023-11-14T21:09:09.901Z"
   },
   {
    "duration": 10,
    "start_time": "2023-11-14T21:09:11.906Z"
   },
   {
    "duration": 1520,
    "start_time": "2023-11-14T21:09:18.617Z"
   },
   {
    "duration": 1548,
    "start_time": "2023-11-14T21:09:36.189Z"
   },
   {
    "duration": 2335,
    "start_time": "2023-11-14T21:10:48.185Z"
   },
   {
    "duration": 2380,
    "start_time": "2023-11-14T21:11:03.043Z"
   },
   {
    "duration": 1057,
    "start_time": "2023-11-14T21:12:52.976Z"
   },
   {
    "duration": 1568,
    "start_time": "2023-11-14T21:13:18.563Z"
   },
   {
    "duration": 1102,
    "start_time": "2023-11-14T21:13:33.223Z"
   },
   {
    "duration": 23,
    "start_time": "2023-11-14T21:13:42.248Z"
   },
   {
    "duration": 953,
    "start_time": "2023-11-14T21:13:48.207Z"
   },
   {
    "duration": 1078,
    "start_time": "2023-11-14T21:13:55.635Z"
   },
   {
    "duration": 949,
    "start_time": "2023-11-14T21:14:01.795Z"
   },
   {
    "duration": 1876,
    "start_time": "2023-11-14T21:14:11.107Z"
   },
   {
    "duration": 8,
    "start_time": "2023-11-14T21:21:41.788Z"
   },
   {
    "duration": 1527,
    "start_time": "2023-11-14T21:21:43.509Z"
   },
   {
    "duration": 1613,
    "start_time": "2023-11-14T21:21:49.915Z"
   },
   {
    "duration": 2024,
    "start_time": "2023-11-14T21:21:55.712Z"
   },
   {
    "duration": 980,
    "start_time": "2023-11-14T21:22:08.049Z"
   },
   {
    "duration": 495,
    "start_time": "2023-11-14T21:22:38.132Z"
   },
   {
    "duration": 5,
    "start_time": "2023-11-14T21:24:25.920Z"
   },
   {
    "duration": 8,
    "start_time": "2023-11-14T21:24:54.885Z"
   },
   {
    "duration": 1502,
    "start_time": "2023-11-14T21:24:56.196Z"
   },
   {
    "duration": 450,
    "start_time": "2023-11-14T21:25:03.963Z"
   },
   {
    "duration": 103,
    "start_time": "2023-11-14T21:25:25.355Z"
   },
   {
    "duration": 1485,
    "start_time": "2023-11-14T21:25:26.405Z"
   },
   {
    "duration": 1579,
    "start_time": "2023-11-14T21:25:31.537Z"
   },
   {
    "duration": 1939,
    "start_time": "2023-11-14T21:25:35.061Z"
   },
   {
    "duration": 942,
    "start_time": "2023-11-14T21:25:37.002Z"
   },
   {
    "duration": 455,
    "start_time": "2023-11-14T21:25:43.043Z"
   },
   {
    "duration": 458,
    "start_time": "2023-11-14T21:26:12.452Z"
   },
   {
    "duration": 2003,
    "start_time": "2023-11-14T21:26:39.286Z"
   },
   {
    "duration": 261,
    "start_time": "2023-11-14T21:27:03.551Z"
   },
   {
    "duration": 263,
    "start_time": "2023-11-14T21:27:13.503Z"
   },
   {
    "duration": 1972,
    "start_time": "2023-11-14T21:27:17.573Z"
   },
   {
    "duration": 2274,
    "start_time": "2023-11-14T21:27:44.174Z"
   },
   {
    "duration": 1970,
    "start_time": "2023-11-14T21:28:18.110Z"
   },
   {
    "duration": 1517,
    "start_time": "2023-11-14T21:30:25.232Z"
   },
   {
    "duration": 2116,
    "start_time": "2023-11-14T21:30:30.912Z"
   },
   {
    "duration": 971,
    "start_time": "2023-11-14T21:30:45.367Z"
   },
   {
    "duration": 1023,
    "start_time": "2023-11-14T21:30:52.492Z"
   },
   {
    "duration": 1924,
    "start_time": "2023-11-14T21:31:09.512Z"
   },
   {
    "duration": 1994,
    "start_time": "2023-11-14T21:31:17.127Z"
   },
   {
    "duration": 1026,
    "start_time": "2023-11-14T21:31:19.274Z"
   },
   {
    "duration": 1174,
    "start_time": "2023-11-14T21:31:30.052Z"
   },
   {
    "duration": 1335,
    "start_time": "2023-11-14T21:31:47.798Z"
   },
   {
    "duration": 1248,
    "start_time": "2023-11-14T21:31:57.100Z"
   },
   {
    "duration": 996,
    "start_time": "2023-11-14T21:32:13.730Z"
   },
   {
    "duration": 932,
    "start_time": "2023-11-14T21:32:20.291Z"
   },
   {
    "duration": 1072,
    "start_time": "2023-11-14T21:32:25.147Z"
   },
   {
    "duration": 2277,
    "start_time": "2023-11-14T21:32:27.237Z"
   },
   {
    "duration": 2243,
    "start_time": "2023-11-14T21:32:38.493Z"
   },
   {
    "duration": 251,
    "start_time": "2023-11-14T21:32:57.182Z"
   },
   {
    "duration": 1863,
    "start_time": "2023-11-14T21:33:09.954Z"
   },
   {
    "duration": 1819,
    "start_time": "2023-11-14T21:33:19.254Z"
   },
   {
    "duration": 1809,
    "start_time": "2023-11-14T21:33:30.555Z"
   },
   {
    "duration": 50,
    "start_time": "2023-11-16T07:34:14.082Z"
   },
   {
    "duration": 1657,
    "start_time": "2023-11-16T07:40:36.263Z"
   },
   {
    "duration": 82,
    "start_time": "2023-11-16T07:40:37.922Z"
   },
   {
    "duration": 15,
    "start_time": "2023-11-16T07:40:38.005Z"
   },
   {
    "duration": 152,
    "start_time": "2023-11-16T07:40:38.022Z"
   },
   {
    "duration": 10,
    "start_time": "2023-11-16T07:40:38.176Z"
   },
   {
    "duration": 116,
    "start_time": "2023-11-16T07:40:38.187Z"
   },
   {
    "duration": 6,
    "start_time": "2023-11-16T07:40:38.304Z"
   },
   {
    "duration": 16,
    "start_time": "2023-11-16T07:40:38.311Z"
   },
   {
    "duration": 151,
    "start_time": "2023-11-16T07:40:38.329Z"
   },
   {
    "duration": 9,
    "start_time": "2023-11-16T07:40:38.482Z"
   },
   {
    "duration": 139,
    "start_time": "2023-11-16T07:40:38.493Z"
   },
   {
    "duration": 286,
    "start_time": "2023-11-16T07:40:38.634Z"
   },
   {
    "duration": 19,
    "start_time": "2023-11-16T07:40:38.922Z"
   },
   {
    "duration": 126,
    "start_time": "2023-11-16T07:40:38.946Z"
   },
   {
    "duration": 6,
    "start_time": "2023-11-16T07:40:39.074Z"
   },
   {
    "duration": 7,
    "start_time": "2023-11-16T07:40:39.082Z"
   },
   {
    "duration": 8,
    "start_time": "2023-11-16T07:40:39.091Z"
   },
   {
    "duration": 200,
    "start_time": "2023-11-16T07:40:39.101Z"
   },
   {
    "duration": 10,
    "start_time": "2023-11-16T07:40:39.302Z"
   },
   {
    "duration": 143,
    "start_time": "2023-11-16T07:40:39.313Z"
   },
   {
    "duration": 11,
    "start_time": "2023-11-16T07:40:39.458Z"
   },
   {
    "duration": 9,
    "start_time": "2023-11-16T07:40:39.471Z"
   },
   {
    "duration": 17,
    "start_time": "2023-11-16T07:40:39.481Z"
   },
   {
    "duration": 10,
    "start_time": "2023-11-16T07:40:39.500Z"
   },
   {
    "duration": 107,
    "start_time": "2023-11-16T07:40:39.512Z"
   },
   {
    "duration": 33,
    "start_time": "2023-11-16T07:40:39.621Z"
   },
   {
    "duration": 6,
    "start_time": "2023-11-16T07:40:39.666Z"
   },
   {
    "duration": 30,
    "start_time": "2023-11-16T07:40:39.674Z"
   },
   {
    "duration": 7,
    "start_time": "2023-11-16T07:40:39.705Z"
   },
   {
    "duration": 17,
    "start_time": "2023-11-16T07:40:39.714Z"
   },
   {
    "duration": 1535,
    "start_time": "2023-11-16T07:40:39.732Z"
   },
   {
    "duration": 1504,
    "start_time": "2023-11-16T07:40:41.269Z"
   },
   {
    "duration": 1951,
    "start_time": "2023-11-16T07:40:42.774Z"
   },
   {
    "duration": 1033,
    "start_time": "2023-11-16T07:40:44.727Z"
   },
   {
    "duration": 1829,
    "start_time": "2023-11-16T07:40:45.762Z"
   },
   {
    "duration": 8,
    "start_time": "2023-11-16T07:42:17.465Z"
   },
   {
    "duration": 1528,
    "start_time": "2023-11-16T07:42:21.045Z"
   },
   {
    "duration": 4,
    "start_time": "2023-11-16T07:43:51.426Z"
   },
   {
    "duration": 1417,
    "start_time": "2023-11-16T07:43:56.780Z"
   },
   {
    "duration": 42,
    "start_time": "2023-11-16T07:43:58.199Z"
   },
   {
    "duration": 15,
    "start_time": "2023-11-16T07:43:58.242Z"
   },
   {
    "duration": 150,
    "start_time": "2023-11-16T07:43:58.259Z"
   },
   {
    "duration": 8,
    "start_time": "2023-11-16T07:43:58.412Z"
   },
   {
    "duration": 117,
    "start_time": "2023-11-16T07:43:58.422Z"
   },
   {
    "duration": 6,
    "start_time": "2023-11-16T07:43:58.541Z"
   },
   {
    "duration": 31,
    "start_time": "2023-11-16T07:43:58.548Z"
   },
   {
    "duration": 142,
    "start_time": "2023-11-16T07:43:58.581Z"
   },
   {
    "duration": 9,
    "start_time": "2023-11-16T07:43:58.724Z"
   },
   {
    "duration": 129,
    "start_time": "2023-11-16T07:43:58.734Z"
   },
   {
    "duration": 184,
    "start_time": "2023-11-16T07:43:58.865Z"
   },
   {
    "duration": 20,
    "start_time": "2023-11-16T07:43:59.051Z"
   },
   {
    "duration": 178,
    "start_time": "2023-11-16T07:43:59.073Z"
   },
   {
    "duration": 13,
    "start_time": "2023-11-16T07:43:59.253Z"
   },
   {
    "duration": 28,
    "start_time": "2023-11-16T07:43:59.268Z"
   },
   {
    "duration": 21,
    "start_time": "2023-11-16T07:43:59.297Z"
   },
   {
    "duration": 190,
    "start_time": "2023-11-16T07:43:59.320Z"
   },
   {
    "duration": 8,
    "start_time": "2023-11-16T07:43:59.512Z"
   },
   {
    "duration": 134,
    "start_time": "2023-11-16T07:43:59.522Z"
   },
   {
    "duration": 11,
    "start_time": "2023-11-16T07:43:59.657Z"
   },
   {
    "duration": 21,
    "start_time": "2023-11-16T07:43:59.670Z"
   },
   {
    "duration": 31,
    "start_time": "2023-11-16T07:43:59.692Z"
   },
   {
    "duration": 15,
    "start_time": "2023-11-16T07:43:59.725Z"
   },
   {
    "duration": 76,
    "start_time": "2023-11-16T07:43:59.741Z"
   },
   {
    "duration": 26,
    "start_time": "2023-11-16T07:43:59.819Z"
   },
   {
    "duration": 19,
    "start_time": "2023-11-16T07:43:59.847Z"
   },
   {
    "duration": 29,
    "start_time": "2023-11-16T07:43:59.867Z"
   },
   {
    "duration": 5,
    "start_time": "2023-11-16T07:43:59.899Z"
   },
   {
    "duration": 13,
    "start_time": "2023-11-16T07:43:59.906Z"
   },
   {
    "duration": 1569,
    "start_time": "2023-11-16T07:43:59.921Z"
   },
   {
    "duration": 1488,
    "start_time": "2023-11-16T07:44:01.491Z"
   },
   {
    "duration": 1986,
    "start_time": "2023-11-16T07:44:02.981Z"
   },
   {
    "duration": 937,
    "start_time": "2023-11-16T07:44:04.969Z"
   },
   {
    "duration": 1900,
    "start_time": "2023-11-16T07:44:05.908Z"
   },
   {
    "duration": 6,
    "start_time": "2023-11-16T07:47:15.815Z"
   },
   {
    "duration": 9,
    "start_time": "2023-11-16T07:53:34.387Z"
   },
   {
    "duration": 552,
    "start_time": "2023-11-16T07:53:36.283Z"
   },
   {
    "duration": 10,
    "start_time": "2023-11-16T07:54:05.168Z"
   },
   {
    "duration": 1567,
    "start_time": "2023-11-16T07:54:06.500Z"
   },
   {
    "duration": 4,
    "start_time": "2023-11-16T07:56:29.667Z"
   },
   {
    "duration": 10,
    "start_time": "2023-11-16T07:56:59.074Z"
   },
   {
    "duration": 1575,
    "start_time": "2023-11-16T07:57:02.291Z"
   },
   {
    "duration": 9,
    "start_time": "2023-11-16T07:57:21.209Z"
   },
   {
    "duration": 1578,
    "start_time": "2023-11-16T07:57:26.688Z"
   },
   {
    "duration": 9,
    "start_time": "2023-11-16T08:01:37.086Z"
   },
   {
    "duration": 1616,
    "start_time": "2023-11-16T08:01:38.951Z"
   },
   {
    "duration": 204,
    "start_time": "2023-11-16T08:02:00.971Z"
   },
   {
    "duration": 6,
    "start_time": "2023-11-16T08:04:12.310Z"
   },
   {
    "duration": 10,
    "start_time": "2023-11-16T08:04:14.557Z"
   },
   {
    "duration": 1525,
    "start_time": "2023-11-16T08:04:18.561Z"
   },
   {
    "duration": 1107,
    "start_time": "2023-11-16T08:04:26.803Z"
   },
   {
    "duration": 1623,
    "start_time": "2023-11-16T08:05:45.916Z"
   },
   {
    "duration": 615,
    "start_time": "2023-11-16T08:05:59.166Z"
   },
   {
    "duration": 1390,
    "start_time": "2023-11-16T08:06:34.312Z"
   },
   {
    "duration": 1488,
    "start_time": "2023-11-16T08:06:56.347Z"
   },
   {
    "duration": 1437,
    "start_time": "2023-11-16T08:08:17.786Z"
   },
   {
    "duration": 1910,
    "start_time": "2023-11-16T08:09:10.035Z"
   },
   {
    "duration": 4,
    "start_time": "2023-11-16T08:11:57.855Z"
   },
   {
    "duration": 1895,
    "start_time": "2023-11-16T08:12:12.955Z"
   },
   {
    "duration": 1404,
    "start_time": "2023-11-16T08:12:26.806Z"
   },
   {
    "duration": 1433,
    "start_time": "2023-11-16T08:12:33.659Z"
   },
   {
    "duration": 1804,
    "start_time": "2023-11-16T08:12:45.208Z"
   },
   {
    "duration": 1900,
    "start_time": "2023-11-16T08:13:17.232Z"
   },
   {
    "duration": 27,
    "start_time": "2023-11-16T08:13:33.777Z"
   },
   {
    "duration": 1859,
    "start_time": "2023-11-16T08:13:36.776Z"
   },
   {
    "duration": 1848,
    "start_time": "2023-11-16T08:13:49.993Z"
   },
   {
    "duration": 1909,
    "start_time": "2023-11-16T08:13:57.821Z"
   },
   {
    "duration": 1908,
    "start_time": "2023-11-16T08:14:04.731Z"
   },
   {
    "duration": 1584,
    "start_time": "2023-11-16T08:14:32.538Z"
   },
   {
    "duration": 42,
    "start_time": "2023-11-16T08:14:34.124Z"
   },
   {
    "duration": 15,
    "start_time": "2023-11-16T08:14:34.168Z"
   },
   {
    "duration": 163,
    "start_time": "2023-11-16T08:14:34.185Z"
   },
   {
    "duration": 23,
    "start_time": "2023-11-16T08:14:34.350Z"
   },
   {
    "duration": 111,
    "start_time": "2023-11-16T08:14:34.375Z"
   },
   {
    "duration": 7,
    "start_time": "2023-11-16T08:14:34.488Z"
   },
   {
    "duration": 10,
    "start_time": "2023-11-16T08:14:34.497Z"
   },
   {
    "duration": 157,
    "start_time": "2023-11-16T08:14:34.508Z"
   },
   {
    "duration": 8,
    "start_time": "2023-11-16T08:14:34.668Z"
   },
   {
    "duration": 125,
    "start_time": "2023-11-16T08:14:34.677Z"
   },
   {
    "duration": 168,
    "start_time": "2023-11-16T08:14:34.804Z"
   },
   {
    "duration": 10,
    "start_time": "2023-11-16T08:14:34.973Z"
   },
   {
    "duration": 183,
    "start_time": "2023-11-16T08:14:34.985Z"
   },
   {
    "duration": 12,
    "start_time": "2023-11-16T08:14:35.170Z"
   },
   {
    "duration": 31,
    "start_time": "2023-11-16T08:14:35.185Z"
   },
   {
    "duration": 9,
    "start_time": "2023-11-16T08:14:35.217Z"
   },
   {
    "duration": 187,
    "start_time": "2023-11-16T08:14:35.228Z"
   },
   {
    "duration": 9,
    "start_time": "2023-11-16T08:14:35.416Z"
   },
   {
    "duration": 141,
    "start_time": "2023-11-16T08:14:35.427Z"
   },
   {
    "duration": 6,
    "start_time": "2023-11-16T08:14:35.569Z"
   },
   {
    "duration": 7,
    "start_time": "2023-11-16T08:14:35.577Z"
   },
   {
    "duration": 17,
    "start_time": "2023-11-16T08:14:35.586Z"
   },
   {
    "duration": 10,
    "start_time": "2023-11-16T08:14:35.604Z"
   },
   {
    "duration": 90,
    "start_time": "2023-11-16T08:14:35.616Z"
   },
   {
    "duration": 26,
    "start_time": "2023-11-16T08:14:35.707Z"
   },
   {
    "duration": 5,
    "start_time": "2023-11-16T08:14:35.734Z"
   },
   {
    "duration": 60,
    "start_time": "2023-11-16T08:14:35.742Z"
   },
   {
    "duration": 6,
    "start_time": "2023-11-16T08:14:35.804Z"
   },
   {
    "duration": 30,
    "start_time": "2023-11-16T08:14:35.812Z"
   },
   {
    "duration": 1667,
    "start_time": "2023-11-16T08:14:35.844Z"
   },
   {
    "duration": 1219,
    "start_time": "2023-11-16T08:14:37.513Z"
   },
   {
    "duration": 1613,
    "start_time": "2023-11-16T08:14:38.734Z"
   },
   {
    "duration": 613,
    "start_time": "2023-11-16T08:14:40.349Z"
   },
   {
    "duration": 4,
    "start_time": "2023-11-16T08:14:40.964Z"
   },
   {
    "duration": 1470,
    "start_time": "2023-11-16T08:14:40.969Z"
   },
   {
    "duration": 1898,
    "start_time": "2023-11-16T08:14:42.440Z"
   },
   {
    "duration": 1905,
    "start_time": "2023-11-16T08:14:52.854Z"
   },
   {
    "duration": 5,
    "start_time": "2023-11-16T08:15:41.677Z"
   },
   {
    "duration": 25,
    "start_time": "2023-11-16T08:15:53.153Z"
   },
   {
    "duration": 1737,
    "start_time": "2023-11-16T08:16:07.636Z"
   },
   {
    "duration": 592,
    "start_time": "2023-11-16T08:16:20.461Z"
   },
   {
    "duration": 6,
    "start_time": "2023-11-16T08:18:06.606Z"
   },
   {
    "duration": 10,
    "start_time": "2023-11-16T08:19:02.452Z"
   },
   {
    "duration": 220,
    "start_time": "2023-11-16T08:20:24.735Z"
   },
   {
    "duration": 7,
    "start_time": "2023-11-16T08:20:58.364Z"
   },
   {
    "duration": 10,
    "start_time": "2023-11-16T08:21:57.156Z"
   },
   {
    "duration": 1708,
    "start_time": "2023-11-16T08:21:58.889Z"
   },
   {
    "duration": 1223,
    "start_time": "2023-11-16T08:22:03.586Z"
   },
   {
    "duration": 1734,
    "start_time": "2023-11-16T08:22:05.292Z"
   },
   {
    "duration": 583,
    "start_time": "2023-11-16T08:22:08.791Z"
   },
   {
    "duration": 4,
    "start_time": "2023-11-16T08:22:10.165Z"
   },
   {
    "duration": 1501,
    "start_time": "2023-11-16T08:22:11.271Z"
   },
   {
    "duration": 103,
    "start_time": "2023-11-16T08:26:13.162Z"
   },
   {
    "duration": 104,
    "start_time": "2023-11-16T08:27:02.064Z"
   },
   {
    "duration": 103,
    "start_time": "2023-11-16T08:27:26.216Z"
   },
   {
    "duration": 125,
    "start_time": "2023-11-16T08:27:30.045Z"
   },
   {
    "duration": 102,
    "start_time": "2023-11-16T08:27:56.868Z"
   },
   {
    "duration": 104,
    "start_time": "2023-11-16T08:28:00.261Z"
   },
   {
    "duration": 1475,
    "start_time": "2023-11-16T08:28:06.405Z"
   },
   {
    "duration": 44,
    "start_time": "2023-11-16T08:28:07.883Z"
   },
   {
    "duration": 14,
    "start_time": "2023-11-16T08:28:07.929Z"
   },
   {
    "duration": 164,
    "start_time": "2023-11-16T08:28:07.944Z"
   },
   {
    "duration": 9,
    "start_time": "2023-11-16T08:28:08.110Z"
   },
   {
    "duration": 155,
    "start_time": "2023-11-16T08:28:08.121Z"
   },
   {
    "duration": 15,
    "start_time": "2023-11-16T08:28:08.277Z"
   },
   {
    "duration": 70,
    "start_time": "2023-11-16T08:28:08.293Z"
   },
   {
    "duration": 170,
    "start_time": "2023-11-16T08:28:08.365Z"
   },
   {
    "duration": 8,
    "start_time": "2023-11-16T08:28:08.537Z"
   },
   {
    "duration": 132,
    "start_time": "2023-11-16T08:28:08.546Z"
   },
   {
    "duration": 163,
    "start_time": "2023-11-16T08:28:08.680Z"
   },
   {
    "duration": 22,
    "start_time": "2023-11-16T08:28:08.845Z"
   },
   {
    "duration": 212,
    "start_time": "2023-11-16T08:28:08.870Z"
   },
   {
    "duration": 5,
    "start_time": "2023-11-16T08:28:09.084Z"
   },
   {
    "duration": 23,
    "start_time": "2023-11-16T08:28:09.090Z"
   },
   {
    "duration": 13,
    "start_time": "2023-11-16T08:28:09.115Z"
   },
   {
    "duration": 190,
    "start_time": "2023-11-16T08:28:09.130Z"
   },
   {
    "duration": 9,
    "start_time": "2023-11-16T08:28:09.321Z"
   },
   {
    "duration": 141,
    "start_time": "2023-11-16T08:28:09.331Z"
   },
   {
    "duration": 7,
    "start_time": "2023-11-16T08:28:09.474Z"
   },
   {
    "duration": 10,
    "start_time": "2023-11-16T08:28:09.483Z"
   },
   {
    "duration": 16,
    "start_time": "2023-11-16T08:28:09.495Z"
   },
   {
    "duration": 10,
    "start_time": "2023-11-16T08:28:09.512Z"
   },
   {
    "duration": 91,
    "start_time": "2023-11-16T08:28:09.523Z"
   },
   {
    "duration": 28,
    "start_time": "2023-11-16T08:28:09.616Z"
   },
   {
    "duration": 4,
    "start_time": "2023-11-16T08:28:09.646Z"
   },
   {
    "duration": 30,
    "start_time": "2023-11-16T08:28:09.666Z"
   },
   {
    "duration": 6,
    "start_time": "2023-11-16T08:28:09.697Z"
   },
   {
    "duration": 10,
    "start_time": "2023-11-16T08:28:09.705Z"
   },
   {
    "duration": 1561,
    "start_time": "2023-11-16T08:28:09.717Z"
   },
   {
    "duration": 1288,
    "start_time": "2023-11-16T08:28:11.280Z"
   },
   {
    "duration": 1596,
    "start_time": "2023-11-16T08:28:12.570Z"
   },
   {
    "duration": 592,
    "start_time": "2023-11-16T08:28:14.168Z"
   },
   {
    "duration": 5,
    "start_time": "2023-11-16T08:28:14.764Z"
   },
   {
    "duration": 1450,
    "start_time": "2023-11-16T08:28:14.770Z"
   },
   {
    "duration": 1951,
    "start_time": "2023-11-16T08:28:16.222Z"
   },
   {
    "duration": 73,
    "start_time": "2023-11-16T08:28:18.175Z"
   },
   {
    "duration": 73,
    "start_time": "2023-11-16T08:31:21.548Z"
   },
   {
    "duration": 1492,
    "start_time": "2023-11-16T08:31:28.034Z"
   },
   {
    "duration": 42,
    "start_time": "2023-11-16T08:31:29.528Z"
   },
   {
    "duration": 17,
    "start_time": "2023-11-16T08:31:29.571Z"
   },
   {
    "duration": 155,
    "start_time": "2023-11-16T08:31:29.590Z"
   },
   {
    "duration": 20,
    "start_time": "2023-11-16T08:31:29.748Z"
   },
   {
    "duration": 141,
    "start_time": "2023-11-16T08:31:29.771Z"
   },
   {
    "duration": 6,
    "start_time": "2023-11-16T08:31:29.913Z"
   },
   {
    "duration": 6,
    "start_time": "2023-11-16T08:31:29.921Z"
   },
   {
    "duration": 149,
    "start_time": "2023-11-16T08:31:29.929Z"
   },
   {
    "duration": 9,
    "start_time": "2023-11-16T08:31:30.080Z"
   },
   {
    "duration": 170,
    "start_time": "2023-11-16T08:31:30.091Z"
   },
   {
    "duration": 223,
    "start_time": "2023-11-16T08:31:30.263Z"
   },
   {
    "duration": 11,
    "start_time": "2023-11-16T08:31:30.488Z"
   },
   {
    "duration": 269,
    "start_time": "2023-11-16T08:31:30.501Z"
   },
   {
    "duration": 6,
    "start_time": "2023-11-16T08:31:30.772Z"
   },
   {
    "duration": 42,
    "start_time": "2023-11-16T08:31:30.780Z"
   },
   {
    "duration": 37,
    "start_time": "2023-11-16T08:31:30.825Z"
   },
   {
    "duration": 204,
    "start_time": "2023-11-16T08:31:30.864Z"
   },
   {
    "duration": 10,
    "start_time": "2023-11-16T08:31:31.070Z"
   },
   {
    "duration": 166,
    "start_time": "2023-11-16T08:31:31.082Z"
   },
   {
    "duration": 5,
    "start_time": "2023-11-16T08:31:31.250Z"
   },
   {
    "duration": 22,
    "start_time": "2023-11-16T08:31:31.265Z"
   },
   {
    "duration": 39,
    "start_time": "2023-11-16T08:31:31.289Z"
   },
   {
    "duration": 31,
    "start_time": "2023-11-16T08:31:31.329Z"
   },
   {
    "duration": 103,
    "start_time": "2023-11-16T08:31:31.362Z"
   },
   {
    "duration": 28,
    "start_time": "2023-11-16T08:31:31.467Z"
   },
   {
    "duration": 7,
    "start_time": "2023-11-16T08:31:31.497Z"
   },
   {
    "duration": 54,
    "start_time": "2023-11-16T08:31:31.506Z"
   },
   {
    "duration": 6,
    "start_time": "2023-11-16T08:31:31.562Z"
   },
   {
    "duration": 26,
    "start_time": "2023-11-16T08:31:31.569Z"
   },
   {
    "duration": 1679,
    "start_time": "2023-11-16T08:31:31.597Z"
   },
   {
    "duration": 1278,
    "start_time": "2023-11-16T08:31:33.277Z"
   },
   {
    "duration": 1681,
    "start_time": "2023-11-16T08:31:34.557Z"
   },
   {
    "duration": 623,
    "start_time": "2023-11-16T08:31:36.240Z"
   },
   {
    "duration": 4,
    "start_time": "2023-11-16T08:31:36.864Z"
   },
   {
    "duration": 1606,
    "start_time": "2023-11-16T08:31:36.870Z"
   },
   {
    "duration": 1919,
    "start_time": "2023-11-16T08:31:38.478Z"
   },
   {
    "duration": 82,
    "start_time": "2023-11-16T08:31:40.399Z"
   },
   {
    "duration": 10,
    "start_time": "2023-11-16T08:32:18.095Z"
   },
   {
    "duration": 1551,
    "start_time": "2023-11-16T08:32:20.583Z"
   },
   {
    "duration": 1123,
    "start_time": "2023-11-16T08:32:25.829Z"
   },
   {
    "duration": 1642,
    "start_time": "2023-11-16T08:32:29.531Z"
   },
   {
    "duration": 643,
    "start_time": "2023-11-16T08:32:34.835Z"
   },
   {
    "duration": 4,
    "start_time": "2023-11-16T08:32:39.765Z"
   },
   {
    "duration": 1468,
    "start_time": "2023-11-16T08:32:41.770Z"
   },
   {
    "duration": 1861,
    "start_time": "2023-11-16T08:32:47.998Z"
   },
   {
    "duration": 72,
    "start_time": "2023-11-16T08:32:55.296Z"
   },
   {
    "duration": 76,
    "start_time": "2023-11-16T08:32:59.344Z"
   },
   {
    "duration": 27,
    "start_time": "2023-11-16T08:37:35.592Z"
   },
   {
    "duration": 29,
    "start_time": "2023-11-16T08:37:48.245Z"
   },
   {
    "duration": 26,
    "start_time": "2023-11-16T08:37:49.322Z"
   },
   {
    "duration": 5,
    "start_time": "2023-11-16T08:37:50.013Z"
   },
   {
    "duration": 7,
    "start_time": "2023-11-16T08:37:53.107Z"
   },
   {
    "duration": 9,
    "start_time": "2023-11-16T08:37:54.139Z"
   },
   {
    "duration": 1578,
    "start_time": "2023-11-16T08:37:55.617Z"
   },
   {
    "duration": 1174,
    "start_time": "2023-11-16T08:38:02.243Z"
   },
   {
    "duration": 1585,
    "start_time": "2023-11-16T08:38:06.355Z"
   },
   {
    "duration": 630,
    "start_time": "2023-11-16T08:38:09.454Z"
   },
   {
    "duration": 4,
    "start_time": "2023-11-16T08:38:14.132Z"
   },
   {
    "duration": 1450,
    "start_time": "2023-11-16T08:38:17.683Z"
   },
   {
    "duration": 1890,
    "start_time": "2023-11-16T08:38:22.533Z"
   },
   {
    "duration": 110,
    "start_time": "2023-11-16T08:38:29.235Z"
   },
   {
    "duration": 12,
    "start_time": "2023-11-16T08:39:38.851Z"
   },
   {
    "duration": 1660,
    "start_time": "2023-11-16T08:39:40.232Z"
   },
   {
    "duration": 1152,
    "start_time": "2023-11-16T08:39:44.342Z"
   },
   {
    "duration": 1636,
    "start_time": "2023-11-16T08:39:45.557Z"
   },
   {
    "duration": 552,
    "start_time": "2023-11-16T08:39:49.705Z"
   },
   {
    "duration": 4,
    "start_time": "2023-11-16T08:39:51.085Z"
   },
   {
    "duration": 1417,
    "start_time": "2023-11-16T08:39:52.420Z"
   },
   {
    "duration": 1936,
    "start_time": "2023-11-16T08:39:56.953Z"
   },
   {
    "duration": 107,
    "start_time": "2023-11-16T08:40:03.824Z"
   },
   {
    "duration": 106,
    "start_time": "2023-11-16T08:40:15.456Z"
   },
   {
    "duration": 107,
    "start_time": "2023-11-16T08:40:18.708Z"
   },
   {
    "duration": 1892,
    "start_time": "2023-11-16T08:41:09.250Z"
   },
   {
    "duration": 104,
    "start_time": "2023-11-16T08:41:18.293Z"
   },
   {
    "duration": 1413,
    "start_time": "2023-11-16T08:41:32.110Z"
   },
   {
    "duration": 1879,
    "start_time": "2023-11-16T08:41:46.009Z"
   },
   {
    "duration": 106,
    "start_time": "2023-11-16T08:41:50.483Z"
   },
   {
    "duration": 13,
    "start_time": "2023-11-16T08:42:52.876Z"
   },
   {
    "duration": 1389,
    "start_time": "2023-11-16T08:45:35.408Z"
   },
   {
    "duration": 42,
    "start_time": "2023-11-16T08:45:36.799Z"
   },
   {
    "duration": 14,
    "start_time": "2023-11-16T08:45:36.843Z"
   },
   {
    "duration": 17,
    "start_time": "2023-11-16T08:45:36.858Z"
   },
   {
    "duration": 152,
    "start_time": "2023-11-16T08:45:36.878Z"
   },
   {
    "duration": 9,
    "start_time": "2023-11-16T08:45:37.031Z"
   },
   {
    "duration": 114,
    "start_time": "2023-11-16T08:45:37.041Z"
   },
   {
    "duration": 13,
    "start_time": "2023-11-16T08:45:37.157Z"
   },
   {
    "duration": 7,
    "start_time": "2023-11-16T08:45:37.171Z"
   },
   {
    "duration": 157,
    "start_time": "2023-11-16T08:45:37.180Z"
   },
   {
    "duration": 8,
    "start_time": "2023-11-16T08:45:37.339Z"
   },
   {
    "duration": 125,
    "start_time": "2023-11-16T08:45:37.349Z"
   },
   {
    "duration": 172,
    "start_time": "2023-11-16T08:45:37.476Z"
   },
   {
    "duration": 16,
    "start_time": "2023-11-16T08:45:37.651Z"
   },
   {
    "duration": 193,
    "start_time": "2023-11-16T08:45:37.669Z"
   },
   {
    "duration": 5,
    "start_time": "2023-11-16T08:45:37.865Z"
   },
   {
    "duration": 8,
    "start_time": "2023-11-16T08:45:37.872Z"
   },
   {
    "duration": 9,
    "start_time": "2023-11-16T08:45:37.881Z"
   },
   {
    "duration": 194,
    "start_time": "2023-11-16T08:45:37.891Z"
   },
   {
    "duration": 9,
    "start_time": "2023-11-16T08:45:38.086Z"
   },
   {
    "duration": 133,
    "start_time": "2023-11-16T08:45:38.096Z"
   },
   {
    "duration": 6,
    "start_time": "2023-11-16T08:45:38.230Z"
   },
   {
    "duration": 9,
    "start_time": "2023-11-16T08:45:38.237Z"
   },
   {
    "duration": 40,
    "start_time": "2023-11-16T08:45:38.248Z"
   },
   {
    "duration": 9,
    "start_time": "2023-11-16T08:45:38.290Z"
   },
   {
    "duration": 55,
    "start_time": "2023-11-16T08:45:38.300Z"
   },
   {
    "duration": 33,
    "start_time": "2023-11-16T08:45:38.356Z"
   },
   {
    "duration": 24,
    "start_time": "2023-11-16T08:45:38.391Z"
   },
   {
    "duration": 30,
    "start_time": "2023-11-16T08:45:38.416Z"
   },
   {
    "duration": 11,
    "start_time": "2023-11-16T08:45:38.448Z"
   },
   {
    "duration": 32,
    "start_time": "2023-11-16T08:45:38.461Z"
   },
   {
    "duration": 1582,
    "start_time": "2023-11-16T08:45:38.495Z"
   },
   {
    "duration": 1123,
    "start_time": "2023-11-16T08:45:40.079Z"
   },
   {
    "duration": 1656,
    "start_time": "2023-11-16T08:45:41.204Z"
   },
   {
    "duration": 601,
    "start_time": "2023-11-16T08:45:42.864Z"
   },
   {
    "duration": 4,
    "start_time": "2023-11-16T08:45:43.466Z"
   },
   {
    "duration": 1433,
    "start_time": "2023-11-16T08:45:43.472Z"
   },
   {
    "duration": 1794,
    "start_time": "2023-11-16T08:45:44.907Z"
   },
   {
    "duration": 112,
    "start_time": "2023-11-16T08:45:46.702Z"
   },
   {
    "duration": 1892,
    "start_time": "2023-11-16T08:45:57.923Z"
   },
   {
    "duration": 1926,
    "start_time": "2023-11-16T08:46:18.466Z"
   },
   {
    "duration": 111,
    "start_time": "2023-11-16T08:46:24.664Z"
   },
   {
    "duration": 1836,
    "start_time": "2023-11-16T08:46:36.047Z"
   },
   {
    "duration": 102,
    "start_time": "2023-11-16T08:46:40.670Z"
   },
   {
    "duration": 1827,
    "start_time": "2023-11-16T08:47:35.789Z"
   },
   {
    "duration": 106,
    "start_time": "2023-11-16T08:49:35.852Z"
   },
   {
    "duration": 125,
    "start_time": "2023-11-16T08:50:17.674Z"
   },
   {
    "duration": 10,
    "start_time": "2023-11-16T08:50:56.151Z"
   },
   {
    "duration": 6,
    "start_time": "2023-11-16T08:52:00.444Z"
   },
   {
    "duration": 7,
    "start_time": "2023-11-16T08:52:08.467Z"
   },
   {
    "duration": 16,
    "start_time": "2023-11-16T08:52:10.212Z"
   },
   {
    "duration": 9,
    "start_time": "2023-11-16T08:52:24.671Z"
   },
   {
    "duration": 52,
    "start_time": "2023-11-16T08:52:43.899Z"
   },
   {
    "duration": 27,
    "start_time": "2023-11-16T08:52:48.491Z"
   },
   {
    "duration": 24,
    "start_time": "2023-11-16T08:52:56.763Z"
   },
   {
    "duration": 23,
    "start_time": "2023-11-16T08:55:04.671Z"
   },
   {
    "duration": 51,
    "start_time": "2023-11-16T09:17:05.420Z"
   },
   {
    "duration": 26,
    "start_time": "2023-11-16T09:17:54.314Z"
   },
   {
    "duration": 35,
    "start_time": "2023-11-16T09:18:03.038Z"
   },
   {
    "duration": 8,
    "start_time": "2023-11-16T09:18:11.105Z"
   },
   {
    "duration": 10,
    "start_time": "2023-11-16T09:21:03.018Z"
   },
   {
    "duration": 10,
    "start_time": "2023-11-16T09:27:03.603Z"
   },
   {
    "duration": 1651,
    "start_time": "2023-11-16T09:27:07.634Z"
   },
   {
    "duration": 1781,
    "start_time": "2023-11-16T09:48:28.923Z"
   },
   {
    "duration": 13,
    "start_time": "2023-11-16T09:57:48.334Z"
   },
   {
    "duration": 1567,
    "start_time": "2023-11-16T09:57:49.599Z"
   },
   {
    "duration": 1225,
    "start_time": "2023-11-16T09:57:58.733Z"
   },
   {
    "duration": 1894,
    "start_time": "2023-11-16T10:02:53.646Z"
   },
   {
    "duration": 654,
    "start_time": "2023-11-16T10:10:30.365Z"
   },
   {
    "duration": 652,
    "start_time": "2023-11-16T10:10:54.414Z"
   },
   {
    "duration": 11,
    "start_time": "2023-11-16T10:13:45.517Z"
   },
   {
    "duration": 8,
    "start_time": "2023-11-16T10:14:03.602Z"
   },
   {
    "duration": 12,
    "start_time": "2023-11-16T10:14:04.566Z"
   },
   {
    "duration": 1835,
    "start_time": "2023-11-16T10:14:05.510Z"
   },
   {
    "duration": 1231,
    "start_time": "2023-11-16T10:14:10.618Z"
   },
   {
    "duration": 1697,
    "start_time": "2023-11-16T10:14:12.137Z"
   },
   {
    "duration": 746,
    "start_time": "2023-11-16T10:14:14.094Z"
   },
   {
    "duration": 1601,
    "start_time": "2023-11-16T10:14:58.443Z"
   },
   {
    "duration": 2002,
    "start_time": "2023-11-16T10:15:03.324Z"
   },
   {
    "duration": 1582,
    "start_time": "2023-11-16T10:15:17.667Z"
   },
   {
    "duration": 45,
    "start_time": "2023-11-16T10:15:19.251Z"
   },
   {
    "duration": 14,
    "start_time": "2023-11-16T10:15:19.297Z"
   },
   {
    "duration": 54,
    "start_time": "2023-11-16T10:15:19.314Z"
   },
   {
    "duration": 172,
    "start_time": "2023-11-16T10:15:19.369Z"
   },
   {
    "duration": 28,
    "start_time": "2023-11-16T10:15:19.543Z"
   },
   {
    "duration": 152,
    "start_time": "2023-11-16T10:15:19.574Z"
   },
   {
    "duration": 8,
    "start_time": "2023-11-16T10:15:19.728Z"
   },
   {
    "duration": 59,
    "start_time": "2023-11-16T10:15:19.738Z"
   },
   {
    "duration": 215,
    "start_time": "2023-11-16T10:15:19.800Z"
   },
   {
    "duration": 10,
    "start_time": "2023-11-16T10:15:20.016Z"
   },
   {
    "duration": 139,
    "start_time": "2023-11-16T10:15:20.028Z"
   },
   {
    "duration": 208,
    "start_time": "2023-11-16T10:15:20.168Z"
   },
   {
    "duration": 15,
    "start_time": "2023-11-16T10:15:20.378Z"
   },
   {
    "duration": 196,
    "start_time": "2023-11-16T10:15:20.395Z"
   },
   {
    "duration": 6,
    "start_time": "2023-11-16T10:15:20.593Z"
   },
   {
    "duration": 7,
    "start_time": "2023-11-16T10:15:20.601Z"
   },
   {
    "duration": 26,
    "start_time": "2023-11-16T10:15:20.610Z"
   },
   {
    "duration": 189,
    "start_time": "2023-11-16T10:15:20.638Z"
   },
   {
    "duration": 9,
    "start_time": "2023-11-16T10:15:20.829Z"
   },
   {
    "duration": 137,
    "start_time": "2023-11-16T10:15:20.839Z"
   },
   {
    "duration": 7,
    "start_time": "2023-11-16T10:15:20.977Z"
   },
   {
    "duration": 7,
    "start_time": "2023-11-16T10:15:20.985Z"
   },
   {
    "duration": 44,
    "start_time": "2023-11-16T10:15:20.994Z"
   },
   {
    "duration": 138,
    "start_time": "2023-11-16T10:15:21.040Z"
   },
   {
    "duration": 0,
    "start_time": "2023-11-16T10:15:21.180Z"
   },
   {
    "duration": 0,
    "start_time": "2023-11-16T10:15:21.182Z"
   },
   {
    "duration": 1,
    "start_time": "2023-11-16T10:15:21.182Z"
   },
   {
    "duration": 0,
    "start_time": "2023-11-16T10:15:21.183Z"
   },
   {
    "duration": 0,
    "start_time": "2023-11-16T10:15:21.185Z"
   },
   {
    "duration": 0,
    "start_time": "2023-11-16T10:15:21.186Z"
   },
   {
    "duration": 0,
    "start_time": "2023-11-16T10:15:21.187Z"
   },
   {
    "duration": 0,
    "start_time": "2023-11-16T10:15:21.189Z"
   },
   {
    "duration": 0,
    "start_time": "2023-11-16T10:15:21.190Z"
   },
   {
    "duration": 0,
    "start_time": "2023-11-16T10:15:21.191Z"
   },
   {
    "duration": 0,
    "start_time": "2023-11-16T10:15:21.192Z"
   },
   {
    "duration": 0,
    "start_time": "2023-11-16T10:15:21.193Z"
   },
   {
    "duration": 0,
    "start_time": "2023-11-16T10:15:21.194Z"
   },
   {
    "duration": 0,
    "start_time": "2023-11-16T10:15:21.195Z"
   },
   {
    "duration": 1556,
    "start_time": "2023-11-16T10:18:25.449Z"
   },
   {
    "duration": 44,
    "start_time": "2023-11-16T10:18:27.007Z"
   },
   {
    "duration": 14,
    "start_time": "2023-11-16T10:18:27.053Z"
   },
   {
    "duration": 21,
    "start_time": "2023-11-16T10:18:27.068Z"
   },
   {
    "duration": 161,
    "start_time": "2023-11-16T10:18:27.092Z"
   },
   {
    "duration": 15,
    "start_time": "2023-11-16T10:18:27.255Z"
   },
   {
    "duration": 114,
    "start_time": "2023-11-16T10:18:27.271Z"
   },
   {
    "duration": 7,
    "start_time": "2023-11-16T10:18:27.387Z"
   },
   {
    "duration": 9,
    "start_time": "2023-11-16T10:18:27.396Z"
   },
   {
    "duration": 163,
    "start_time": "2023-11-16T10:18:27.406Z"
   },
   {
    "duration": 8,
    "start_time": "2023-11-16T10:18:27.571Z"
   },
   {
    "duration": 156,
    "start_time": "2023-11-16T10:18:27.581Z"
   },
   {
    "duration": 187,
    "start_time": "2023-11-16T10:18:27.739Z"
   },
   {
    "duration": 11,
    "start_time": "2023-11-16T10:18:27.929Z"
   },
   {
    "duration": 227,
    "start_time": "2023-11-16T10:18:27.942Z"
   },
   {
    "duration": 7,
    "start_time": "2023-11-16T10:18:28.171Z"
   },
   {
    "duration": 8,
    "start_time": "2023-11-16T10:18:28.180Z"
   },
   {
    "duration": 10,
    "start_time": "2023-11-16T10:18:28.190Z"
   },
   {
    "duration": 233,
    "start_time": "2023-11-16T10:18:28.202Z"
   },
   {
    "duration": 8,
    "start_time": "2023-11-16T10:18:28.437Z"
   },
   {
    "duration": 145,
    "start_time": "2023-11-16T10:18:28.447Z"
   },
   {
    "duration": 6,
    "start_time": "2023-11-16T10:18:28.593Z"
   },
   {
    "duration": 18,
    "start_time": "2023-11-16T10:18:28.601Z"
   },
   {
    "duration": 23,
    "start_time": "2023-11-16T10:18:28.621Z"
   },
   {
    "duration": 192,
    "start_time": "2023-11-16T10:18:28.646Z"
   },
   {
    "duration": 0,
    "start_time": "2023-11-16T10:18:28.840Z"
   },
   {
    "duration": 0,
    "start_time": "2023-11-16T10:18:28.841Z"
   },
   {
    "duration": 0,
    "start_time": "2023-11-16T10:18:28.842Z"
   },
   {
    "duration": 0,
    "start_time": "2023-11-16T10:18:28.843Z"
   },
   {
    "duration": 0,
    "start_time": "2023-11-16T10:18:28.845Z"
   },
   {
    "duration": 0,
    "start_time": "2023-11-16T10:18:28.847Z"
   },
   {
    "duration": 0,
    "start_time": "2023-11-16T10:18:28.848Z"
   },
   {
    "duration": 0,
    "start_time": "2023-11-16T10:18:28.865Z"
   },
   {
    "duration": 0,
    "start_time": "2023-11-16T10:18:28.866Z"
   },
   {
    "duration": 0,
    "start_time": "2023-11-16T10:18:28.868Z"
   },
   {
    "duration": 0,
    "start_time": "2023-11-16T10:18:28.870Z"
   },
   {
    "duration": 0,
    "start_time": "2023-11-16T10:18:28.871Z"
   },
   {
    "duration": 0,
    "start_time": "2023-11-16T10:18:28.871Z"
   },
   {
    "duration": 0,
    "start_time": "2023-11-16T10:18:28.872Z"
   },
   {
    "duration": 10,
    "start_time": "2023-11-16T10:22:45.882Z"
   },
   {
    "duration": 1521,
    "start_time": "2023-11-16T10:22:51.225Z"
   },
   {
    "duration": 43,
    "start_time": "2023-11-16T10:22:52.748Z"
   },
   {
    "duration": 14,
    "start_time": "2023-11-16T10:22:52.793Z"
   },
   {
    "duration": 18,
    "start_time": "2023-11-16T10:22:52.808Z"
   },
   {
    "duration": 168,
    "start_time": "2023-11-16T10:22:52.828Z"
   },
   {
    "duration": 8,
    "start_time": "2023-11-16T10:22:52.998Z"
   },
   {
    "duration": 124,
    "start_time": "2023-11-16T10:22:53.008Z"
   },
   {
    "duration": 7,
    "start_time": "2023-11-16T10:22:53.133Z"
   },
   {
    "duration": 6,
    "start_time": "2023-11-16T10:22:53.142Z"
   },
   {
    "duration": 163,
    "start_time": "2023-11-16T10:22:53.166Z"
   },
   {
    "duration": 9,
    "start_time": "2023-11-16T10:22:53.331Z"
   },
   {
    "duration": 142,
    "start_time": "2023-11-16T10:22:53.342Z"
   },
   {
    "duration": 179,
    "start_time": "2023-11-16T10:22:53.486Z"
   },
   {
    "duration": 13,
    "start_time": "2023-11-16T10:22:53.669Z"
   },
   {
    "duration": 228,
    "start_time": "2023-11-16T10:22:53.686Z"
   },
   {
    "duration": 6,
    "start_time": "2023-11-16T10:22:53.916Z"
   },
   {
    "duration": 27,
    "start_time": "2023-11-16T10:22:53.924Z"
   },
   {
    "duration": 27,
    "start_time": "2023-11-16T10:22:53.955Z"
   },
   {
    "duration": 197,
    "start_time": "2023-11-16T10:22:53.984Z"
   },
   {
    "duration": 15,
    "start_time": "2023-11-16T10:22:54.182Z"
   },
   {
    "duration": 142,
    "start_time": "2023-11-16T10:22:54.199Z"
   },
   {
    "duration": 6,
    "start_time": "2023-11-16T10:22:54.343Z"
   },
   {
    "duration": 15,
    "start_time": "2023-11-16T10:22:54.351Z"
   },
   {
    "duration": 25,
    "start_time": "2023-11-16T10:22:54.368Z"
   },
   {
    "duration": 137,
    "start_time": "2023-11-16T10:22:54.395Z"
   },
   {
    "duration": 0,
    "start_time": "2023-11-16T10:22:54.534Z"
   },
   {
    "duration": 0,
    "start_time": "2023-11-16T10:22:54.536Z"
   },
   {
    "duration": 0,
    "start_time": "2023-11-16T10:22:54.537Z"
   },
   {
    "duration": 0,
    "start_time": "2023-11-16T10:22:54.539Z"
   },
   {
    "duration": 0,
    "start_time": "2023-11-16T10:22:54.540Z"
   },
   {
    "duration": 0,
    "start_time": "2023-11-16T10:22:54.541Z"
   },
   {
    "duration": 0,
    "start_time": "2023-11-16T10:22:54.543Z"
   },
   {
    "duration": 0,
    "start_time": "2023-11-16T10:22:54.544Z"
   },
   {
    "duration": 0,
    "start_time": "2023-11-16T10:22:54.546Z"
   },
   {
    "duration": 0,
    "start_time": "2023-11-16T10:22:54.547Z"
   },
   {
    "duration": 0,
    "start_time": "2023-11-16T10:22:54.565Z"
   },
   {
    "duration": 0,
    "start_time": "2023-11-16T10:22:54.567Z"
   },
   {
    "duration": 0,
    "start_time": "2023-11-16T10:22:54.568Z"
   },
   {
    "duration": 0,
    "start_time": "2023-11-16T10:22:54.570Z"
   },
   {
    "duration": 12,
    "start_time": "2023-11-16T10:23:47.593Z"
   },
   {
    "duration": 467,
    "start_time": "2023-11-16T10:24:01.759Z"
   },
   {
    "duration": 144,
    "start_time": "2023-11-16T10:24:08.408Z"
   },
   {
    "duration": 15,
    "start_time": "2023-11-16T10:24:14.245Z"
   },
   {
    "duration": 6,
    "start_time": "2023-11-16T10:24:26.425Z"
   },
   {
    "duration": 42,
    "start_time": "2023-11-16T10:24:28.166Z"
   },
   {
    "duration": 13,
    "start_time": "2023-11-16T10:24:28.543Z"
   },
   {
    "duration": 14,
    "start_time": "2023-11-16T10:24:29.257Z"
   },
   {
    "duration": 148,
    "start_time": "2023-11-16T10:24:33.690Z"
   },
   {
    "duration": 10,
    "start_time": "2023-11-16T10:24:34.621Z"
   },
   {
    "duration": 116,
    "start_time": "2023-11-16T10:24:35.259Z"
   },
   {
    "duration": 7,
    "start_time": "2023-11-16T10:24:37.045Z"
   },
   {
    "duration": 6,
    "start_time": "2023-11-16T10:24:39.169Z"
   },
   {
    "duration": 149,
    "start_time": "2023-11-16T10:24:41.187Z"
   },
   {
    "duration": 11,
    "start_time": "2023-11-16T10:24:41.442Z"
   },
   {
    "duration": 122,
    "start_time": "2023-11-16T10:24:41.599Z"
   },
   {
    "duration": 200,
    "start_time": "2023-11-16T10:24:42.338Z"
   },
   {
    "duration": 12,
    "start_time": "2023-11-16T10:24:43.043Z"
   },
   {
    "duration": 110,
    "start_time": "2023-11-16T10:24:43.493Z"
   },
   {
    "duration": 6,
    "start_time": "2023-11-16T10:24:53.059Z"
   },
   {
    "duration": 6,
    "start_time": "2023-11-16T10:24:54.609Z"
   },
   {
    "duration": 6,
    "start_time": "2023-11-16T10:24:55.316Z"
   },
   {
    "duration": 178,
    "start_time": "2023-11-16T10:24:56.927Z"
   },
   {
    "duration": 11,
    "start_time": "2023-11-16T10:24:57.781Z"
   },
   {
    "duration": 124,
    "start_time": "2023-11-16T10:24:58.249Z"
   },
   {
    "duration": 6,
    "start_time": "2023-11-16T10:25:00.673Z"
   },
   {
    "duration": 8,
    "start_time": "2023-11-16T10:25:03.413Z"
   },
   {
    "duration": 21,
    "start_time": "2023-11-16T10:25:04.670Z"
   },
   {
    "duration": 22,
    "start_time": "2023-11-16T10:25:08.592Z"
   },
   {
    "duration": 21,
    "start_time": "2023-11-16T10:25:27.920Z"
   },
   {
    "duration": 56,
    "start_time": "2023-11-16T10:25:35.560Z"
   },
   {
    "duration": 29,
    "start_time": "2023-11-16T10:25:39.110Z"
   },
   {
    "duration": 114,
    "start_time": "2023-11-16T10:25:40.865Z"
   },
   {
    "duration": 6,
    "start_time": "2023-11-16T10:25:41.402Z"
   },
   {
    "duration": 6,
    "start_time": "2023-11-16T10:25:47.937Z"
   },
   {
    "duration": 11,
    "start_time": "2023-11-16T10:25:49.258Z"
   },
   {
    "duration": 1696,
    "start_time": "2023-11-16T10:25:50.491Z"
   },
   {
    "duration": 144,
    "start_time": "2023-11-16T10:26:28.463Z"
   },
   {
    "duration": 1355,
    "start_time": "2023-11-16T10:26:32.046Z"
   },
   {
    "duration": 1743,
    "start_time": "2023-11-16T10:26:55.150Z"
   },
   {
    "duration": 18,
    "start_time": "2023-11-16T10:27:05.494Z"
   },
   {
    "duration": 658,
    "start_time": "2023-11-16T10:27:28.752Z"
   },
   {
    "duration": 650,
    "start_time": "2023-11-16T10:27:33.442Z"
   },
   {
    "duration": 7,
    "start_time": "2023-11-16T10:27:44.993Z"
   },
   {
    "duration": 1536,
    "start_time": "2023-11-16T10:28:19.233Z"
   },
   {
    "duration": 1964,
    "start_time": "2023-11-16T10:28:41.121Z"
   },
   {
    "duration": 1935,
    "start_time": "2023-11-16T10:28:55.133Z"
   },
   {
    "duration": 1986,
    "start_time": "2023-11-16T10:29:04.559Z"
   },
   {
    "duration": 108,
    "start_time": "2023-11-16T10:29:37.355Z"
   },
   {
    "duration": 111,
    "start_time": "2023-11-16T10:29:41.784Z"
   },
   {
    "duration": 107,
    "start_time": "2023-11-16T10:29:44.399Z"
   },
   {
    "duration": 1466,
    "start_time": "2023-11-16T10:29:49.506Z"
   },
   {
    "duration": 43,
    "start_time": "2023-11-16T10:29:50.974Z"
   },
   {
    "duration": 13,
    "start_time": "2023-11-16T10:29:51.019Z"
   },
   {
    "duration": 16,
    "start_time": "2023-11-16T10:29:51.034Z"
   },
   {
    "duration": 179,
    "start_time": "2023-11-16T10:29:51.052Z"
   },
   {
    "duration": 8,
    "start_time": "2023-11-16T10:29:51.233Z"
   },
   {
    "duration": 139,
    "start_time": "2023-11-16T10:29:51.243Z"
   },
   {
    "duration": 8,
    "start_time": "2023-11-16T10:29:51.385Z"
   },
   {
    "duration": 11,
    "start_time": "2023-11-16T10:29:51.395Z"
   },
   {
    "duration": 180,
    "start_time": "2023-11-16T10:29:51.408Z"
   },
   {
    "duration": 9,
    "start_time": "2023-11-16T10:29:51.590Z"
   },
   {
    "duration": 144,
    "start_time": "2023-11-16T10:29:51.601Z"
   },
   {
    "duration": 178,
    "start_time": "2023-11-16T10:29:51.746Z"
   },
   {
    "duration": 10,
    "start_time": "2023-11-16T10:29:51.928Z"
   },
   {
    "duration": 209,
    "start_time": "2023-11-16T10:29:51.940Z"
   },
   {
    "duration": 5,
    "start_time": "2023-11-16T10:29:52.151Z"
   },
   {
    "duration": 15,
    "start_time": "2023-11-16T10:29:52.158Z"
   },
   {
    "duration": 8,
    "start_time": "2023-11-16T10:29:52.175Z"
   },
   {
    "duration": 213,
    "start_time": "2023-11-16T10:29:52.185Z"
   },
   {
    "duration": 10,
    "start_time": "2023-11-16T10:29:52.400Z"
   },
   {
    "duration": 134,
    "start_time": "2023-11-16T10:29:52.412Z"
   },
   {
    "duration": 5,
    "start_time": "2023-11-16T10:29:52.548Z"
   },
   {
    "duration": 8,
    "start_time": "2023-11-16T10:29:52.566Z"
   },
   {
    "duration": 17,
    "start_time": "2023-11-16T10:29:52.575Z"
   },
   {
    "duration": 21,
    "start_time": "2023-11-16T10:29:52.595Z"
   },
   {
    "duration": 86,
    "start_time": "2023-11-16T10:29:52.617Z"
   },
   {
    "duration": 27,
    "start_time": "2023-11-16T10:29:52.705Z"
   },
   {
    "duration": 38,
    "start_time": "2023-11-16T10:29:52.733Z"
   },
   {
    "duration": 9,
    "start_time": "2023-11-16T10:29:52.773Z"
   },
   {
    "duration": 7,
    "start_time": "2023-11-16T10:29:52.785Z"
   },
   {
    "duration": 11,
    "start_time": "2023-11-16T10:29:52.794Z"
   },
   {
    "duration": 1679,
    "start_time": "2023-11-16T10:29:52.807Z"
   },
   {
    "duration": 1173,
    "start_time": "2023-11-16T10:29:54.488Z"
   },
   {
    "duration": 1679,
    "start_time": "2023-11-16T10:29:55.664Z"
   },
   {
    "duration": 641,
    "start_time": "2023-11-16T10:29:57.345Z"
   },
   {
    "duration": 5,
    "start_time": "2023-11-16T10:29:57.989Z"
   },
   {
    "duration": 1508,
    "start_time": "2023-11-16T10:29:57.996Z"
   },
   {
    "duration": 1866,
    "start_time": "2023-11-16T10:29:59.505Z"
   },
   {
    "duration": 125,
    "start_time": "2023-11-16T10:30:01.373Z"
   },
   {
    "duration": 2061,
    "start_time": "2023-11-16T10:39:46.676Z"
   },
   {
    "duration": 107,
    "start_time": "2023-11-16T10:40:35.309Z"
   },
   {
    "duration": 1455,
    "start_time": "2023-11-16T10:40:45.977Z"
   },
   {
    "duration": 44,
    "start_time": "2023-11-16T10:40:47.435Z"
   },
   {
    "duration": 15,
    "start_time": "2023-11-16T10:40:47.481Z"
   },
   {
    "duration": 18,
    "start_time": "2023-11-16T10:40:47.497Z"
   },
   {
    "duration": 168,
    "start_time": "2023-11-16T10:40:47.517Z"
   },
   {
    "duration": 8,
    "start_time": "2023-11-16T10:40:47.687Z"
   },
   {
    "duration": 122,
    "start_time": "2023-11-16T10:40:47.697Z"
   },
   {
    "duration": 7,
    "start_time": "2023-11-16T10:40:47.820Z"
   },
   {
    "duration": 6,
    "start_time": "2023-11-16T10:40:47.829Z"
   },
   {
    "duration": 171,
    "start_time": "2023-11-16T10:40:47.837Z"
   },
   {
    "duration": 9,
    "start_time": "2023-11-16T10:40:48.010Z"
   },
   {
    "duration": 126,
    "start_time": "2023-11-16T10:40:48.020Z"
   },
   {
    "duration": 170,
    "start_time": "2023-11-16T10:40:48.148Z"
   },
   {
    "duration": 11,
    "start_time": "2023-11-16T10:40:48.321Z"
   },
   {
    "duration": 183,
    "start_time": "2023-11-16T10:40:48.333Z"
   },
   {
    "duration": 5,
    "start_time": "2023-11-16T10:40:48.518Z"
   },
   {
    "duration": 6,
    "start_time": "2023-11-16T10:40:48.524Z"
   },
   {
    "duration": 5,
    "start_time": "2023-11-16T10:40:48.531Z"
   },
   {
    "duration": 197,
    "start_time": "2023-11-16T10:40:48.538Z"
   },
   {
    "duration": 8,
    "start_time": "2023-11-16T10:40:48.737Z"
   },
   {
    "duration": 135,
    "start_time": "2023-11-16T10:40:48.747Z"
   },
   {
    "duration": 5,
    "start_time": "2023-11-16T10:40:48.884Z"
   },
   {
    "duration": 8,
    "start_time": "2023-11-16T10:40:48.891Z"
   },
   {
    "duration": 18,
    "start_time": "2023-11-16T10:40:48.903Z"
   },
   {
    "duration": 53,
    "start_time": "2023-11-16T10:40:48.923Z"
   },
   {
    "duration": 62,
    "start_time": "2023-11-16T10:40:48.978Z"
   },
   {
    "duration": 42,
    "start_time": "2023-11-16T10:40:49.042Z"
   },
   {
    "duration": 24,
    "start_time": "2023-11-16T10:40:49.086Z"
   },
   {
    "duration": 5,
    "start_time": "2023-11-16T10:40:49.111Z"
   },
   {
    "duration": 6,
    "start_time": "2023-11-16T10:40:49.117Z"
   },
   {
    "duration": 10,
    "start_time": "2023-11-16T10:40:49.125Z"
   },
   {
    "duration": 1534,
    "start_time": "2023-11-16T10:40:49.165Z"
   },
   {
    "duration": 1147,
    "start_time": "2023-11-16T10:40:50.701Z"
   },
   {
    "duration": 1574,
    "start_time": "2023-11-16T10:40:51.850Z"
   },
   {
    "duration": 625,
    "start_time": "2023-11-16T10:40:53.425Z"
   },
   {
    "duration": 4,
    "start_time": "2023-11-16T10:40:54.052Z"
   },
   {
    "duration": 1580,
    "start_time": "2023-11-16T10:40:54.057Z"
   },
   {
    "duration": 1902,
    "start_time": "2023-11-16T10:40:55.638Z"
   },
   {
    "duration": 1942,
    "start_time": "2023-11-16T10:40:57.542Z"
   },
   {
    "duration": 113,
    "start_time": "2023-11-16T10:40:59.485Z"
   },
   {
    "duration": 1918,
    "start_time": "2023-11-16T10:41:20.297Z"
   },
   {
    "duration": 112,
    "start_time": "2023-11-16T10:41:32.509Z"
   },
   {
    "duration": 1885,
    "start_time": "2023-11-16T10:48:07.012Z"
   },
   {
    "duration": 114,
    "start_time": "2023-11-16T10:57:10.594Z"
   },
   {
    "duration": 1710,
    "start_time": "2023-11-16T10:57:28.400Z"
   },
   {
    "duration": 43,
    "start_time": "2023-11-16T10:57:30.113Z"
   },
   {
    "duration": 17,
    "start_time": "2023-11-16T10:57:30.158Z"
   },
   {
    "duration": 26,
    "start_time": "2023-11-16T10:57:30.179Z"
   },
   {
    "duration": 187,
    "start_time": "2023-11-16T10:57:30.206Z"
   },
   {
    "duration": 9,
    "start_time": "2023-11-16T10:57:30.395Z"
   },
   {
    "duration": 145,
    "start_time": "2023-11-16T10:57:30.406Z"
   },
   {
    "duration": 6,
    "start_time": "2023-11-16T10:57:30.554Z"
   },
   {
    "duration": 34,
    "start_time": "2023-11-16T10:57:30.566Z"
   },
   {
    "duration": 213,
    "start_time": "2023-11-16T10:57:30.603Z"
   },
   {
    "duration": 7,
    "start_time": "2023-11-16T10:57:30.818Z"
   },
   {
    "duration": 184,
    "start_time": "2023-11-16T10:57:30.827Z"
   },
   {
    "duration": 193,
    "start_time": "2023-11-16T10:57:31.012Z"
   },
   {
    "duration": 11,
    "start_time": "2023-11-16T10:57:31.207Z"
   },
   {
    "duration": 243,
    "start_time": "2023-11-16T10:57:31.220Z"
   },
   {
    "duration": 8,
    "start_time": "2023-11-16T10:57:31.466Z"
   },
   {
    "duration": 29,
    "start_time": "2023-11-16T10:57:31.477Z"
   },
   {
    "duration": 39,
    "start_time": "2023-11-16T10:57:31.508Z"
   },
   {
    "duration": 216,
    "start_time": "2023-11-16T10:57:31.549Z"
   },
   {
    "duration": 12,
    "start_time": "2023-11-16T10:57:31.767Z"
   },
   {
    "duration": 156,
    "start_time": "2023-11-16T10:57:31.782Z"
   },
   {
    "duration": 5,
    "start_time": "2023-11-16T10:57:31.940Z"
   },
   {
    "duration": 26,
    "start_time": "2023-11-16T10:57:31.947Z"
   },
   {
    "duration": 31,
    "start_time": "2023-11-16T10:57:31.975Z"
   },
   {
    "duration": 19,
    "start_time": "2023-11-16T10:57:32.008Z"
   },
   {
    "duration": 70,
    "start_time": "2023-11-16T10:57:32.029Z"
   },
   {
    "duration": 33,
    "start_time": "2023-11-16T10:57:32.101Z"
   },
   {
    "duration": 49,
    "start_time": "2023-11-16T10:57:32.137Z"
   },
   {
    "duration": 6,
    "start_time": "2023-11-16T10:57:32.188Z"
   },
   {
    "duration": 29,
    "start_time": "2023-11-16T10:57:32.196Z"
   },
   {
    "duration": 12,
    "start_time": "2023-11-16T10:57:32.227Z"
   },
   {
    "duration": 1687,
    "start_time": "2023-11-16T10:57:32.241Z"
   },
   {
    "duration": 1351,
    "start_time": "2023-11-16T10:57:33.929Z"
   },
   {
    "duration": 1759,
    "start_time": "2023-11-16T10:57:35.283Z"
   },
   {
    "duration": 671,
    "start_time": "2023-11-16T10:57:37.043Z"
   },
   {
    "duration": 4,
    "start_time": "2023-11-16T10:57:37.716Z"
   },
   {
    "duration": 1577,
    "start_time": "2023-11-16T10:57:37.722Z"
   },
   {
    "duration": 1968,
    "start_time": "2023-11-16T10:57:39.300Z"
   },
   {
    "duration": 2056,
    "start_time": "2023-11-16T10:57:41.270Z"
   },
   {
    "duration": 120,
    "start_time": "2023-11-16T10:57:43.328Z"
   },
   {
    "duration": 1525,
    "start_time": "2023-11-16T10:58:00.778Z"
   },
   {
    "duration": 44,
    "start_time": "2023-11-16T10:58:02.305Z"
   },
   {
    "duration": 13,
    "start_time": "2023-11-16T10:58:02.351Z"
   },
   {
    "duration": 26,
    "start_time": "2023-11-16T10:58:02.367Z"
   },
   {
    "duration": 202,
    "start_time": "2023-11-16T10:58:02.396Z"
   },
   {
    "duration": 8,
    "start_time": "2023-11-16T10:58:02.600Z"
   },
   {
    "duration": 137,
    "start_time": "2023-11-16T10:58:02.609Z"
   },
   {
    "duration": 7,
    "start_time": "2023-11-16T10:58:02.748Z"
   },
   {
    "duration": 12,
    "start_time": "2023-11-16T10:58:02.766Z"
   },
   {
    "duration": 171,
    "start_time": "2023-11-16T10:58:02.780Z"
   },
   {
    "duration": 15,
    "start_time": "2023-11-16T10:58:02.953Z"
   },
   {
    "duration": 146,
    "start_time": "2023-11-16T10:58:02.970Z"
   },
   {
    "duration": 193,
    "start_time": "2023-11-16T10:58:03.118Z"
   },
   {
    "duration": 11,
    "start_time": "2023-11-16T10:58:03.315Z"
   },
   {
    "duration": 219,
    "start_time": "2023-11-16T10:58:03.327Z"
   },
   {
    "duration": 5,
    "start_time": "2023-11-16T10:58:03.548Z"
   },
   {
    "duration": 13,
    "start_time": "2023-11-16T10:58:03.555Z"
   },
   {
    "duration": 14,
    "start_time": "2023-11-16T10:58:03.570Z"
   },
   {
    "duration": 219,
    "start_time": "2023-11-16T10:58:03.586Z"
   },
   {
    "duration": 9,
    "start_time": "2023-11-16T10:58:03.807Z"
   },
   {
    "duration": 141,
    "start_time": "2023-11-16T10:58:03.817Z"
   },
   {
    "duration": 14,
    "start_time": "2023-11-16T10:58:03.960Z"
   },
   {
    "duration": 8,
    "start_time": "2023-11-16T10:58:03.976Z"
   },
   {
    "duration": 20,
    "start_time": "2023-11-16T10:58:03.987Z"
   },
   {
    "duration": 20,
    "start_time": "2023-11-16T10:58:04.009Z"
   },
   {
    "duration": 99,
    "start_time": "2023-11-16T10:58:04.030Z"
   },
   {
    "duration": 43,
    "start_time": "2023-11-16T10:58:04.131Z"
   },
   {
    "duration": 29,
    "start_time": "2023-11-16T10:58:04.176Z"
   },
   {
    "duration": 5,
    "start_time": "2023-11-16T10:58:04.206Z"
   },
   {
    "duration": 6,
    "start_time": "2023-11-16T10:58:04.213Z"
   },
   {
    "duration": 46,
    "start_time": "2023-11-16T10:58:04.222Z"
   },
   {
    "duration": 1733,
    "start_time": "2023-11-16T10:58:04.270Z"
   },
   {
    "duration": 1317,
    "start_time": "2023-11-16T10:58:06.004Z"
   },
   {
    "duration": 1735,
    "start_time": "2023-11-16T10:58:07.322Z"
   },
   {
    "duration": 695,
    "start_time": "2023-11-16T10:58:09.058Z"
   },
   {
    "duration": 5,
    "start_time": "2023-11-16T10:58:09.755Z"
   },
   {
    "duration": 1733,
    "start_time": "2023-11-16T10:58:09.761Z"
   },
   {
    "duration": 1943,
    "start_time": "2023-11-16T10:58:11.496Z"
   },
   {
    "duration": 1988,
    "start_time": "2023-11-16T10:58:13.441Z"
   },
   {
    "duration": 118,
    "start_time": "2023-11-16T10:58:15.430Z"
   },
   {
    "duration": 2022,
    "start_time": "2023-11-16T10:58:35.973Z"
   },
   {
    "duration": 2023,
    "start_time": "2023-11-16T10:58:41.752Z"
   },
   {
    "duration": 2085,
    "start_time": "2023-11-16T10:59:01.129Z"
   },
   {
    "duration": 113,
    "start_time": "2023-11-16T10:59:08.218Z"
   },
   {
    "duration": 52,
    "start_time": "2023-11-16T14:15:53.743Z"
   },
   {
    "duration": 1694,
    "start_time": "2023-11-16T14:16:00.635Z"
   },
   {
    "duration": 88,
    "start_time": "2023-11-16T14:16:02.332Z"
   },
   {
    "duration": 16,
    "start_time": "2023-11-16T14:16:02.422Z"
   },
   {
    "duration": 26,
    "start_time": "2023-11-16T14:16:02.440Z"
   },
   {
    "duration": 156,
    "start_time": "2023-11-16T14:16:02.469Z"
   },
   {
    "duration": 9,
    "start_time": "2023-11-16T14:16:02.627Z"
   },
   {
    "duration": 128,
    "start_time": "2023-11-16T14:16:02.637Z"
   },
   {
    "duration": 7,
    "start_time": "2023-11-16T14:16:02.767Z"
   },
   {
    "duration": 32,
    "start_time": "2023-11-16T14:16:02.776Z"
   },
   {
    "duration": 157,
    "start_time": "2023-11-16T14:16:02.810Z"
   },
   {
    "duration": 8,
    "start_time": "2023-11-16T14:16:02.968Z"
   },
   {
    "duration": 132,
    "start_time": "2023-11-16T14:16:02.978Z"
   },
   {
    "duration": 248,
    "start_time": "2023-11-16T14:16:03.112Z"
   },
   {
    "duration": 11,
    "start_time": "2023-11-16T14:16:03.366Z"
   },
   {
    "duration": 114,
    "start_time": "2023-11-16T14:16:03.378Z"
   },
   {
    "duration": 5,
    "start_time": "2023-11-16T14:16:03.494Z"
   },
   {
    "duration": 10,
    "start_time": "2023-11-16T14:16:03.500Z"
   },
   {
    "duration": 7,
    "start_time": "2023-11-16T14:16:03.511Z"
   },
   {
    "duration": 198,
    "start_time": "2023-11-16T14:16:03.519Z"
   },
   {
    "duration": 10,
    "start_time": "2023-11-16T14:16:03.719Z"
   },
   {
    "duration": 162,
    "start_time": "2023-11-16T14:16:03.732Z"
   },
   {
    "duration": 6,
    "start_time": "2023-11-16T14:16:03.896Z"
   },
   {
    "duration": 7,
    "start_time": "2023-11-16T14:16:03.903Z"
   },
   {
    "duration": 15,
    "start_time": "2023-11-16T14:16:03.912Z"
   },
   {
    "duration": 46,
    "start_time": "2023-11-16T14:16:03.928Z"
   },
   {
    "duration": 69,
    "start_time": "2023-11-16T14:16:03.976Z"
   },
   {
    "duration": 40,
    "start_time": "2023-11-16T14:16:04.047Z"
   },
   {
    "duration": 21,
    "start_time": "2023-11-16T14:16:04.089Z"
   },
   {
    "duration": 4,
    "start_time": "2023-11-16T14:16:04.112Z"
   },
   {
    "duration": 6,
    "start_time": "2023-11-16T14:16:04.118Z"
   },
   {
    "duration": 45,
    "start_time": "2023-11-16T14:16:04.126Z"
   },
   {
    "duration": 1636,
    "start_time": "2023-11-16T14:16:04.173Z"
   },
   {
    "duration": 1230,
    "start_time": "2023-11-16T14:16:05.811Z"
   },
   {
    "duration": 1654,
    "start_time": "2023-11-16T14:16:07.042Z"
   },
   {
    "duration": 715,
    "start_time": "2023-11-16T14:16:08.697Z"
   },
   {
    "duration": 4,
    "start_time": "2023-11-16T14:16:09.414Z"
   },
   {
    "duration": 1597,
    "start_time": "2023-11-16T14:16:09.420Z"
   },
   {
    "duration": 1974,
    "start_time": "2023-11-16T14:16:11.019Z"
   },
   {
    "duration": 1924,
    "start_time": "2023-11-16T14:16:12.994Z"
   },
   {
    "duration": 108,
    "start_time": "2023-11-16T14:16:14.919Z"
   },
   {
    "duration": 88,
    "start_time": "2023-11-16T14:18:45.650Z"
   },
   {
    "duration": 33,
    "start_time": "2023-11-16T14:50:48.014Z"
   },
   {
    "duration": 85,
    "start_time": "2023-11-16T14:56:06.385Z"
   },
   {
    "duration": 31,
    "start_time": "2023-11-16T14:56:33.327Z"
   },
   {
    "duration": 1425,
    "start_time": "2023-11-16T14:56:41.071Z"
   },
   {
    "duration": 44,
    "start_time": "2023-11-16T14:56:42.497Z"
   },
   {
    "duration": 15,
    "start_time": "2023-11-16T14:56:42.543Z"
   },
   {
    "duration": 18,
    "start_time": "2023-11-16T14:56:42.561Z"
   },
   {
    "duration": 160,
    "start_time": "2023-11-16T14:56:42.581Z"
   },
   {
    "duration": 8,
    "start_time": "2023-11-16T14:56:42.743Z"
   },
   {
    "duration": 114,
    "start_time": "2023-11-16T14:56:42.752Z"
   },
   {
    "duration": 6,
    "start_time": "2023-11-16T14:56:42.868Z"
   },
   {
    "duration": 10,
    "start_time": "2023-11-16T14:56:42.876Z"
   },
   {
    "duration": 150,
    "start_time": "2023-11-16T14:56:42.889Z"
   },
   {
    "duration": 8,
    "start_time": "2023-11-16T14:56:43.041Z"
   },
   {
    "duration": 130,
    "start_time": "2023-11-16T14:56:43.050Z"
   },
   {
    "duration": 171,
    "start_time": "2023-11-16T14:56:43.182Z"
   },
   {
    "duration": 15,
    "start_time": "2023-11-16T14:56:43.355Z"
   },
   {
    "duration": 177,
    "start_time": "2023-11-16T14:56:43.372Z"
   },
   {
    "duration": 5,
    "start_time": "2023-11-16T14:56:43.551Z"
   },
   {
    "duration": 15,
    "start_time": "2023-11-16T14:56:43.557Z"
   },
   {
    "duration": 5,
    "start_time": "2023-11-16T14:56:43.574Z"
   },
   {
    "duration": 187,
    "start_time": "2023-11-16T14:56:43.581Z"
   },
   {
    "duration": 8,
    "start_time": "2023-11-16T14:56:43.770Z"
   },
   {
    "duration": 130,
    "start_time": "2023-11-16T14:56:43.780Z"
   },
   {
    "duration": 5,
    "start_time": "2023-11-16T14:56:43.912Z"
   },
   {
    "duration": 30,
    "start_time": "2023-11-16T14:56:43.919Z"
   },
   {
    "duration": 15,
    "start_time": "2023-11-16T14:56:43.951Z"
   },
   {
    "duration": 85,
    "start_time": "2023-11-16T14:56:43.968Z"
   },
   {
    "duration": 189,
    "start_time": "2023-11-16T14:56:44.055Z"
   },
   {
    "duration": 121,
    "start_time": "2023-11-16T14:56:44.245Z"
   },
   {
    "duration": 0,
    "start_time": "2023-11-16T14:56:44.368Z"
   },
   {
    "duration": 0,
    "start_time": "2023-11-16T14:56:44.371Z"
   },
   {
    "duration": 0,
    "start_time": "2023-11-16T14:56:44.373Z"
   },
   {
    "duration": 0,
    "start_time": "2023-11-16T14:56:44.374Z"
   },
   {
    "duration": 0,
    "start_time": "2023-11-16T14:56:44.376Z"
   },
   {
    "duration": 0,
    "start_time": "2023-11-16T14:56:44.377Z"
   },
   {
    "duration": 0,
    "start_time": "2023-11-16T14:56:44.379Z"
   },
   {
    "duration": 0,
    "start_time": "2023-11-16T14:56:44.380Z"
   },
   {
    "duration": 0,
    "start_time": "2023-11-16T14:56:44.381Z"
   },
   {
    "duration": 0,
    "start_time": "2023-11-16T14:56:44.382Z"
   },
   {
    "duration": 0,
    "start_time": "2023-11-16T14:56:44.384Z"
   },
   {
    "duration": 0,
    "start_time": "2023-11-16T14:56:44.384Z"
   },
   {
    "duration": 13,
    "start_time": "2023-11-16T14:56:55.936Z"
   },
   {
    "duration": 47,
    "start_time": "2023-11-16T14:57:27.100Z"
   },
   {
    "duration": 5,
    "start_time": "2023-11-16T14:57:44.320Z"
   },
   {
    "duration": 9,
    "start_time": "2023-11-16T15:13:14.001Z"
   },
   {
    "duration": 13,
    "start_time": "2023-11-16T15:14:19.579Z"
   },
   {
    "duration": 9,
    "start_time": "2023-11-16T15:14:29.529Z"
   },
   {
    "duration": 12,
    "start_time": "2023-11-16T15:15:12.846Z"
   },
   {
    "duration": 4,
    "start_time": "2023-11-16T15:15:20.096Z"
   },
   {
    "duration": 184,
    "start_time": "2023-11-16T15:16:54.711Z"
   },
   {
    "duration": 1524,
    "start_time": "2023-11-16T15:17:01.332Z"
   },
   {
    "duration": 44,
    "start_time": "2023-11-16T15:17:02.858Z"
   },
   {
    "duration": 14,
    "start_time": "2023-11-16T15:17:02.904Z"
   },
   {
    "duration": 29,
    "start_time": "2023-11-16T15:17:02.920Z"
   },
   {
    "duration": 150,
    "start_time": "2023-11-16T15:17:02.950Z"
   },
   {
    "duration": 9,
    "start_time": "2023-11-16T15:17:03.101Z"
   },
   {
    "duration": 111,
    "start_time": "2023-11-16T15:17:03.112Z"
   },
   {
    "duration": 5,
    "start_time": "2023-11-16T15:17:03.225Z"
   },
   {
    "duration": 8,
    "start_time": "2023-11-16T15:17:03.232Z"
   },
   {
    "duration": 158,
    "start_time": "2023-11-16T15:17:03.243Z"
   },
   {
    "duration": 8,
    "start_time": "2023-11-16T15:17:03.403Z"
   },
   {
    "duration": 129,
    "start_time": "2023-11-16T15:17:03.412Z"
   },
   {
    "duration": 175,
    "start_time": "2023-11-16T15:17:03.543Z"
   },
   {
    "duration": 11,
    "start_time": "2023-11-16T15:17:03.720Z"
   },
   {
    "duration": 197,
    "start_time": "2023-11-16T15:17:03.732Z"
   },
   {
    "duration": 5,
    "start_time": "2023-11-16T15:17:03.931Z"
   },
   {
    "duration": 12,
    "start_time": "2023-11-16T15:17:03.938Z"
   },
   {
    "duration": 17,
    "start_time": "2023-11-16T15:17:03.951Z"
   },
   {
    "duration": 183,
    "start_time": "2023-11-16T15:17:03.970Z"
   },
   {
    "duration": 15,
    "start_time": "2023-11-16T15:17:04.155Z"
   },
   {
    "duration": 127,
    "start_time": "2023-11-16T15:17:04.172Z"
   },
   {
    "duration": 5,
    "start_time": "2023-11-16T15:17:04.301Z"
   },
   {
    "duration": 7,
    "start_time": "2023-11-16T15:17:04.308Z"
   },
   {
    "duration": 16,
    "start_time": "2023-11-16T15:17:04.316Z"
   },
   {
    "duration": 115,
    "start_time": "2023-11-16T15:17:04.333Z"
   },
   {
    "duration": 178,
    "start_time": "2023-11-16T15:17:04.450Z"
   },
   {
    "duration": 60,
    "start_time": "2023-11-16T15:17:04.630Z"
   },
   {
    "duration": 5,
    "start_time": "2023-11-16T15:17:04.693Z"
   },
   {
    "duration": 8,
    "start_time": "2023-11-16T15:17:04.700Z"
   },
   {
    "duration": 12,
    "start_time": "2023-11-16T15:17:04.709Z"
   },
   {
    "duration": 3349,
    "start_time": "2023-11-16T15:17:04.722Z"
   },
   {
    "duration": 2720,
    "start_time": "2023-11-16T15:17:08.073Z"
   },
   {
    "duration": 5916,
    "start_time": "2023-11-16T15:17:10.795Z"
   },
   {
    "duration": 1340,
    "start_time": "2023-11-16T15:17:16.712Z"
   },
   {
    "duration": 4,
    "start_time": "2023-11-16T15:17:18.053Z"
   },
   {
    "duration": 3295,
    "start_time": "2023-11-16T15:17:18.059Z"
   },
   {
    "duration": 6065,
    "start_time": "2023-11-16T15:17:21.356Z"
   },
   {
    "duration": 6223,
    "start_time": "2023-11-16T15:17:27.422Z"
   },
   {
    "duration": 163,
    "start_time": "2023-11-16T15:17:33.646Z"
   },
   {
    "duration": 5847,
    "start_time": "2023-11-16T15:18:04.806Z"
   },
   {
    "duration": 4354,
    "start_time": "2023-11-16T15:18:17.797Z"
   },
   {
    "duration": 3791,
    "start_time": "2023-11-16T15:18:28.817Z"
   },
   {
    "duration": 3545,
    "start_time": "2023-11-16T15:18:39.356Z"
   },
   {
    "duration": 3790,
    "start_time": "2023-11-16T15:18:46.618Z"
   },
   {
    "duration": 3938,
    "start_time": "2023-11-16T15:22:48.166Z"
   },
   {
    "duration": 112,
    "start_time": "2023-11-16T15:26:53.415Z"
   },
   {
    "duration": 11,
    "start_time": "2023-11-16T15:27:00.163Z"
   },
   {
    "duration": 3367,
    "start_time": "2023-11-16T15:27:02.842Z"
   },
   {
    "duration": 11,
    "start_time": "2023-11-16T15:27:51.513Z"
   },
   {
    "duration": 235,
    "start_time": "2023-11-16T15:29:25.301Z"
   },
   {
    "duration": 96,
    "start_time": "2023-11-16T15:29:51.885Z"
   },
   {
    "duration": 3334,
    "start_time": "2023-11-16T15:33:41.625Z"
   },
   {
    "duration": 11,
    "start_time": "2023-11-16T15:34:32.858Z"
   },
   {
    "duration": 17,
    "start_time": "2023-11-16T15:34:33.893Z"
   },
   {
    "duration": 3268,
    "start_time": "2023-11-16T15:34:35.241Z"
   },
   {
    "duration": 6,
    "start_time": "2023-11-16T15:35:37.925Z"
   },
   {
    "duration": 16,
    "start_time": "2023-11-16T15:35:39.688Z"
   },
   {
    "duration": 2859,
    "start_time": "2023-11-16T15:35:42.236Z"
   },
   {
    "duration": 10,
    "start_time": "2023-11-16T15:36:50.383Z"
   },
   {
    "duration": 10,
    "start_time": "2023-11-16T15:36:51.345Z"
   },
   {
    "duration": 2325,
    "start_time": "2023-11-16T15:36:52.690Z"
   },
   {
    "duration": 12,
    "start_time": "2023-11-16T15:38:43.688Z"
   },
   {
    "duration": 12,
    "start_time": "2023-11-16T15:38:49.885Z"
   },
   {
    "duration": 728,
    "start_time": "2023-11-16T15:38:51.255Z"
   },
   {
    "duration": 18,
    "start_time": "2023-11-16T15:39:09.776Z"
   },
   {
    "duration": 2486,
    "start_time": "2023-11-16T15:39:16.812Z"
   },
   {
    "duration": 16,
    "start_time": "2023-11-16T15:40:11.746Z"
   },
   {
    "duration": 2344,
    "start_time": "2023-11-16T15:40:12.747Z"
   },
   {
    "duration": 5,
    "start_time": "2023-11-16T15:43:41.015Z"
   },
   {
    "duration": 5,
    "start_time": "2023-11-16T15:44:02.581Z"
   },
   {
    "duration": 7,
    "start_time": "2023-11-16T15:44:10.981Z"
   },
   {
    "duration": 69,
    "start_time": "2023-11-16T15:47:16.085Z"
   },
   {
    "duration": 12,
    "start_time": "2023-11-16T15:49:34.403Z"
   },
   {
    "duration": 2397,
    "start_time": "2023-11-16T15:49:39.014Z"
   },
   {
    "duration": 6,
    "start_time": "2023-11-16T15:50:32.427Z"
   },
   {
    "duration": 10,
    "start_time": "2023-11-16T15:52:17.838Z"
   },
   {
    "duration": 12,
    "start_time": "2023-11-16T15:52:19.083Z"
   },
   {
    "duration": 11,
    "start_time": "2023-11-16T15:52:32.534Z"
   },
   {
    "duration": 11,
    "start_time": "2023-11-16T15:53:09.023Z"
   },
   {
    "duration": 11,
    "start_time": "2023-11-16T15:53:35.430Z"
   },
   {
    "duration": 2904,
    "start_time": "2023-11-16T15:53:38.181Z"
   },
   {
    "duration": 2838,
    "start_time": "2023-11-16T15:53:54.970Z"
   },
   {
    "duration": 12,
    "start_time": "2023-11-16T15:54:05.779Z"
   },
   {
    "duration": 2876,
    "start_time": "2023-11-16T15:54:07.232Z"
   },
   {
    "duration": 11,
    "start_time": "2023-11-16T15:54:37.697Z"
   },
   {
    "duration": 3154,
    "start_time": "2023-11-16T15:54:42.350Z"
   },
   {
    "duration": 12,
    "start_time": "2023-11-16T15:55:39.596Z"
   },
   {
    "duration": 746,
    "start_time": "2023-11-16T15:55:43.338Z"
   },
   {
    "duration": 12,
    "start_time": "2023-11-16T15:56:05.827Z"
   },
   {
    "duration": 735,
    "start_time": "2023-11-16T15:56:09.604Z"
   },
   {
    "duration": 110,
    "start_time": "2023-11-16T15:56:42.702Z"
   },
   {
    "duration": 11,
    "start_time": "2023-11-16T15:56:52.596Z"
   },
   {
    "duration": 2853,
    "start_time": "2023-11-16T15:56:55.170Z"
   },
   {
    "duration": 11,
    "start_time": "2023-11-16T15:57:26.225Z"
   },
   {
    "duration": 2896,
    "start_time": "2023-11-16T15:57:27.994Z"
   },
   {
    "duration": 48,
    "start_time": "2023-11-16T15:59:47.973Z"
   },
   {
    "duration": 14,
    "start_time": "2023-11-16T16:00:01.314Z"
   },
   {
    "duration": 25,
    "start_time": "2023-11-16T16:00:06.885Z"
   },
   {
    "duration": 23,
    "start_time": "2023-11-16T16:00:41.264Z"
   },
   {
    "duration": 2993,
    "start_time": "2023-11-16T16:01:09.515Z"
   },
   {
    "duration": 137,
    "start_time": "2023-11-16T16:01:42.415Z"
   },
   {
    "duration": 53,
    "start_time": "2023-11-16T16:01:43.655Z"
   },
   {
    "duration": 21,
    "start_time": "2023-11-16T16:01:44.112Z"
   },
   {
    "duration": 18,
    "start_time": "2023-11-16T16:01:44.490Z"
   },
   {
    "duration": 5,
    "start_time": "2023-11-16T16:01:52.057Z"
   },
   {
    "duration": 10,
    "start_time": "2023-11-16T16:02:03.033Z"
   },
   {
    "duration": 11,
    "start_time": "2023-11-16T16:02:03.797Z"
   },
   {
    "duration": 2950,
    "start_time": "2023-11-16T16:02:04.842Z"
   },
   {
    "duration": 2139,
    "start_time": "2023-11-16T16:03:23.889Z"
   },
   {
    "duration": 2921,
    "start_time": "2023-11-16T16:04:22.341Z"
   },
   {
    "duration": 73,
    "start_time": "2023-11-16T16:04:51.019Z"
   },
   {
    "duration": 50,
    "start_time": "2023-11-16T16:05:06.559Z"
   },
   {
    "duration": 2708,
    "start_time": "2023-11-16T16:05:13.194Z"
   },
   {
    "duration": 2671,
    "start_time": "2023-11-16T16:05:30.661Z"
   },
   {
    "duration": 1608,
    "start_time": "2023-11-16T16:05:46.333Z"
   },
   {
    "duration": 54,
    "start_time": "2023-11-16T16:05:47.944Z"
   },
   {
    "duration": 16,
    "start_time": "2023-11-16T16:05:48.000Z"
   },
   {
    "duration": 17,
    "start_time": "2023-11-16T16:05:48.017Z"
   },
   {
    "duration": 171,
    "start_time": "2023-11-16T16:05:48.037Z"
   },
   {
    "duration": 8,
    "start_time": "2023-11-16T16:05:48.210Z"
   },
   {
    "duration": 159,
    "start_time": "2023-11-16T16:05:48.220Z"
   },
   {
    "duration": 6,
    "start_time": "2023-11-16T16:05:48.381Z"
   },
   {
    "duration": 7,
    "start_time": "2023-11-16T16:05:48.389Z"
   },
   {
    "duration": 157,
    "start_time": "2023-11-16T16:05:48.397Z"
   },
   {
    "duration": 11,
    "start_time": "2023-11-16T16:05:48.555Z"
   },
   {
    "duration": 131,
    "start_time": "2023-11-16T16:05:48.569Z"
   },
   {
    "duration": 191,
    "start_time": "2023-11-16T16:05:48.701Z"
   },
   {
    "duration": 11,
    "start_time": "2023-11-16T16:05:48.897Z"
   },
   {
    "duration": 228,
    "start_time": "2023-11-16T16:05:48.910Z"
   },
   {
    "duration": 6,
    "start_time": "2023-11-16T16:05:49.140Z"
   },
   {
    "duration": 24,
    "start_time": "2023-11-16T16:05:49.148Z"
   },
   {
    "duration": 8,
    "start_time": "2023-11-16T16:05:49.174Z"
   },
   {
    "duration": 205,
    "start_time": "2023-11-16T16:05:49.184Z"
   },
   {
    "duration": 9,
    "start_time": "2023-11-16T16:05:49.391Z"
   },
   {
    "duration": 139,
    "start_time": "2023-11-16T16:05:49.402Z"
   },
   {
    "duration": 6,
    "start_time": "2023-11-16T16:05:49.543Z"
   },
   {
    "duration": 34,
    "start_time": "2023-11-16T16:05:49.550Z"
   },
   {
    "duration": 16,
    "start_time": "2023-11-16T16:05:49.586Z"
   },
   {
    "duration": 100,
    "start_time": "2023-11-16T16:05:49.604Z"
   },
   {
    "duration": 188,
    "start_time": "2023-11-16T16:05:49.705Z"
   },
   {
    "duration": 47,
    "start_time": "2023-11-16T16:05:49.895Z"
   },
   {
    "duration": 40,
    "start_time": "2023-11-16T16:05:49.944Z"
   },
   {
    "duration": 19,
    "start_time": "2023-11-16T16:05:49.986Z"
   },
   {
    "duration": 9,
    "start_time": "2023-11-16T16:05:50.007Z"
   },
   {
    "duration": 6,
    "start_time": "2023-11-16T16:05:50.018Z"
   },
   {
    "duration": 11,
    "start_time": "2023-11-16T16:05:50.026Z"
   },
   {
    "duration": 2917,
    "start_time": "2023-11-16T16:05:50.070Z"
   },
   {
    "duration": 2094,
    "start_time": "2023-11-16T16:05:52.989Z"
   },
   {
    "duration": 2751,
    "start_time": "2023-11-16T16:05:55.084Z"
   },
   {
    "duration": 1121,
    "start_time": "2023-11-16T16:05:57.836Z"
   },
   {
    "duration": 9,
    "start_time": "2023-11-16T16:05:58.959Z"
   },
   {
    "duration": 2805,
    "start_time": "2023-11-16T16:05:58.970Z"
   },
   {
    "duration": 3003,
    "start_time": "2023-11-16T16:06:01.782Z"
   },
   {
    "duration": 2935,
    "start_time": "2023-11-16T16:06:04.787Z"
   },
   {
    "duration": 152,
    "start_time": "2023-11-16T16:06:07.725Z"
   },
   {
    "duration": 1529,
    "start_time": "2023-11-16T16:27:12.110Z"
   },
   {
    "duration": 54,
    "start_time": "2023-11-16T16:27:13.641Z"
   },
   {
    "duration": 16,
    "start_time": "2023-11-16T16:27:13.697Z"
   },
   {
    "duration": 25,
    "start_time": "2023-11-16T16:27:13.716Z"
   },
   {
    "duration": 181,
    "start_time": "2023-11-16T16:27:13.744Z"
   },
   {
    "duration": 9,
    "start_time": "2023-11-16T16:27:13.927Z"
   },
   {
    "duration": 124,
    "start_time": "2023-11-16T16:27:13.938Z"
   },
   {
    "duration": 13,
    "start_time": "2023-11-16T16:27:14.064Z"
   },
   {
    "duration": 8,
    "start_time": "2023-11-16T16:27:14.079Z"
   },
   {
    "duration": 160,
    "start_time": "2023-11-16T16:27:14.089Z"
   },
   {
    "duration": 21,
    "start_time": "2023-11-16T16:27:14.250Z"
   },
   {
    "duration": 125,
    "start_time": "2023-11-16T16:27:14.272Z"
   },
   {
    "duration": 214,
    "start_time": "2023-11-16T16:27:14.399Z"
   },
   {
    "duration": 11,
    "start_time": "2023-11-16T16:27:14.616Z"
   },
   {
    "duration": 200,
    "start_time": "2023-11-16T16:27:14.629Z"
   },
   {
    "duration": 7,
    "start_time": "2023-11-16T16:27:14.831Z"
   },
   {
    "duration": 8,
    "start_time": "2023-11-16T16:27:14.840Z"
   },
   {
    "duration": 15,
    "start_time": "2023-11-16T16:27:14.868Z"
   },
   {
    "duration": 178,
    "start_time": "2023-11-16T16:27:14.884Z"
   },
   {
    "duration": 16,
    "start_time": "2023-11-16T16:27:15.070Z"
   },
   {
    "duration": 147,
    "start_time": "2023-11-16T16:27:15.088Z"
   },
   {
    "duration": 5,
    "start_time": "2023-11-16T16:27:15.237Z"
   },
   {
    "duration": 32,
    "start_time": "2023-11-16T16:27:15.244Z"
   },
   {
    "duration": 16,
    "start_time": "2023-11-16T16:27:15.280Z"
   },
   {
    "duration": 96,
    "start_time": "2023-11-16T16:27:15.298Z"
   },
   {
    "duration": 191,
    "start_time": "2023-11-16T16:27:15.395Z"
   },
   {
    "duration": 49,
    "start_time": "2023-11-16T16:27:15.588Z"
   },
   {
    "duration": 42,
    "start_time": "2023-11-16T16:27:15.642Z"
   },
   {
    "duration": 28,
    "start_time": "2023-11-16T16:27:15.687Z"
   },
   {
    "duration": 5,
    "start_time": "2023-11-16T16:27:15.716Z"
   },
   {
    "duration": 7,
    "start_time": "2023-11-16T16:27:15.722Z"
   },
   {
    "duration": 35,
    "start_time": "2023-11-16T16:27:15.731Z"
   },
   {
    "duration": 2813,
    "start_time": "2023-11-16T16:27:15.776Z"
   },
   {
    "duration": 2131,
    "start_time": "2023-11-16T16:27:18.590Z"
   },
   {
    "duration": 2821,
    "start_time": "2023-11-16T16:27:20.723Z"
   },
   {
    "duration": 1132,
    "start_time": "2023-11-16T16:27:23.546Z"
   },
   {
    "duration": 5,
    "start_time": "2023-11-16T16:27:24.684Z"
   },
   {
    "duration": 2961,
    "start_time": "2023-11-16T16:27:24.691Z"
   },
   {
    "duration": 3041,
    "start_time": "2023-11-16T16:27:27.654Z"
   },
   {
    "duration": 2945,
    "start_time": "2023-11-16T16:27:30.697Z"
   },
   {
    "duration": 151,
    "start_time": "2023-11-16T16:27:33.643Z"
   },
   {
    "duration": 1123,
    "start_time": "2023-11-16T16:27:59.440Z"
   },
   {
    "duration": 1460,
    "start_time": "2023-11-16T16:28:08.755Z"
   },
   {
    "duration": 1440,
    "start_time": "2023-11-16T16:28:16.276Z"
   },
   {
    "duration": 1362,
    "start_time": "2023-11-16T16:28:56.297Z"
   },
   {
    "duration": 1433,
    "start_time": "2023-11-16T16:29:03.084Z"
   },
   {
    "duration": 1626,
    "start_time": "2023-11-16T16:29:08.057Z"
   },
   {
    "duration": 1340,
    "start_time": "2023-11-16T16:29:14.216Z"
   },
   {
    "duration": 1300,
    "start_time": "2023-11-16T16:29:22.768Z"
   },
   {
    "duration": 1348,
    "start_time": "2023-11-16T16:29:32.438Z"
   },
   {
    "duration": 1391,
    "start_time": "2023-11-16T16:29:44.623Z"
   },
   {
    "duration": 1416,
    "start_time": "2023-11-16T16:29:51.668Z"
   },
   {
    "duration": 1258,
    "start_time": "2023-11-16T16:29:59.701Z"
   },
   {
    "duration": 1262,
    "start_time": "2023-11-16T16:30:05.595Z"
   },
   {
    "duration": 1272,
    "start_time": "2023-11-16T16:30:13.280Z"
   },
   {
    "duration": 1223,
    "start_time": "2023-11-16T16:30:19.340Z"
   },
   {
    "duration": 1264,
    "start_time": "2023-11-16T16:30:26.192Z"
   },
   {
    "duration": 1269,
    "start_time": "2023-11-16T16:30:32.448Z"
   },
   {
    "duration": 1227,
    "start_time": "2023-11-16T16:30:40.608Z"
   },
   {
    "duration": 1319,
    "start_time": "2023-11-16T16:30:45.927Z"
   },
   {
    "duration": 1384,
    "start_time": "2023-11-16T16:30:55.626Z"
   },
   {
    "duration": 1285,
    "start_time": "2023-11-16T16:31:03.295Z"
   },
   {
    "duration": 1372,
    "start_time": "2023-11-16T16:31:09.140Z"
   },
   {
    "duration": 1375,
    "start_time": "2023-11-16T16:31:14.942Z"
   },
   {
    "duration": 1313,
    "start_time": "2023-11-16T16:31:22.469Z"
   },
   {
    "duration": 2752,
    "start_time": "2023-11-16T16:31:43.504Z"
   },
   {
    "duration": 2661,
    "start_time": "2023-11-16T16:31:50.778Z"
   },
   {
    "duration": 2926,
    "start_time": "2023-11-16T16:32:45.726Z"
   },
   {
    "duration": 8,
    "start_time": "2023-11-16T16:34:10.176Z"
   },
   {
    "duration": 11,
    "start_time": "2023-11-16T16:34:11.453Z"
   },
   {
    "duration": 2339,
    "start_time": "2023-11-16T16:34:14.537Z"
   },
   {
    "duration": 9,
    "start_time": "2023-11-16T16:34:28.380Z"
   },
   {
    "duration": 10,
    "start_time": "2023-11-16T16:34:29.384Z"
   },
   {
    "duration": 2265,
    "start_time": "2023-11-16T16:34:31.022Z"
   },
   {
    "duration": 6,
    "start_time": "2023-11-16T16:34:46.092Z"
   },
   {
    "duration": 12,
    "start_time": "2023-11-16T16:34:47.919Z"
   },
   {
    "duration": 2821,
    "start_time": "2023-11-16T16:34:50.935Z"
   },
   {
    "duration": 7,
    "start_time": "2023-11-16T16:35:02.251Z"
   },
   {
    "duration": 10,
    "start_time": "2023-11-16T16:35:04.552Z"
   },
   {
    "duration": 2510,
    "start_time": "2023-11-16T16:35:06.783Z"
   },
   {
    "duration": 6,
    "start_time": "2023-11-16T16:36:18.786Z"
   },
   {
    "duration": 12,
    "start_time": "2023-11-16T16:36:21.211Z"
   },
   {
    "duration": 2309,
    "start_time": "2023-11-16T16:36:23.781Z"
   },
   {
    "duration": 10,
    "start_time": "2023-11-16T16:36:39.854Z"
   },
   {
    "duration": 12,
    "start_time": "2023-11-16T16:36:42.525Z"
   },
   {
    "duration": 2301,
    "start_time": "2023-11-16T16:36:45.391Z"
   },
   {
    "duration": 7,
    "start_time": "2023-11-16T16:37:06.494Z"
   },
   {
    "duration": 12,
    "start_time": "2023-11-16T16:37:07.516Z"
   },
   {
    "duration": 2356,
    "start_time": "2023-11-16T16:37:09.471Z"
   },
   {
    "duration": 9,
    "start_time": "2023-11-16T16:39:54.573Z"
   },
   {
    "duration": 9,
    "start_time": "2023-11-16T16:39:55.516Z"
   },
   {
    "duration": 2320,
    "start_time": "2023-11-16T16:39:57.786Z"
   },
   {
    "duration": 7,
    "start_time": "2023-11-16T16:40:12.808Z"
   },
   {
    "duration": 16,
    "start_time": "2023-11-16T16:40:13.967Z"
   },
   {
    "duration": 2317,
    "start_time": "2023-11-16T16:40:15.681Z"
   },
   {
    "duration": 1484,
    "start_time": "2023-11-16T16:41:23.308Z"
   },
   {
    "duration": 1881,
    "start_time": "2023-11-16T16:41:30.708Z"
   },
   {
    "duration": 911,
    "start_time": "2023-11-16T16:41:44.227Z"
   },
   {
    "duration": 4,
    "start_time": "2023-11-16T16:41:56.993Z"
   },
   {
    "duration": 2177,
    "start_time": "2023-11-16T16:42:00.615Z"
   },
   {
    "duration": 2232,
    "start_time": "2023-11-16T16:42:16.964Z"
   },
   {
    "duration": 2143,
    "start_time": "2023-11-16T16:42:25.897Z"
   },
   {
    "duration": 2069,
    "start_time": "2023-11-16T16:43:05.758Z"
   },
   {
    "duration": 861,
    "start_time": "2023-11-16T16:43:19.520Z"
   },
   {
    "duration": 4,
    "start_time": "2023-11-16T16:43:25.804Z"
   },
   {
    "duration": 2057,
    "start_time": "2023-11-16T16:43:31.443Z"
   },
   {
    "duration": 2255,
    "start_time": "2023-11-16T16:43:58.557Z"
   },
   {
    "duration": 2212,
    "start_time": "2023-11-16T16:44:26.232Z"
   },
   {
    "duration": 2402,
    "start_time": "2023-11-16T16:45:30.651Z"
   },
   {
    "duration": 1697,
    "start_time": "2023-11-16T16:45:53.579Z"
   },
   {
    "duration": 2514,
    "start_time": "2023-11-16T16:46:19.114Z"
   },
   {
    "duration": 18,
    "start_time": "2023-11-16T16:54:00.817Z"
   },
   {
    "duration": 127,
    "start_time": "2023-11-16T16:57:51.423Z"
   },
   {
    "duration": 1615,
    "start_time": "2023-11-16T16:58:09.689Z"
   },
   {
    "duration": 44,
    "start_time": "2023-11-16T16:58:11.306Z"
   },
   {
    "duration": 21,
    "start_time": "2023-11-16T16:58:11.352Z"
   },
   {
    "duration": 18,
    "start_time": "2023-11-16T16:58:11.383Z"
   },
   {
    "duration": 189,
    "start_time": "2023-11-16T16:58:11.403Z"
   },
   {
    "duration": 10,
    "start_time": "2023-11-16T16:58:11.594Z"
   },
   {
    "duration": 143,
    "start_time": "2023-11-16T16:58:11.606Z"
   },
   {
    "duration": 16,
    "start_time": "2023-11-16T16:58:11.751Z"
   },
   {
    "duration": 8,
    "start_time": "2023-11-16T16:58:11.769Z"
   },
   {
    "duration": 164,
    "start_time": "2023-11-16T16:58:11.780Z"
   },
   {
    "duration": 28,
    "start_time": "2023-11-16T16:58:11.946Z"
   },
   {
    "duration": 124,
    "start_time": "2023-11-16T16:58:11.982Z"
   },
   {
    "duration": 193,
    "start_time": "2023-11-16T16:58:12.108Z"
   },
   {
    "duration": 15,
    "start_time": "2023-11-16T16:58:12.305Z"
   },
   {
    "duration": 240,
    "start_time": "2023-11-16T16:58:12.322Z"
   },
   {
    "duration": 20,
    "start_time": "2023-11-16T16:58:12.564Z"
   },
   {
    "duration": 7,
    "start_time": "2023-11-16T16:58:12.590Z"
   },
   {
    "duration": 7,
    "start_time": "2023-11-16T16:58:12.599Z"
   },
   {
    "duration": 207,
    "start_time": "2023-11-16T16:58:12.608Z"
   },
   {
    "duration": 10,
    "start_time": "2023-11-16T16:58:12.817Z"
   },
   {
    "duration": 166,
    "start_time": "2023-11-16T16:58:12.828Z"
   },
   {
    "duration": 6,
    "start_time": "2023-11-16T16:58:12.995Z"
   },
   {
    "duration": 21,
    "start_time": "2023-11-16T16:58:13.003Z"
   },
   {
    "duration": 31,
    "start_time": "2023-11-16T16:58:13.026Z"
   },
   {
    "duration": 35,
    "start_time": "2023-11-16T16:58:13.058Z"
   },
   {
    "duration": 121,
    "start_time": "2023-11-16T16:58:13.095Z"
   },
   {
    "duration": 0,
    "start_time": "2023-11-16T16:58:13.217Z"
   },
   {
    "duration": 0,
    "start_time": "2023-11-16T16:58:13.219Z"
   },
   {
    "duration": 0,
    "start_time": "2023-11-16T16:58:13.220Z"
   },
   {
    "duration": 0,
    "start_time": "2023-11-16T16:58:13.221Z"
   },
   {
    "duration": 0,
    "start_time": "2023-11-16T16:58:13.222Z"
   },
   {
    "duration": 0,
    "start_time": "2023-11-16T16:58:13.223Z"
   },
   {
    "duration": 0,
    "start_time": "2023-11-16T16:58:13.224Z"
   },
   {
    "duration": 0,
    "start_time": "2023-11-16T16:58:13.225Z"
   },
   {
    "duration": 0,
    "start_time": "2023-11-16T16:58:13.226Z"
   },
   {
    "duration": 0,
    "start_time": "2023-11-16T16:58:13.228Z"
   },
   {
    "duration": 0,
    "start_time": "2023-11-16T16:58:13.229Z"
   },
   {
    "duration": 0,
    "start_time": "2023-11-16T16:58:13.230Z"
   },
   {
    "duration": 0,
    "start_time": "2023-11-16T16:58:13.231Z"
   },
   {
    "duration": 0,
    "start_time": "2023-11-16T16:58:13.233Z"
   },
   {
    "duration": 0,
    "start_time": "2023-11-16T16:58:13.234Z"
   },
   {
    "duration": 0,
    "start_time": "2023-11-16T16:58:13.236Z"
   },
   {
    "duration": 8,
    "start_time": "2023-11-16T16:59:17.691Z"
   },
   {
    "duration": 18,
    "start_time": "2023-11-16T16:59:34.545Z"
   },
   {
    "duration": 1533,
    "start_time": "2023-11-16T16:59:46.594Z"
   },
   {
    "duration": 49,
    "start_time": "2023-11-16T16:59:48.128Z"
   },
   {
    "duration": 15,
    "start_time": "2023-11-16T16:59:48.183Z"
   },
   {
    "duration": 18,
    "start_time": "2023-11-16T16:59:48.199Z"
   },
   {
    "duration": 171,
    "start_time": "2023-11-16T16:59:48.219Z"
   },
   {
    "duration": 8,
    "start_time": "2023-11-16T16:59:48.392Z"
   },
   {
    "duration": 142,
    "start_time": "2023-11-16T16:59:48.402Z"
   },
   {
    "duration": 7,
    "start_time": "2023-11-16T16:59:48.545Z"
   },
   {
    "duration": 31,
    "start_time": "2023-11-16T16:59:48.553Z"
   },
   {
    "duration": 149,
    "start_time": "2023-11-16T16:59:48.586Z"
   },
   {
    "duration": 9,
    "start_time": "2023-11-16T16:59:48.736Z"
   },
   {
    "duration": 151,
    "start_time": "2023-11-16T16:59:48.748Z"
   },
   {
    "duration": 220,
    "start_time": "2023-11-16T16:59:48.901Z"
   },
   {
    "duration": 11,
    "start_time": "2023-11-16T16:59:49.125Z"
   },
   {
    "duration": 236,
    "start_time": "2023-11-16T16:59:49.137Z"
   },
   {
    "duration": 10,
    "start_time": "2023-11-16T16:59:49.375Z"
   },
   {
    "duration": 6,
    "start_time": "2023-11-16T16:59:49.387Z"
   },
   {
    "duration": 5,
    "start_time": "2023-11-16T16:59:49.395Z"
   },
   {
    "duration": 206,
    "start_time": "2023-11-16T16:59:49.401Z"
   },
   {
    "duration": 9,
    "start_time": "2023-11-16T16:59:49.609Z"
   },
   {
    "duration": 158,
    "start_time": "2023-11-16T16:59:49.620Z"
   },
   {
    "duration": 6,
    "start_time": "2023-11-16T16:59:49.788Z"
   },
   {
    "duration": 17,
    "start_time": "2023-11-16T16:59:49.795Z"
   },
   {
    "duration": 22,
    "start_time": "2023-11-16T16:59:49.814Z"
   },
   {
    "duration": 139,
    "start_time": "2023-11-16T16:59:49.838Z"
   },
   {
    "duration": 0,
    "start_time": "2023-11-16T16:59:49.983Z"
   },
   {
    "duration": 0,
    "start_time": "2023-11-16T16:59:49.984Z"
   },
   {
    "duration": 0,
    "start_time": "2023-11-16T16:59:49.985Z"
   },
   {
    "duration": 0,
    "start_time": "2023-11-16T16:59:49.987Z"
   },
   {
    "duration": 0,
    "start_time": "2023-11-16T16:59:49.988Z"
   },
   {
    "duration": 0,
    "start_time": "2023-11-16T16:59:49.989Z"
   },
   {
    "duration": 0,
    "start_time": "2023-11-16T16:59:49.991Z"
   },
   {
    "duration": 0,
    "start_time": "2023-11-16T16:59:49.993Z"
   },
   {
    "duration": 0,
    "start_time": "2023-11-16T16:59:49.995Z"
   },
   {
    "duration": 0,
    "start_time": "2023-11-16T16:59:49.996Z"
   },
   {
    "duration": 0,
    "start_time": "2023-11-16T16:59:49.998Z"
   },
   {
    "duration": 0,
    "start_time": "2023-11-16T16:59:49.999Z"
   },
   {
    "duration": 1,
    "start_time": "2023-11-16T16:59:50.000Z"
   },
   {
    "duration": 0,
    "start_time": "2023-11-16T16:59:50.002Z"
   },
   {
    "duration": 0,
    "start_time": "2023-11-16T16:59:50.003Z"
   },
   {
    "duration": 1,
    "start_time": "2023-11-16T16:59:50.004Z"
   },
   {
    "duration": 0,
    "start_time": "2023-11-16T16:59:50.005Z"
   },
   {
    "duration": 31,
    "start_time": "2023-11-16T17:00:18.855Z"
   },
   {
    "duration": 84,
    "start_time": "2023-11-16T17:00:38.432Z"
   },
   {
    "duration": 29,
    "start_time": "2023-11-16T17:00:43.949Z"
   },
   {
    "duration": 29,
    "start_time": "2023-11-16T17:01:19.230Z"
   },
   {
    "duration": 37,
    "start_time": "2023-11-16T17:01:21.241Z"
   },
   {
    "duration": 16,
    "start_time": "2023-11-16T17:01:21.943Z"
   },
   {
    "duration": 36,
    "start_time": "2023-11-16T17:01:34.106Z"
   },
   {
    "duration": 28,
    "start_time": "2023-11-16T17:01:47.204Z"
   },
   {
    "duration": 24,
    "start_time": "2023-11-16T17:01:52.481Z"
   },
   {
    "duration": 49,
    "start_time": "2023-11-16T17:01:54.032Z"
   },
   {
    "duration": 8,
    "start_time": "2023-11-16T17:02:08.034Z"
   },
   {
    "duration": 10,
    "start_time": "2023-11-16T17:02:29.225Z"
   },
   {
    "duration": 11,
    "start_time": "2023-11-16T17:02:39.685Z"
   },
   {
    "duration": 1139,
    "start_time": "2023-11-16T17:02:39.938Z"
   },
   {
    "duration": 1144,
    "start_time": "2023-11-16T17:03:45.257Z"
   },
   {
    "duration": 687,
    "start_time": "2023-11-16T17:03:55.821Z"
   },
   {
    "duration": 5,
    "start_time": "2023-11-16T17:05:24.009Z"
   },
   {
    "duration": 50,
    "start_time": "2023-11-16T17:05:24.572Z"
   },
   {
    "duration": 13,
    "start_time": "2023-11-16T17:05:25.024Z"
   },
   {
    "duration": 14,
    "start_time": "2023-11-16T17:05:25.199Z"
   },
   {
    "duration": 154,
    "start_time": "2023-11-16T17:05:28.037Z"
   },
   {
    "duration": 11,
    "start_time": "2023-11-16T17:05:28.441Z"
   },
   {
    "duration": 129,
    "start_time": "2023-11-16T17:05:28.774Z"
   },
   {
    "duration": 7,
    "start_time": "2023-11-16T17:05:29.438Z"
   },
   {
    "duration": 11,
    "start_time": "2023-11-16T17:05:29.863Z"
   },
   {
    "duration": 200,
    "start_time": "2023-11-16T17:05:30.351Z"
   },
   {
    "duration": 9,
    "start_time": "2023-11-16T17:05:30.852Z"
   },
   {
    "duration": 178,
    "start_time": "2023-11-16T17:05:30.864Z"
   },
   {
    "duration": 340,
    "start_time": "2023-11-16T17:05:31.305Z"
   },
   {
    "duration": 28,
    "start_time": "2023-11-16T17:05:31.647Z"
   },
   {
    "duration": 129,
    "start_time": "2023-11-16T17:05:31.803Z"
   },
   {
    "duration": 6,
    "start_time": "2023-11-16T17:05:32.511Z"
   },
   {
    "duration": 6,
    "start_time": "2023-11-16T17:05:32.830Z"
   },
   {
    "duration": 7,
    "start_time": "2023-11-16T17:05:33.023Z"
   },
   {
    "duration": 196,
    "start_time": "2023-11-16T17:05:33.913Z"
   },
   {
    "duration": 9,
    "start_time": "2023-11-16T17:05:34.184Z"
   },
   {
    "duration": 140,
    "start_time": "2023-11-16T17:05:35.027Z"
   },
   {
    "duration": 7,
    "start_time": "2023-11-16T17:05:35.588Z"
   },
   {
    "duration": 8,
    "start_time": "2023-11-16T17:05:37.999Z"
   },
   {
    "duration": 16,
    "start_time": "2023-11-16T17:05:46.697Z"
   },
   {
    "duration": 18,
    "start_time": "2023-11-16T17:05:52.085Z"
   },
   {
    "duration": 23,
    "start_time": "2023-11-16T17:05:54.714Z"
   },
   {
    "duration": 22,
    "start_time": "2023-11-16T17:06:38.394Z"
   },
   {
    "duration": 37,
    "start_time": "2023-11-16T17:06:39.293Z"
   },
   {
    "duration": 17,
    "start_time": "2023-11-16T17:06:39.700Z"
   },
   {
    "duration": 17,
    "start_time": "2023-11-16T17:06:41.869Z"
   },
   {
    "duration": 6,
    "start_time": "2023-11-16T17:06:45.439Z"
   },
   {
    "duration": 8,
    "start_time": "2023-11-16T17:06:48.406Z"
   },
   {
    "duration": 10,
    "start_time": "2023-11-16T17:06:50.103Z"
   },
   {
    "duration": 1158,
    "start_time": "2023-11-16T17:06:58.337Z"
   },
   {
    "duration": 738,
    "start_time": "2023-11-16T17:10:08.644Z"
   },
   {
    "duration": 905,
    "start_time": "2023-11-16T17:10:56.156Z"
   },
   {
    "duration": 530,
    "start_time": "2023-11-16T17:11:48.052Z"
   },
   {
    "duration": 4,
    "start_time": "2023-11-16T17:12:25.619Z"
   },
   {
    "duration": 951,
    "start_time": "2023-11-16T17:12:29.771Z"
   },
   {
    "duration": 894,
    "start_time": "2023-11-16T17:13:05.884Z"
   },
   {
    "duration": 996,
    "start_time": "2023-11-16T17:14:16.015Z"
   },
   {
    "duration": 1111,
    "start_time": "2023-11-16T17:15:40.162Z"
   },
   {
    "duration": 629,
    "start_time": "2023-11-16T17:18:17.534Z"
   },
   {
    "duration": 80,
    "start_time": "2023-11-16T17:20:00.291Z"
   },
   {
    "duration": 599,
    "start_time": "2023-11-16T17:20:16.734Z"
   }
  ],
  "kernelspec": {
   "display_name": "Python 3 (ipykernel)",
   "language": "python",
   "name": "python3"
  },
  "language_info": {
   "codemirror_mode": {
    "name": "ipython",
    "version": 3
   },
   "file_extension": ".py",
   "mimetype": "text/x-python",
   "name": "python",
   "nbconvert_exporter": "python",
   "pygments_lexer": "ipython3",
   "version": "3.10.9"
  },
  "toc": {
   "base_numbering": 1,
   "nav_menu": {},
   "number_sections": true,
   "sideBar": true,
   "skip_h1_title": true,
   "title_cell": "Содержание",
   "title_sidebar": "Contents",
   "toc_cell": true,
   "toc_position": {
    "height": "calc(100% - 180px)",
    "left": "10px",
    "top": "150px",
    "width": "398.195px"
   },
   "toc_section_display": true,
   "toc_window_display": true
  }
 },
 "nbformat": 4,
 "nbformat_minor": 2
}
